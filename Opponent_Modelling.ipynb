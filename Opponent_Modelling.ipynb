{
  "cells": [
    {
      "cell_type": "markdown",
      "metadata": {
        "id": "view-in-github",
        "colab_type": "text"
      },
      "source": [
        "<a href=\"https://colab.research.google.com/github/gurnoor6/opponent-modelling/blob/main/Opponent_Modelling.ipynb\" target=\"_parent\"><img src=\"https://colab.research.google.com/assets/colab-badge.svg\" alt=\"Open In Colab\"/></a>"
      ]
    },
    {
      "cell_type": "code",
      "execution_count": 57,
      "metadata": {
        "colab": {
          "base_uri": "https://localhost:8080/"
        },
        "id": "P8qm5R4EZ1y-",
        "outputId": "f0ff6ca9-8be8-4e04-bfb4-7d0cedcf564e"
      },
      "outputs": [
        {
          "output_type": "stream",
          "name": "stdout",
          "text": [
            "4942\n",
            "412591.npz 412614.npz\n"
          ]
        }
      ],
      "source": [
        "import shutil, os\n",
        "filename_train = 'oracle_logs'\n",
        "filename_validation = 'oracle_logs'\n",
        "if os.path.exists(filename_train):\n",
        "  shutil.rmtree(filename_train)\n",
        "if os.path.exists(filename_validation):\n",
        "  shutil.rmtree(filename_validation)\n",
        "shutil.unpack_archive(f'{filename_train}.zip', './')\n",
        "# shutil.unpack_archive('validation.zip', './')\n",
        "print(len(os.listdir(filename_train)))\n",
        "# print(len(os.listdir('validation')))\n",
        "train_filenames = os.listdir(filename_train)[:4000]\n",
        "# val_filenames = os.listdir('validation')\n",
        "val_filenames = os.listdir(filename_train)[4000:]\n",
        "train_filenames.sort()\n",
        "val_filenames.sort()\n",
        "print(train_filenames[0], val_filenames[0])"
      ]
    },
    {
      "cell_type": "code",
      "execution_count": 58,
      "metadata": {
        "colab": {
          "base_uri": "https://localhost:8080/"
        },
        "id": "hAl5gyGO0eRj",
        "outputId": "5639ac9e-ff6d-4f46-b181-65ab62c5f677"
      },
      "outputs": [
        {
          "output_type": "stream",
          "name": "stdout",
          "text": [
            "Num GPUs Available:  1\n",
            "Found GPU at: /device:GPU:0\n"
          ]
        }
      ],
      "source": [
        "import tensorflow as tf\n",
        "import tensorflow_datasets as tfds\n",
        "print(\"Num GPUs Available: \", len(tf.config.list_physical_devices('GPU')))\n",
        "device_name = tf.test.gpu_device_name()\n",
        "if device_name != '/device:GPU:0':\n",
        "  raise SystemError('GPU device not found')\n",
        "print('Found GPU at: {}'.format(device_name))"
      ]
    },
    {
      "cell_type": "code",
      "execution_count": 59,
      "metadata": {
        "id": "ru8caUd_UaAG"
      },
      "outputs": [],
      "source": [
        "# Constants\n",
        "T = 8 # Number of Timesteps for which boards are present in input\n",
        "N = 8 # board size\n",
        "HIDDEN_LAYER = 1 # hidden layer will be N * N * HIDDEN_LAYER neurons long\n",
        "OUTPUT_LAYER = 73 # output layer will be N * N * OUTPUT_LAYER neurons long\n",
        "BLOCKS = 10\n",
        "FILTERS = 128"
      ]
    },
    {
      "cell_type": "code",
      "execution_count": 60,
      "metadata": {
        "id": "LhS4zvoGFHDv"
      },
      "outputs": [],
      "source": [
        "import numpy as np\n",
        "\n",
        "class My_Custom_Generator(tf.keras.utils.Sequence) :\n",
        "  \n",
        "  def __init__(self, filenames, batch_size, randomize, folder_name) :\n",
        "    self.filenames = filenames\n",
        "    self.batch_size = batch_size\n",
        "    self.randomize = randomize\n",
        "    self.folder_name = folder_name\n",
        "    self.boards_per_game = 4\n",
        "    \n",
        "    \n",
        "  def __len__(self) :\n",
        "    return (np.ceil(len(self.filenames) / float(self.batch_size))).astype(int)\n",
        "  \n",
        "  \n",
        "  def __getitem__(self, idx) :\n",
        "    filenames = self.filenames[idx * self.batch_size : (idx+1) * self.batch_size]\n",
        "\n",
        "    inputs = []\n",
        "    outputs = []\n",
        "    legal_moves = []\n",
        "    for f in filenames:\n",
        "      if not f.endswith('.npz'): continue\n",
        "      loaded = np.load(os.path.join(self.folder_name, f))\n",
        "      length = len(loaded['inputs'])\n",
        "      index = np.random.choice(length, length,replace=False)\n",
        "      if self.randomize:\n",
        "        index = np.random.choice(length, min(self.boards_per_game, length), replace = False)\n",
        "      inputs.extend(loaded['inputs'][index])\n",
        "      outputs.extend(loaded['outputs'][index])\n",
        "      legal_moves.extend(loaded['legal_moves'][index])\n",
        "    \n",
        "    # Y_new = []\n",
        "    # for item in outputs: Y_new.append(item.flatten())\n",
        "    \n",
        "    # print(np.array(inputs).shape, np.array(Y_new).shape)\n",
        "    return (np.array(inputs), np.array(legal_moves)), np.array(outputs)"
      ]
    },
    {
      "cell_type": "code",
      "execution_count": 61,
      "metadata": {
        "id": "fGGgUwdHGyP4"
      },
      "outputs": [],
      "source": [
        "batch_size = 32\n",
        "\n",
        "training_generator = My_Custom_Generator(train_filenames, batch_size, True, filename_train)\n",
        "validation_generator = My_Custom_Generator(val_filenames, batch_size, False, filename_validation)"
      ]
    },
    {
      "cell_type": "code",
      "execution_count": 69,
      "metadata": {
        "colab": {
          "base_uri": "https://localhost:8080/"
        },
        "id": "Pmp43EBuE09A",
        "outputId": "3999274e-7e09-4b7e-ba8f-a5f0617a260f"
      },
      "outputs": [
        {
          "output_type": "stream",
          "name": "stdout",
          "text": [
            "Model: \"model_13\"\n",
            "__________________________________________________________________________________________________\n",
            " Layer (type)                   Output Shape         Param #     Connected to                     \n",
            "==================================================================================================\n",
            " input_37 (InputLayer)          [(None, 112, 8, 8)]  0           []                               \n",
            "                                                                                                  \n",
            " leaky_re_lu_70 (LeakyReLU)     (None, 112, 8, 8)    0           ['input_37[0][0]']               \n",
            "                                                                                                  \n",
            " conv2d_53 (Conv2D)             (None, 128, 8, 8)    129152      ['leaky_re_lu_70[0][0]']         \n",
            "                                                                                                  \n",
            " batch_normalization_53 (BatchN  (None, 128, 8, 8)   32          ['conv2d_53[0][0]']              \n",
            " ormalization)                                                                                    \n",
            "                                                                                                  \n",
            " leaky_re_lu_71 (LeakyReLU)     (None, 128, 8, 8)    0           ['batch_normalization_53[0][0]'] \n",
            "                                                                                                  \n",
            " conv2d_54 (Conv2D)             (None, 112, 8, 8)    129136      ['leaky_re_lu_71[0][0]']         \n",
            "                                                                                                  \n",
            " batch_normalization_54 (BatchN  (None, 112, 8, 8)   32          ['conv2d_54[0][0]']              \n",
            " ormalization)                                                                                    \n",
            "                                                                                                  \n",
            " add_30 (Add)                   (None, 112, 8, 8)    0           ['leaky_re_lu_70[0][0]',         \n",
            "                                                                  'batch_normalization_54[0][0]'] \n",
            "                                                                                                  \n",
            " leaky_re_lu_72 (LeakyReLU)     (None, 112, 8, 8)    0           ['add_30[0][0]']                 \n",
            "                                                                                                  \n",
            " conv2d_55 (Conv2D)             (None, 10, 8, 8)     10090       ['leaky_re_lu_72[0][0]']         \n",
            "                                                                                                  \n",
            " batch_normalization_55 (BatchN  (None, 10, 8, 8)    32          ['conv2d_55[0][0]']              \n",
            " ormalization)                                                                                    \n",
            "                                                                                                  \n",
            " leaky_re_lu_73 (LeakyReLU)     (None, 10, 8, 8)     0           ['batch_normalization_55[0][0]'] \n",
            "                                                                                                  \n",
            " flatten_17 (Flatten)           (None, 640)          0           ['leaky_re_lu_73[0][0]']         \n",
            "                                                                                                  \n",
            " dense_14 (Dense)               (None, 1858)         1190978     ['flatten_17[0][0]']             \n",
            "                                                                                                  \n",
            " input_38 (InputLayer)          [(None, 1858)]       0           []                               \n",
            "                                                                                                  \n",
            " softmax_13 (Softmax)           (None, 1858)         0           ['dense_14[0][0]']               \n",
            "                                                                                                  \n",
            "==================================================================================================\n",
            "Total params: 1,459,452\n",
            "Trainable params: 1,459,404\n",
            "Non-trainable params: 48\n",
            "__________________________________________________________________________________________________\n"
          ]
        }
      ],
      "source": [
        "inputs = tf.keras.Input(shape=(112, 8, 8))\n",
        "legal_moves_input = tf.keras.Input(shape = (1858))\n",
        "x1 = tf.keras.layers.LeakyReLU()(inputs)\n",
        "\n",
        "\n",
        "x = tf.keras.layers.Conv2D(128, (3, 3), activation=\"relu\", padding=\"same\", data_format = 'channels_first')(x1)\n",
        "x = tf.keras.layers.BatchNormalization()(x)\n",
        "x = tf.keras.layers.LeakyReLU()(x)\n",
        "\n",
        "x = tf.keras.layers.Conv2D(112, (3, 3), activation=\"relu\", padding=\"same\", data_format = 'channels_first')(x)\n",
        "x = tf.keras.layers.BatchNormalization()(x)\n",
        "\n",
        "added = tf.keras.layers.add([x1, x])\n",
        "x = tf.keras.layers.LeakyReLU()(added)\n",
        "\n",
        "x = tf.keras.layers.Conv2D(10, (3,3),activation=\"relu\", padding=\"same\", data_format = 'channels_first')(x)\n",
        "x = tf.keras.layers.BatchNormalization()(x)\n",
        "x = tf.keras.layers.LeakyReLU()(x)\n",
        "x = tf.keras.layers.Flatten()(x)\n",
        "x = tf.keras.layers.Dense(1858, activation = 'relu')(x)\n",
        "\n",
        "\n",
        "# x = tf.keras.layers.add([x, legal_moves_input])\n",
        "\n",
        "x = tf.keras.layers.Softmax()(x)\n",
        "model = tf.keras.Model(inputs = [inputs, legal_moves_input], outputs = x)\n",
        "model.summary()\n",
        "# tf.keras.utils.plot_model(model, \"multi_input_and_output_model.png\", show_shapes=True)"
      ]
    },
    {
      "cell_type": "code",
      "execution_count": 70,
      "metadata": {
        "id": "ESOyGRnH0xgR"
      },
      "outputs": [],
      "source": [
        "model.compile(\n",
        "    optimizer=tf.keras.optimizers.Adam(0.001),\n",
        "    # loss=tf.keras.losses.MeanSquaredError(),\n",
        "    loss=tf.keras.losses.CategoricalCrossentropy(),\n",
        "    metrics=[tf.keras.metrics.CategoricalAccuracy()],\n",
        ")"
      ]
    },
    {
      "cell_type": "code",
      "execution_count": 71,
      "metadata": {
        "colab": {
          "base_uri": "https://localhost:8080/"
        },
        "id": "Ur9OAs8lHI51",
        "outputId": "e97c5767-2afb-41e2-a3f8-fd7f7d7af9c6"
      },
      "outputs": [
        {
          "output_type": "stream",
          "name": "stderr",
          "text": [
            "/usr/local/lib/python3.7/dist-packages/ipykernel_launcher.py:6: UserWarning: `Model.fit_generator` is deprecated and will be removed in a future version. Please use `Model.fit`, which supports generators.\n",
            "  \n"
          ]
        },
        {
          "output_type": "stream",
          "name": "stdout",
          "text": [
            "Epoch 1/10\n",
            "125/125 [==============================] - 72s 574ms/step - loss: 5.4569 - categorical_accuracy: 0.1665 - val_loss: 6.8702 - val_categorical_accuracy: 0.1112\n",
            "Epoch 2/10\n",
            "125/125 [==============================] - 63s 508ms/step - loss: 4.9374 - categorical_accuracy: 0.2333 - val_loss: 5.8838 - val_categorical_accuracy: 0.1768\n",
            "Epoch 3/10\n",
            "125/125 [==============================] - 63s 508ms/step - loss: 4.7297 - categorical_accuracy: 0.2608 - val_loss: 5.4116 - val_categorical_accuracy: 0.2090\n",
            "Epoch 4/10\n",
            "125/125 [==============================] - 64s 510ms/step - loss: 4.5946 - categorical_accuracy: 0.2834 - val_loss: 5.3048 - val_categorical_accuracy: 0.2128\n",
            "Epoch 5/10\n",
            "125/125 [==============================] - 63s 507ms/step - loss: 4.5273 - categorical_accuracy: 0.2949 - val_loss: 5.2788 - val_categorical_accuracy: 0.2200\n",
            "Epoch 6/10\n",
            "125/125 [==============================] - 71s 568ms/step - loss: 4.4751 - categorical_accuracy: 0.3050 - val_loss: 5.2457 - val_categorical_accuracy: 0.2249\n",
            "Epoch 7/10\n",
            "125/125 [==============================] - 63s 506ms/step - loss: 4.4305 - categorical_accuracy: 0.3099 - val_loss: 5.1858 - val_categorical_accuracy: 0.2286\n",
            "Epoch 8/10\n",
            "125/125 [==============================] - 63s 508ms/step - loss: 4.4450 - categorical_accuracy: 0.3170 - val_loss: 5.1657 - val_categorical_accuracy: 0.2356\n",
            "Epoch 9/10\n",
            "125/125 [==============================] - 63s 508ms/step - loss: 4.3556 - categorical_accuracy: 0.3234 - val_loss: 5.1270 - val_categorical_accuracy: 0.2332\n",
            "Epoch 10/10\n",
            "125/125 [==============================] - 63s 503ms/step - loss: 4.3194 - categorical_accuracy: 0.3281 - val_loss: 5.1106 - val_categorical_accuracy: 0.2490\n"
          ]
        }
      ],
      "source": [
        "history = model.fit_generator(generator=training_generator,\n",
        "                   steps_per_epoch = int(len(train_filenames) // batch_size),\n",
        "                   epochs = 10,\n",
        "                   verbose = 1,\n",
        "                   validation_data = validation_generator,\n",
        "                   validation_steps = int(min(1000, len(val_filenames)) // batch_size)  # Use only 1000 samples for validation\n",
        "                  )"
      ]
    },
    {
      "cell_type": "code",
      "execution_count": 73,
      "metadata": {
        "colab": {
          "base_uri": "https://localhost:8080/",
          "height": 312
        },
        "id": "-J1ZAE5s8tqb",
        "outputId": "89083cdf-6d37-4aca-ac7f-8bfde38a8c11"
      },
      "outputs": [
        {
          "output_type": "execute_result",
          "data": {
            "text/plain": [
              "[<matplotlib.lines.Line2D at 0x7f26cecf5450>]"
            ]
          },
          "metadata": {},
          "execution_count": 73
        },
        {
          "output_type": "display_data",
          "data": {
            "text/plain": [
              "<Figure size 432x288 with 1 Axes>"
            ],
            "image/png": "[encoded data removed]"
          },
          "metadata": {
            "needs_background": "light"
          }
        }
      ],
      "source": [
        "# Plot the loss a sa function of number of epochs\n",
        "import matplotlib.pyplot as plt\n",
        "plt.title('Training Loss')\n",
        "plt.xlabel('epochs')\n",
        "plt.ylabel('Cross Entropy loss')\n",
        "plt.plot(list(map(lambda x: x+1, range(len(history.history['loss'])))),  history.history['loss'])"
      ]
    },
    {
      "cell_type": "code",
      "execution_count": 76,
      "metadata": {
        "colab": {
          "base_uri": "https://localhost:8080/",
          "height": 312
        },
        "id": "5xGRMhZmisMR",
        "outputId": "046da6de-79cd-4c56-c863-e29be5541fab"
      },
      "outputs": [
        {
          "output_type": "execute_result",
          "data": {
            "text/plain": [
              "[<matplotlib.lines.Line2D at 0x7f26591214d0>]"
            ]
          },
          "metadata": {},
          "execution_count": 76
        },
        {
          "output_type": "display_data",
          "data": {
            "text/plain": [
              "<Figure size 432x288 with 1 Axes>"
            ],
            "image/png": "[encoded data removed]"
          },
          "metadata": {
            "needs_background": "light"
          }
        }
      ],
      "source": [
        "plt.title('Training Accuracy')\n",
        "plt.xlabel('epochs')\n",
        "plt.ylabel('Accuracy')\n",
        "plt.plot(list(map(lambda x: x+1, range(len(history.history['categorical_accuracy'])))),  history.history['categorical_accuracy'])"
      ]
    },
    {
      "cell_type": "code",
      "execution_count": 75,
      "metadata": {
        "colab": {
          "base_uri": "https://localhost:8080/",
          "height": 312
        },
        "id": "lZFfRfr4Bq32",
        "outputId": "09f6ffd7-924c-40df-aac8-048f87d21912"
      },
      "outputs": [
        {
          "output_type": "execute_result",
          "data": {
            "text/plain": [
              "[<matplotlib.lines.Line2D at 0x7f26591a16d0>]"
            ]
          },
          "metadata": {},
          "execution_count": 75
        },
        {
          "output_type": "display_data",
          "data": {
            "text/plain": [
              "<Figure size 432x288 with 1 Axes>"
            ],
            "image/png": "[encoded data removed]"
          },
          "metadata": {
            "needs_background": "light"
          }
        }
      ],
      "source": [
        "# Plot the loss a sa function of number of epochs\n",
        "plt.title('Validation Loss')\n",
        "plt.xlabel('epochs')\n",
        "plt.ylabel('Cross Entropy  loss')\n",
        "plt.plot(list(map(lambda x: x+1, range(len(history.history['val_loss'])))),  history.history['val_loss'])"
      ]
    },
    {
      "cell_type": "code",
      "execution_count": 77,
      "metadata": {
        "colab": {
          "base_uri": "https://localhost:8080/",
          "height": 312
        },
        "id": "-4UDQNLIi5w1",
        "outputId": "ea720272-e894-4276-9d30-b35a73b05d9f"
      },
      "outputs": [
        {
          "output_type": "execute_result",
          "data": {
            "text/plain": [
              "[<matplotlib.lines.Line2D at 0x7f26cea74ed0>]"
            ]
          },
          "metadata": {},
          "execution_count": 77
        },
        {
          "output_type": "display_data",
          "data": {
            "text/plain": [
              "<Figure size 432x288 with 1 Axes>"
            ],
            "image/png": "[encoded data removed]"
          },
          "metadata": {
            "needs_background": "light"
          }
        }
      ],
      "source": [
        "# Plot the loss a sa function of number of epochs\n",
        "plt.title('Validation Accuracy')\n",
        "plt.xlabel('epochs')\n",
        "plt.ylabel('Accuracy')\n",
        "plt.plot(list(map(lambda x: x+1, range(len(history.history['val_categorical_accuracy'])))),  history.history['val_categorical_accuracy'])"
      ]
    },
    {
      "cell_type": "code",
      "execution_count": 78,
      "metadata": {
        "colab": {
          "base_uri": "https://localhost:8080/"
        },
        "id": "Om3ur4YIBrA1",
        "outputId": "9769f5c2-7718-41c7-c5f8-80161cbd6f03"
      },
      "outputs": [
        {
          "output_type": "stream",
          "name": "stdout",
          "text": [
            "{'loss': [5.456868648529053, 4.937417030334473, 4.729699611663818, 4.594610214233398, 4.527276992797852, 4.475076675415039, 4.430450916290283, 4.445039749145508, 4.355615615844727, 4.31943941116333], 'categorical_accuracy': [0.166540265083313, 0.23334597051143646, 0.2608393430709839, 0.28340286016464233, 0.2949058413505554, 0.3050183355808258, 0.3099481761455536, 0.31702691316604614, 0.3234104514122009, 0.3280874788761139], 'val_loss': [6.870179653167725, 5.8838396072387695, 5.4116129875183105, 5.304834842681885, 5.278841018676758, 5.245695114135742, 5.185806751251221, 5.165689468383789, 5.126965522766113, 5.110598087310791], 'val_categorical_accuracy': [0.11118801683187485, 0.1768428385257721, 0.20902754366397858, 0.21283432841300964, 0.22000296413898468, 0.22494685649871826, 0.22855588793754578, 0.23557621240615845, 0.23315370082855225, 0.24897414445877075]}\n"
          ]
        }
      ],
      "source": [
        "print(history.history)"
      ]
    },
    {
      "cell_type": "code",
      "execution_count": null,
      "metadata": {
        "id": "QCZ5xPh5G3cv"
      },
      "outputs": [],
      "source": [
        "from google.colab import files\n",
        "\n",
        "folder_name = \"saved-model\"\n",
        "\n",
        "if os.path.exists(folder_name):\n",
        "  shutil.rmtree(folder_name)\n",
        "os.mkdir(folder_name)\n",
        "\n",
        "if os.path.exists(folder_name + \".zip\"):\n",
        "  os.remove(folder_name + \".zip\")\n",
        "model.save(folder_name)\n",
        "\n",
        "shutil.make_archive(folder_name, 'zip', folder_name)\n",
        "files.download(folder_name + \".zip\")"
      ]
    }
  ],
  "metadata": {
    "accelerator": "GPU",
    "colab": {
      "collapsed_sections": [],
      "name": "Opponent Modelling.ipynb",
      "provenance": [],
      "include_colab_link": true
    },
    "kernelspec": {
      "display_name": "Python 3",
      "name": "python3"
    },
    "language_info": {
      "name": "python"
    }
  },
  "nbformat": 4,
  "nbformat_minor": 0
}