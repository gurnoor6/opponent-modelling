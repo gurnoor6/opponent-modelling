{
  "cells": [
    {
      "cell_type": "markdown",
      "metadata": {
        "id": "view-in-github",
        "colab_type": "text"
      },
      "source": [
        "<a href=\"https://colab.research.google.com/github/gurnoor6/opponent-modelling/blob/main/Opponent_Modelling.ipynb\" target=\"_parent\"><img src=\"https://colab.research.google.com/assets/colab-badge.svg\" alt=\"Open In Colab\"/></a>"
      ]
    },
    {
      "cell_type": "code",
      "execution_count": null,
      "metadata": {
        "colab": {
          "base_uri": "https://localhost:8080/"
        },
        "id": "P8qm5R4EZ1y-",
        "outputId": "c8328019-f0cd-4ee0-95bb-f4db8cf46f3e"
      },
      "outputs": [
        {
          "output_type": "stream",
          "name": "stdout",
          "text": [
            "18122\n",
            "1000\n",
            "316756.npz 402311.npz\n"
          ]
        }
      ],
      "source": [
        "import shutil, os\n",
        "# shutil.rmtree(\"game_logs\")\n",
        "if os.path.exists('game_logs'):\n",
        "  shutil.rmtree(\"game_logs\")\n",
        "if os.path.exists('validation'):\n",
        "  shutil.rmtree(\"validation\")\n",
        "shutil.unpack_archive('game_logs.zip', './')\n",
        "shutil.unpack_archive('validation.zip', './')\n",
        "print(len(os.listdir('game_logs')))\n",
        "print(len(os.listdir('validation')))\n",
        "train_filenames = os.listdir('game_logs')\n",
        "val_filenames = os.listdir('validation')\n",
        "train_filenames.sort()\n",
        "val_filenames.sort()\n",
        "print(train_filenames[0], val_filenames[0])"
      ]
    },
    {
      "cell_type": "code",
      "execution_count": null,
      "metadata": {
        "colab": {
          "base_uri": "https://localhost:8080/"
        },
        "id": "hAl5gyGO0eRj",
        "outputId": "ffb492e9-d487-4adb-be8c-55224cb65a95"
      },
      "outputs": [
        {
          "output_type": "stream",
          "name": "stdout",
          "text": [
            "Num GPUs Available:  1\n",
            "Found GPU at: /device:GPU:0\n"
          ]
        }
      ],
      "source": [
        "import tensorflow as tf\n",
        "import tensorflow_datasets as tfds\n",
        "print(\"Num GPUs Available: \", len(tf.config.list_physical_devices('GPU')))\n",
        "device_name = tf.test.gpu_device_name()\n",
        "if device_name != '/device:GPU:0':\n",
        "  raise SystemError('GPU device not found')\n",
        "print('Found GPU at: {}'.format(device_name))"
      ]
    },
    {
      "cell_type": "code",
      "execution_count": null,
      "metadata": {
        "id": "ru8caUd_UaAG"
      },
      "outputs": [],
      "source": [
        "# Constants\n",
        "T = 1 # Number of Timesteps for which boards are present in input\n",
        "N = 8 # board size\n",
        "HIDDEN_LAYER = 1 # hidden layer will be N * N * HIDDEN_LAYER neurons long\n",
        "OUTPUT_LAYER = 73 # output layer will be N * N * OUTPUT_LAYER neurons long\n",
        "BLOCKS = 10\n",
        "FILTERS = 128"
      ]
    },
    {
      "cell_type": "code",
      "source": [
        "import numpy as np\n",
        "\n",
        "class My_Custom_Generator(tf.keras.utils.Sequence) :\n",
        "  \n",
        "  def __init__(self, filenames, batch_size, randomize, folder_name) :\n",
        "    self.filenames = filenames\n",
        "    self.batch_size = batch_size\n",
        "    self.randomize = randomize\n",
        "    self.folder_name = folder_name\n",
        "    self.boards_per_game = 4\n",
        "    \n",
        "    \n",
        "  def __len__(self) :\n",
        "    return (np.ceil(len(self.filenames) / float(self.batch_size))).astype(int)\n",
        "  \n",
        "  \n",
        "  def __getitem__(self, idx) :\n",
        "    filenames = self.filenames[idx * self.batch_size : (idx+1) * self.batch_size]\n",
        "\n",
        "    inputs = []\n",
        "    outputs = []\n",
        "    legal_moves = []\n",
        "    for f in filenames:\n",
        "      if not f.endswith('.npz'): continue\n",
        "      loaded = np.load(os.path.join(self.folder_name, f))\n",
        "      length = len(loaded['inputs'])\n",
        "      index = np.random.choice(length, length,replace=False)\n",
        "      if self.randomize:\n",
        "        index = np.random.choice(length, min(self.boards_per_game, length), replace = False)\n",
        "      inputs.extend(loaded['inputs'][index])\n",
        "      outputs.extend(loaded['outputs'][index])\n",
        "      legal_moves.extend(loaded['legal_moves'][index])\n",
        "    \n",
        "    # Y_new = []\n",
        "    # for item in outputs: Y_new.append(item.flatten())\n",
        "    \n",
        "    # print(np.array(inputs).shape, np.array(Y_new).shape)\n",
        "    return (np.array(inputs), np.array(legal_moves)), np.array(outputs)"
      ],
      "metadata": {
        "id": "LhS4zvoGFHDv"
      },
      "execution_count": null,
      "outputs": []
    },
    {
      "cell_type": "code",
      "source": [
        "batch_size = 32\n",
        "\n",
        "training_generator = My_Custom_Generator(train_filenames, batch_size, True, 'game_logs')\n",
        "validation_generator = My_Custom_Generator(val_filenames, batch_size, False, 'validation')"
      ],
      "metadata": {
        "id": "fGGgUwdHGyP4"
      },
      "execution_count": null,
      "outputs": []
    },
    {
      "cell_type": "code",
      "source": [
        "inputs = tf.keras.Input(shape=(20, 8, 8))\n",
        "legal_moves_input = tf.keras.Input(shape = (1858))\n",
        "x1 = tf.keras.layers.LeakyReLU()(inputs)\n",
        "\n",
        "\n",
        "x = tf.keras.layers.Conv2D(128, (3, 3), activation=\"relu\", padding=\"same\", data_format = 'channels_first')(x1)\n",
        "x = tf.keras.layers.BatchNormalization()(x)\n",
        "x = tf.keras.layers.LeakyReLU()(x)\n",
        "\n",
        "x = tf.keras.layers.Conv2D(20, (3, 3), activation=\"relu\", padding=\"same\", data_format = 'channels_first')(x)\n",
        "x = tf.keras.layers.BatchNormalization()(x)\n",
        "\n",
        "added = tf.keras.layers.add([x1, x])\n",
        "x = tf.keras.layers.LeakyReLU()(added)\n",
        "\n",
        "x = tf.keras.layers.Conv2D(60, (3,3),activation=\"relu\", padding=\"same\", data_format = 'channels_first')(x)\n",
        "x = tf.keras.layers.BatchNormalization()(x)\n",
        "x = tf.keras.layers.LeakyReLU()(x)\n",
        "x = tf.keras.layers.Flatten()(x)\n",
        "x = tf.keras.layers.Dense(1858, activation = 'relu')(x)\n",
        "\n",
        "\n",
        "x = tf.keras.layers.Multiply()([x, legal_moves_input])\n",
        "\n",
        "x = tf.keras.layers.Softmax()(x)\n",
        "model = tf.keras.Model(inputs = [inputs, legal_moves_input], outputs = x)\n",
        "model.summary()\n",
        "# tf.keras.utils.plot_model(model, \"multi_input_and_output_model.png\", show_shapes=True)"
      ],
      "metadata": {
        "id": "Pmp43EBuE09A",
        "colab": {
          "base_uri": "https://localhost:8080/"
        },
        "outputId": "dde30e08-281b-422c-a831-29f7228a4412"
      },
      "execution_count": null,
      "outputs": [
        {
          "output_type": "stream",
          "name": "stdout",
          "text": [
            "Model: \"model\"\n",
            "__________________________________________________________________________________________________\n",
            " Layer (type)                   Output Shape         Param #     Connected to                     \n",
            "==================================================================================================\n",
            " input_1 (InputLayer)           [(None, 20, 8, 8)]   0           []                               \n",
            "                                                                                                  \n",
            " leaky_re_lu (LeakyReLU)        (None, 20, 8, 8)     0           ['input_1[0][0]']                \n",
            "                                                                                                  \n",
            " conv2d (Conv2D)                (None, 128, 8, 8)    23168       ['leaky_re_lu[0][0]']            \n",
            "                                                                                                  \n",
            " batch_normalization (BatchNorm  (None, 128, 8, 8)   32          ['conv2d[0][0]']                 \n",
            " alization)                                                                                       \n",
            "                                                                                                  \n",
            " leaky_re_lu_1 (LeakyReLU)      (None, 128, 8, 8)    0           ['batch_normalization[0][0]']    \n",
            "                                                                                                  \n",
            " conv2d_1 (Conv2D)              (None, 20, 8, 8)     23060       ['leaky_re_lu_1[0][0]']          \n",
            "                                                                                                  \n",
            " batch_normalization_1 (BatchNo  (None, 20, 8, 8)    32          ['conv2d_1[0][0]']               \n",
            " rmalization)                                                                                     \n",
            "                                                                                                  \n",
            " add (Add)                      (None, 20, 8, 8)     0           ['leaky_re_lu[0][0]',            \n",
            "                                                                  'batch_normalization_1[0][0]']  \n",
            "                                                                                                  \n",
            " leaky_re_lu_2 (LeakyReLU)      (None, 20, 8, 8)     0           ['add[0][0]']                    \n",
            "                                                                                                  \n",
            " conv2d_2 (Conv2D)              (None, 60, 8, 8)     10860       ['leaky_re_lu_2[0][0]']          \n",
            "                                                                                                  \n",
            " batch_normalization_2 (BatchNo  (None, 60, 8, 8)    32          ['conv2d_2[0][0]']               \n",
            " rmalization)                                                                                     \n",
            "                                                                                                  \n",
            " leaky_re_lu_3 (LeakyReLU)      (None, 60, 8, 8)     0           ['batch_normalization_2[0][0]']  \n",
            "                                                                                                  \n",
            " flatten (Flatten)              (None, 3840)         0           ['leaky_re_lu_3[0][0]']          \n",
            "                                                                                                  \n",
            " dense (Dense)                  (None, 1858)         7136578     ['flatten[0][0]']                \n",
            "                                                                                                  \n",
            " input_2 (InputLayer)           [(None, 1858)]       0           []                               \n",
            "                                                                                                  \n",
            " multiply (Multiply)            (None, 1858)         0           ['dense[0][0]',                  \n",
            "                                                                  'input_2[0][0]']                \n",
            "                                                                                                  \n",
            " softmax (Softmax)              (None, 1858)         0           ['multiply[0][0]']               \n",
            "                                                                                                  \n",
            "==================================================================================================\n",
            "Total params: 7,193,762\n",
            "Trainable params: 7,193,714\n",
            "Non-trainable params: 48\n",
            "__________________________________________________________________________________________________\n"
          ]
        }
      ]
    },
    {
      "cell_type": "code",
      "execution_count": null,
      "metadata": {
        "id": "ESOyGRnH0xgR"
      },
      "outputs": [],
      "source": [
        "model.compile(\n",
        "    optimizer=tf.keras.optimizers.Adam(0.001),\n",
        "    # loss=tf.keras.losses.MeanSquaredError(),\n",
        "    loss=tf.keras.losses.CategoricalCrossentropy(),\n",
        "    metrics=[tf.keras.metrics.CategoricalAccuracy()],\n",
        ")"
      ]
    },
    {
      "cell_type": "code",
      "source": [
        "history = model.fit_generator(generator=training_generator,\n",
        "                   steps_per_epoch = int(len(train_filenames) // batch_size),\n",
        "                   epochs = 30,\n",
        "                   verbose = 1,\n",
        "                   validation_data = validation_generator,\n",
        "                   validation_steps = int(1000 // batch_size)  # Use only 1000 samples for validation\n",
        "                  )"
      ],
      "metadata": {
        "colab": {
          "base_uri": "https://localhost:8080/"
        },
        "id": "Ur9OAs8lHI51",
        "outputId": "8939ed93-77d7-4e8b-c791-fd137cc2d8e5"
      },
      "execution_count": null,
      "outputs": [
        {
          "output_type": "stream",
          "name": "stderr",
          "text": [
            "/usr/local/lib/python3.7/dist-packages/ipykernel_launcher.py:6: UserWarning: `Model.fit_generator` is deprecated and will be removed in a future version. Please use `Model.fit`, which supports generators.\n",
            "  \n"
          ]
        },
        {
          "output_type": "stream",
          "name": "stdout",
          "text": [
            "Epoch 1/30\n",
            "566/566 [==============================] - 125s 221ms/step - loss: 4.5488 - categorical_accuracy: 0.3931 - val_loss: 5.5675 - val_categorical_accuracy: 0.2281\n",
            "Epoch 2/30\n",
            "566/566 [==============================] - 125s 221ms/step - loss: 4.4948 - categorical_accuracy: 0.3996 - val_loss: 5.5514 - val_categorical_accuracy: 0.2257\n",
            "Epoch 3/30\n",
            "566/566 [==============================] - 125s 221ms/step - loss: 4.4928 - categorical_accuracy: 0.4002 - val_loss: 5.5648 - val_categorical_accuracy: 0.2256\n",
            "Epoch 4/30\n",
            "566/566 [==============================] - 125s 221ms/step - loss: 4.4995 - categorical_accuracy: 0.4008 - val_loss: 5.5625 - val_categorical_accuracy: 0.2303\n",
            "Epoch 5/30\n",
            "566/566 [==============================] - 123s 218ms/step - loss: 4.4570 - categorical_accuracy: 0.4046 - val_loss: 5.5550 - val_categorical_accuracy: 0.2272\n",
            "Epoch 6/30\n",
            "566/566 [==============================] - 129s 228ms/step - loss: 4.4584 - categorical_accuracy: 0.4065 - val_loss: 5.5684 - val_categorical_accuracy: 0.2309\n",
            "Epoch 7/30\n",
            "566/566 [==============================] - 129s 228ms/step - loss: 4.4236 - categorical_accuracy: 0.4075 - val_loss: 5.4886 - val_categorical_accuracy: 0.2338\n",
            "Epoch 8/30\n",
            "566/566 [==============================] - 126s 223ms/step - loss: 4.3690 - categorical_accuracy: 0.4137 - val_loss: 5.4878 - val_categorical_accuracy: 0.2314\n",
            "Epoch 9/30\n",
            "566/566 [==============================] - 129s 228ms/step - loss: 4.3548 - categorical_accuracy: 0.4154 - val_loss: 5.4763 - val_categorical_accuracy: 0.2337\n",
            "Epoch 10/30\n",
            "566/566 [==============================] - 125s 221ms/step - loss: 4.3439 - categorical_accuracy: 0.4166 - val_loss: 5.4735 - val_categorical_accuracy: 0.2371\n",
            "Epoch 11/30\n",
            "566/566 [==============================] - 126s 223ms/step - loss: 4.3432 - categorical_accuracy: 0.4181 - val_loss: 5.4939 - val_categorical_accuracy: 0.2323\n",
            "Epoch 12/30\n",
            "566/566 [==============================] - 124s 220ms/step - loss: 4.3286 - categorical_accuracy: 0.4207 - val_loss: 5.5023 - val_categorical_accuracy: 0.2345\n",
            "Epoch 13/30\n",
            "566/566 [==============================] - 124s 219ms/step - loss: 4.3088 - categorical_accuracy: 0.4224 - val_loss: 5.4920 - val_categorical_accuracy: 0.2354\n",
            "Epoch 14/30\n",
            "566/566 [==============================] - 130s 230ms/step - loss: 4.3099 - categorical_accuracy: 0.4231 - val_loss: 5.5156 - val_categorical_accuracy: 0.2351\n",
            "Epoch 15/30\n",
            "566/566 [==============================] - 125s 220ms/step - loss: 4.2937 - categorical_accuracy: 0.4255 - val_loss: 5.5062 - val_categorical_accuracy: 0.2353\n",
            "Epoch 16/30\n",
            "566/566 [==============================] - 130s 229ms/step - loss: 4.2689 - categorical_accuracy: 0.4281 - val_loss: 5.5161 - val_categorical_accuracy: 0.2333\n",
            "Epoch 17/30\n",
            "566/566 [==============================] - 127s 224ms/step - loss: 4.2931 - categorical_accuracy: 0.4259 - val_loss: 5.5130 - val_categorical_accuracy: 0.2359\n",
            "Epoch 18/30\n",
            "566/566 [==============================] - 126s 222ms/step - loss: 4.2519 - categorical_accuracy: 0.4304 - val_loss: 5.4475 - val_categorical_accuracy: 0.2349\n",
            "Epoch 19/30\n",
            "566/566 [==============================] - 124s 219ms/step - loss: 4.2430 - categorical_accuracy: 0.4324 - val_loss: 5.4764 - val_categorical_accuracy: 0.2363\n",
            "Epoch 20/30\n",
            "566/566 [==============================] - 123s 217ms/step - loss: 4.2413 - categorical_accuracy: 0.4321 - val_loss: 5.4791 - val_categorical_accuracy: 0.2343\n",
            "Epoch 21/30\n",
            "566/566 [==============================] - 127s 224ms/step - loss: 4.2309 - categorical_accuracy: 0.4334 - val_loss: 5.4936 - val_categorical_accuracy: 0.2366\n",
            "Epoch 22/30\n",
            "566/566 [==============================] - 129s 228ms/step - loss: 4.2237 - categorical_accuracy: 0.4343 - val_loss: 5.4878 - val_categorical_accuracy: 0.2354\n",
            "Epoch 23/30\n",
            "566/566 [==============================] - 125s 221ms/step - loss: 4.2024 - categorical_accuracy: 0.4373 - val_loss: 5.4989 - val_categorical_accuracy: 0.2359\n",
            "Epoch 24/30\n",
            "566/566 [==============================] - 128s 226ms/step - loss: 4.2109 - categorical_accuracy: 0.4363 - val_loss: 5.4897 - val_categorical_accuracy: 0.2341\n",
            "Epoch 25/30\n",
            "566/566 [==============================] - 129s 228ms/step - loss: 4.2030 - categorical_accuracy: 0.4392 - val_loss: 5.5333 - val_categorical_accuracy: 0.2355\n",
            "Epoch 26/30\n",
            "566/566 [==============================] - 129s 228ms/step - loss: 4.1800 - categorical_accuracy: 0.4402 - val_loss: 5.4912 - val_categorical_accuracy: 0.2365\n",
            "Epoch 27/30\n",
            "566/566 [==============================] - 129s 229ms/step - loss: 4.1704 - categorical_accuracy: 0.4411 - val_loss: 5.4946 - val_categorical_accuracy: 0.2356\n",
            "Epoch 28/30\n",
            "566/566 [==============================] - 129s 228ms/step - loss: 4.1551 - categorical_accuracy: 0.4454 - val_loss: 5.5223 - val_categorical_accuracy: 0.2331\n",
            "Epoch 29/30\n",
            "566/566 [==============================] - 127s 224ms/step - loss: 4.1424 - categorical_accuracy: 0.4465 - val_loss: 5.4916 - val_categorical_accuracy: 0.2333\n",
            "Epoch 30/30\n",
            "566/566 [==============================] - 128s 225ms/step - loss: 4.1481 - categorical_accuracy: 0.4461 - val_loss: 5.5314 - val_categorical_accuracy: 0.2327\n"
          ]
        }
      ]
    },
    {
      "cell_type": "code",
      "execution_count": null,
      "metadata": {
        "colab": {
          "base_uri": "https://localhost:8080/",
          "height": 312
        },
        "id": "-J1ZAE5s8tqb",
        "outputId": "f773ee58-4b87-4099-a355-2c8afecaeb91"
      },
      "outputs": [
        {
          "output_type": "execute_result",
          "data": {
            "text/plain": [
              "[<matplotlib.lines.Line2D at 0x7fbcc5319b50>]"
            ]
          },
          "metadata": {},
          "execution_count": 54
        },
        {
          "output_type": "display_data",
          "data": {
            "text/plain": [
              "<Figure size 432x288 with 1 Axes>"
            ],
            "image/png": "[encoded data removed]"
          },
          "metadata": {
            "needs_background": "light"
          }
        }
      ],
      "source": [
        "# Plot the loss a sa function of number of epochs\n",
        "import matplotlib.pyplot as plt\n",
        "plt.title('Training Loss')\n",
        "plt.xlabel('epochs')\n",
        "plt.ylabel('MSE loss')\n",
        "plt.plot(list(map(lambda x: x+1, range(len(history.history['loss'])))),  history.history['loss'])"
      ]
    },
    {
      "cell_type": "code",
      "source": [
        "plt.title('Training Accuracy')\n",
        "plt.xlabel('epochs')\n",
        "plt.ylabel('Accuracy')\n",
        "plt.plot(list(map(lambda x: x+1, range(len(history.history['categorical_accuracy'])))),  history.history['categorical_accuracy'])"
      ],
      "metadata": {
        "colab": {
          "base_uri": "https://localhost:8080/",
          "height": 312
        },
        "id": "5xGRMhZmisMR",
        "outputId": "5a3c9202-4655-4e34-b589-1d3fbe9f9b1a"
      },
      "execution_count": null,
      "outputs": [
        {
          "output_type": "execute_result",
          "data": {
            "text/plain": [
              "[<matplotlib.lines.Line2D at 0x7fbcc5256210>]"
            ]
          },
          "metadata": {},
          "execution_count": 55
        },
        {
          "output_type": "display_data",
          "data": {
            "text/plain": [
              "<Figure size 432x288 with 1 Axes>"
            ],
            "image/png": "[encoded data removed]"
          },
          "metadata": {
            "needs_background": "light"
          }
        }
      ]
    },
    {
      "cell_type": "code",
      "source": [
        "# Plot the loss a sa function of number of epochs\n",
        "plt.title('Validation Loss')\n",
        "plt.xlabel('epochs')\n",
        "plt.ylabel('MSE  loss')\n",
        "plt.plot(list(map(lambda x: x+1, range(len(history.history['val_loss'])))),  history.history['val_loss'])"
      ],
      "metadata": {
        "colab": {
          "base_uri": "https://localhost:8080/",
          "height": 312
        },
        "id": "lZFfRfr4Bq32",
        "outputId": "946da37c-fe87-4615-8cdb-7372aa55ee58"
      },
      "execution_count": null,
      "outputs": [
        {
          "output_type": "execute_result",
          "data": {
            "text/plain": [
              "[<matplotlib.lines.Line2D at 0x7fbcc527dc10>]"
            ]
          },
          "metadata": {},
          "execution_count": 56
        },
        {
          "output_type": "display_data",
          "data": {
            "text/plain": [
              "<Figure size 432x288 with 1 Axes>"
            ],
            "image/png": "[encoded data removed]"
          },
          "metadata": {
            "needs_background": "light"
          }
        }
      ]
    },
    {
      "cell_type": "code",
      "source": [
        "# Plot the loss a sa function of number of epochs\n",
        "plt.title('Validation Accuracy')\n",
        "plt.xlabel('epochs')\n",
        "plt.ylabel('Accuracy')\n",
        "plt.plot(list(map(lambda x: x+1, range(len(history.history['val_categorical_accuracy'])))),  history.history['val_categorical_accuracy'])"
      ],
      "metadata": {
        "colab": {
          "base_uri": "https://localhost:8080/",
          "height": 312
        },
        "id": "-4UDQNLIi5w1",
        "outputId": "156243a3-e2bf-40c8-bd93-7d26ba164eb9"
      },
      "execution_count": null,
      "outputs": [
        {
          "output_type": "execute_result",
          "data": {
            "text/plain": [
              "[<matplotlib.lines.Line2D at 0x7fbcc57d0250>]"
            ]
          },
          "metadata": {},
          "execution_count": 57
        },
        {
          "output_type": "display_data",
          "data": {
            "text/plain": [
              "<Figure size 432x288 with 1 Axes>"
            ],
            "image/png": "[encoded data removed]"
          },
          "metadata": {
            "needs_background": "light"
          }
        }
      ]
    },
    {
      "cell_type": "code",
      "source": [
        "print(history.history)"
      ],
      "metadata": {
        "colab": {
          "base_uri": "https://localhost:8080/"
        },
        "id": "Om3ur4YIBrA1",
        "outputId": "ee6cec6c-9885-4501-8fd0-7d4a94002d18"
      },
      "execution_count": null,
      "outputs": [
        {
          "output_type": "stream",
          "name": "stdout",
          "text": [
            "{'loss': [4.548841953277588, 4.494830131530762, 4.492849349975586, 4.499471664428711, 4.45695161819458, 4.4583659172058105, 4.423629283905029, 4.368971347808838, 4.354830265045166, 4.343929290771484, 4.343246936798096, 4.328603744506836, 4.308765411376953, 4.309924602508545, 4.293741703033447, 4.268929958343506, 4.293115139007568, 4.251904487609863, 4.243034362792969, 4.241311550140381, 4.230944633483887, 4.22367000579834, 4.202425956726074, 4.210852146148682, 4.203034400939941, 4.18002986907959, 4.170388221740723, 4.155089855194092, 4.142448902130127, 4.148149490356445], 'categorical_accuracy': [0.3930984139442444, 0.39964044094085693, 0.4001910090446472, 0.4008258581161499, 0.4046405255794525, 0.4064747095108032, 0.40753382444381714, 0.413713663816452, 0.41540491580963135, 0.41659411787986755, 0.41807353496551514, 0.42069634795188904, 0.42244163155555725, 0.42308393120765686, 0.42545750737190247, 0.42805978655815125, 0.42590096592903137, 0.430433452129364, 0.43238765001296997, 0.43210068345069885, 0.4333544075489044, 0.4342958927154541, 0.43733760714530945, 0.4363403916358948, 0.4391775131225586, 0.44019320607185364, 0.4410955011844635, 0.4453776776790619, 0.4464621841907501, 0.44605186581611633], 'val_loss': [5.567494869232178, 5.551412582397461, 5.564773082733154, 5.562452793121338, 5.555016040802002, 5.568386077880859, 5.488644123077393, 5.487751483917236, 5.476297378540039, 5.47347354888916, 5.493942737579346, 5.5022783279418945, 5.491964817047119, 5.515603542327881, 5.506150722503662, 5.51606559753418, 5.512997150421143, 5.447457313537598, 5.476413249969482, 5.479113578796387, 5.49362325668335, 5.487767219543457, 5.498917579650879, 5.489664077758789, 5.5333404541015625, 5.491236209869385, 5.4946417808532715, 5.5222697257995605, 5.491568565368652, 5.531431198120117], 'val_categorical_accuracy': [0.22805353999137878, 0.22573506832122803, 0.2255769819021225, 0.2303193211555481, 0.22721044719219208, 0.2308989316225052, 0.23384971916675568, 0.23142586648464203, 0.23374433815479279, 0.23706397414207458, 0.232321634888649, 0.2344820350408554, 0.2354304939508438, 0.2350616455078125, 0.23527242243289948, 0.23327010869979858, 0.23585203289985657, 0.23490357398986816, 0.23632627725601196, 0.23427125811576843, 0.23664243519306183, 0.2354304939508438, 0.2359047383069992, 0.2341131865978241, 0.2355358898639679, 0.23653703927993774, 0.23558858036994934, 0.2330593317747116, 0.23332279920578003, 0.2326904833316803]}\n"
          ]
        }
      ]
    },
    {
      "cell_type": "code",
      "source": [
        "from google.colab import files\n",
        "\n",
        "folder_name = \"saved-model\"\n",
        "\n",
        "if os.path.exists(folder_name):\n",
        "  shutil.rmtree(folder_name)\n",
        "os.mkdir(folder_name)\n",
        "\n",
        "if os.path.exists(folder_name + \".zip\"):\n",
        "  os.remove(folder_name + \".zip\")\n",
        "model.save(folder_name)\n",
        "\n",
        "shutil.make_archive(folder_name, 'zip', folder_name)\n",
        "files.download(folder_name + \".zip\")"
      ],
      "metadata": {
        "colab": {
          "base_uri": "https://localhost:8080/",
          "height": 52
        },
        "id": "QCZ5xPh5G3cv",
        "outputId": "5b4e3ad1-386b-47e6-8249-9874473b2a44"
      },
      "execution_count": null,
      "outputs": [
        {
          "output_type": "stream",
          "name": "stdout",
          "text": [
            "INFO:tensorflow:Assets written to: saved-model/assets\n"
          ]
        },
        {
          "output_type": "display_data",
          "data": {
            "text/plain": [
              "<IPython.core.display.Javascript object>"
            ],
            "application/javascript": [
              "\n",
              "    async function download(id, filename, size) {\n",
              "      if (!google.colab.kernel.accessAllowed) {\n",
              "        return;\n",
              "      }\n",
              "      const div = document.createElement('div');\n",
              "      const label = document.createElement('label');\n",
              "      label.textContent = `Downloading \"${filename}\": `;\n",
              "      div.appendChild(label);\n",
              "      const progress = document.createElement('progress');\n",
              "      progress.max = size;\n",
              "      div.appendChild(progress);\n",
              "      document.body.appendChild(div);\n",
              "\n",
              "      const buffers = [];\n",
              "      let downloaded = 0;\n",
              "\n",
              "      const channel = await google.colab.kernel.comms.open(id);\n",
              "      // Send a message to notify the kernel that we're ready.\n",
              "      channel.send({})\n",
              "\n",
              "      for await (const message of channel.messages) {\n",
              "        // Send a message to notify the kernel that we're ready.\n",
              "        channel.send({})\n",
              "        if (message.buffers) {\n",
              "          for (const buffer of message.buffers) {\n",
              "            buffers.push(buffer);\n",
              "            downloaded += buffer.byteLength;\n",
              "            progress.value = downloaded;\n",
              "          }\n",
              "        }\n",
              "      }\n",
              "      const blob = new Blob(buffers, {type: 'application/binary'});\n",
              "      const a = document.createElement('a');\n",
              "      a.href = window.URL.createObjectURL(blob);\n",
              "      a.download = filename;\n",
              "      div.appendChild(a);\n",
              "      a.click();\n",
              "      div.remove();\n",
              "    }\n",
              "  "
            ]
          },
          "metadata": {}
        },
        {
          "output_type": "display_data",
          "data": {
            "text/plain": [
              "<IPython.core.display.Javascript object>"
            ],
            "application/javascript": [
              "download(\"download_2d533d24-1966-4762-aea3-fa9a70a57480\", \"saved-model.zip\", 68001865)"
            ]
          },
          "metadata": {}
        }
      ]
    }
  ],
  "metadata": {
    "accelerator": "GPU",
    "colab": {
      "collapsed_sections": [],
      "name": "Opponent Modelling.ipynb",
      "provenance": [],
      "include_colab_link": true
    },
    "kernelspec": {
      "display_name": "Python 3",
      "name": "python3"
    },
    "language_info": {
      "name": "python"
    }
  },
  "nbformat": 4,
  "nbformat_minor": 0
}