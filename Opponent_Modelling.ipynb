{
  "cells": [
    {
      "cell_type": "markdown",
      "metadata": {
        "id": "view-in-github",
        "colab_type": "text"
      },
      "source": [
        "<a href=\"https://colab.research.google.com/github/gurnoor6/opponent-modelling/blob/main/Opponent_Modelling.ipynb\" target=\"_parent\"><img src=\"https://colab.research.google.com/assets/colab-badge.svg\" alt=\"Open In Colab\"/></a>"
      ]
    },
    {
      "cell_type": "code",
      "execution_count": null,
      "metadata": {
        "colab": {
          "base_uri": "https://localhost:8080/"
        },
        "id": "P8qm5R4EZ1y-",
        "outputId": "ba3ac17d-ad49-493b-99b0-e256650d1914"
      },
      "outputs": [
        {
          "output_type": "stream",
          "name": "stdout",
          "text": [
            "9456\n",
            "304315.npz 430881.npz\n"
          ]
        }
      ],
      "source": [
        "import shutil, os\n",
        "filename_train = 'trout_logs'\n",
        "filename_validation = 'trout_logs'\n",
        "if os.path.exists(filename_train):\n",
        "  shutil.rmtree(filename_train)\n",
        "if os.path.exists(filename_validation):\n",
        "  shutil.rmtree(filename_validation)\n",
        "shutil.unpack_archive(f'{filename_train}.zip', './')\n",
        "filenames = os.listdir(filename_train)\n",
        "print(len(filenames))\n",
        "filenames.sort()\n",
        "train_filenames = filenames[:8500]\n",
        "val_filenames = filenames[8500:]\n",
        "print(train_filenames[0], val_filenames[0])"
      ]
    },
    {
      "cell_type": "code",
      "execution_count": null,
      "metadata": {
        "colab": {
          "base_uri": "https://localhost:8080/"
        },
        "id": "hAl5gyGO0eRj",
        "outputId": "f2f5148e-73d5-4fa9-82d3-e1d06cabd65a"
      },
      "outputs": [
        {
          "output_type": "stream",
          "name": "stdout",
          "text": [
            "Num GPUs Available:  1\n",
            "Found GPU at: /device:GPU:0\n"
          ]
        }
      ],
      "source": [
        "import tensorflow as tf\n",
        "import tensorflow_datasets as tfds\n",
        "print(\"Num GPUs Available: \", len(tf.config.list_physical_devices('GPU')))\n",
        "device_name = tf.test.gpu_device_name()\n",
        "if device_name != '/device:GPU:0':\n",
        "  raise SystemError('GPU device not found')\n",
        "print('Found GPU at: {}'.format(device_name))"
      ]
    },
    {
      "cell_type": "code",
      "execution_count": null,
      "metadata": {
        "id": "ru8caUd_UaAG"
      },
      "outputs": [],
      "source": [
        "# Constants\n",
        "T = 8 # Number of Timesteps for which boards are present in input\n",
        "N = 8 # board size\n",
        "HIDDEN_LAYER = 1 # hidden layer will be N * N * HIDDEN_LAYER neurons long\n",
        "OUTPUT_LAYER = 73 # output layer will be N * N * OUTPUT_LAYER neurons long\n",
        "BLOCKS = 10\n",
        "FILTERS = 128"
      ]
    },
    {
      "cell_type": "code",
      "execution_count": null,
      "metadata": {
        "id": "LhS4zvoGFHDv"
      },
      "outputs": [],
      "source": [
        "import numpy as np\n",
        "\n",
        "class My_Custom_Generator(tf.keras.utils.Sequence) :\n",
        "  \n",
        "  def __init__(self, filenames, batch_size, randomize, folder_name) :\n",
        "    self.filenames = filenames\n",
        "    self.batch_size = batch_size\n",
        "    self.randomize = randomize\n",
        "    self.folder_name = folder_name\n",
        "    self.boards_per_game = 4\n",
        "    \n",
        "    \n",
        "  def __len__(self) :\n",
        "    return (np.ceil(len(self.filenames) / float(self.batch_size))).astype(int)\n",
        "  \n",
        "  \n",
        "  def __getitem__(self, idx) :\n",
        "    filenames = self.filenames[idx * self.batch_size : (idx+1) * self.batch_size]\n",
        "\n",
        "    inputs = []\n",
        "    outputs = []\n",
        "    legal_moves = []\n",
        "    for f in filenames:\n",
        "      if not f.endswith('.npz'): continue\n",
        "      loaded = np.load(os.path.join(self.folder_name, f))\n",
        "      length = len(loaded['inputs'])\n",
        "      index = np.random.choice(length, length,replace=False)\n",
        "      if self.randomize:\n",
        "        index = np.random.choice(length, min(self.boards_per_game, length), replace = False)\n",
        "      inputs.extend(loaded['inputs'][index])\n",
        "      outputs.extend(loaded['outputs'][index])\n",
        "      legal_moves.extend(loaded['legal_moves'][index])\n",
        "    \n",
        "    # Y_new = []\n",
        "    # for item in outputs: Y_new.append(item.flatten())\n",
        "    \n",
        "    # print(np.array(inputs).shape, np.array(Y_new).shape)\n",
        "    return (np.array(inputs), np.array(legal_moves)), np.array(outputs)"
      ]
    },
    {
      "cell_type": "code",
      "execution_count": null,
      "metadata": {
        "id": "fGGgUwdHGyP4"
      },
      "outputs": [],
      "source": [
        "batch_size = 32\n",
        "\n",
        "training_generator = My_Custom_Generator(train_filenames, batch_size, True, filename_train)\n",
        "validation_generator = My_Custom_Generator(val_filenames, batch_size, False, filename_validation)"
      ]
    },
    {
      "cell_type": "code",
      "execution_count": null,
      "metadata": {
        "colab": {
          "base_uri": "https://localhost:8080/"
        },
        "id": "Pmp43EBuE09A",
        "outputId": "5a0f1615-2c76-4f11-de4c-3172c50d62ce"
      },
      "outputs": [
        {
          "output_type": "stream",
          "name": "stdout",
          "text": [
            "Model: \"model_1\"\n",
            "__________________________________________________________________________________________________\n",
            " Layer (type)                   Output Shape         Param #     Connected to                     \n",
            "==================================================================================================\n",
            " input_3 (InputLayer)           [(None, 112, 8, 8)]  0           []                               \n",
            "                                                                                                  \n",
            " leaky_re_lu_4 (LeakyReLU)      (None, 112, 8, 8)    0           ['input_3[0][0]']                \n",
            "                                                                                                  \n",
            " conv2d_3 (Conv2D)              (None, 128, 8, 8)    129152      ['leaky_re_lu_4[0][0]']          \n",
            "                                                                                                  \n",
            " batch_normalization_3 (BatchNo  (None, 128, 8, 8)   32          ['conv2d_3[0][0]']               \n",
            " rmalization)                                                                                     \n",
            "                                                                                                  \n",
            " leaky_re_lu_5 (LeakyReLU)      (None, 128, 8, 8)    0           ['batch_normalization_3[0][0]']  \n",
            "                                                                                                  \n",
            " conv2d_4 (Conv2D)              (None, 112, 8, 8)    129136      ['leaky_re_lu_5[0][0]']          \n",
            "                                                                                                  \n",
            " batch_normalization_4 (BatchNo  (None, 112, 8, 8)   32          ['conv2d_4[0][0]']               \n",
            " rmalization)                                                                                     \n",
            "                                                                                                  \n",
            " add_1 (Add)                    (None, 112, 8, 8)    0           ['leaky_re_lu_4[0][0]',          \n",
            "                                                                  'batch_normalization_4[0][0]']  \n",
            "                                                                                                  \n",
            " leaky_re_lu_6 (LeakyReLU)      (None, 112, 8, 8)    0           ['add_1[0][0]']                  \n",
            "                                                                                                  \n",
            " conv2d_5 (Conv2D)              (None, 10, 8, 8)     10090       ['leaky_re_lu_6[0][0]']          \n",
            "                                                                                                  \n",
            " batch_normalization_5 (BatchNo  (None, 10, 8, 8)    32          ['conv2d_5[0][0]']               \n",
            " rmalization)                                                                                     \n",
            "                                                                                                  \n",
            " leaky_re_lu_7 (LeakyReLU)      (None, 10, 8, 8)     0           ['batch_normalization_5[0][0]']  \n",
            "                                                                                                  \n",
            " flatten_1 (Flatten)            (None, 640)          0           ['leaky_re_lu_7[0][0]']          \n",
            "                                                                                                  \n",
            " dense_1 (Dense)                (None, 1858)         1190978     ['flatten_1[0][0]']              \n",
            "                                                                                                  \n",
            " input_4 (InputLayer)           [(None, 1858)]       0           []                               \n",
            "                                                                                                  \n",
            " softmax_1 (Softmax)            (None, 1858)         0           ['dense_1[0][0]']                \n",
            "                                                                                                  \n",
            "==================================================================================================\n",
            "Total params: 1,459,452\n",
            "Trainable params: 1,459,404\n",
            "Non-trainable params: 48\n",
            "__________________________________________________________________________________________________\n"
          ]
        }
      ],
      "source": [
        "inputs = tf.keras.Input(shape=(112, 8, 8))\n",
        "legal_moves_input = tf.keras.Input(shape = (1858))\n",
        "x1 = tf.keras.layers.LeakyReLU()(inputs)\n",
        "\n",
        "\n",
        "x = tf.keras.layers.Conv2D(128, (3, 3), activation=\"relu\", padding=\"same\", data_format = 'channels_first')(x1)\n",
        "x = tf.keras.layers.BatchNormalization()(x)\n",
        "x = tf.keras.layers.LeakyReLU()(x)\n",
        "\n",
        "x = tf.keras.layers.Conv2D(112, (3, 3), activation=\"relu\", padding=\"same\", data_format = 'channels_first')(x)\n",
        "x = tf.keras.layers.BatchNormalization()(x)\n",
        "\n",
        "added = tf.keras.layers.add([x1, x])\n",
        "x = tf.keras.layers.LeakyReLU()(added)\n",
        "\n",
        "x = tf.keras.layers.Conv2D(10, (3,3),activation=\"relu\", padding=\"same\", data_format = 'channels_first')(x)\n",
        "x = tf.keras.layers.BatchNormalization()(x)\n",
        "x = tf.keras.layers.LeakyReLU()(x)\n",
        "x = tf.keras.layers.Flatten()(x)\n",
        "x = tf.keras.layers.Dense(1858, activation = 'relu')(x)\n",
        "\n",
        "\n",
        "# x = tf.keras.layers.add([x, legal_moves_input])\n",
        "\n",
        "x = tf.keras.layers.Softmax()(x)\n",
        "model = tf.keras.Model(inputs = [inputs, legal_moves_input], outputs = x)\n",
        "model.summary()\n",
        "# tf.keras.utils.plot_model(model, \"multi_input_and_output_model.png\", show_shapes=True)"
      ]
    },
    {
      "cell_type": "code",
      "execution_count": null,
      "metadata": {
        "id": "ESOyGRnH0xgR"
      },
      "outputs": [],
      "source": [
        "model.compile(\n",
        "    optimizer=tf.keras.optimizers.Adam(0.001),\n",
        "    # loss=tf.keras.losses.MeanSquaredError(),\n",
        "    loss=tf.keras.losses.CategoricalCrossentropy(),\n",
        "    metrics=[tf.keras.metrics.CategoricalAccuracy()],\n",
        ")"
      ]
    },
    {
      "cell_type": "code",
      "execution_count": 16,
      "metadata": {
        "colab": {
          "base_uri": "https://localhost:8080/"
        },
        "id": "Ur9OAs8lHI51",
        "outputId": "c5e2b947-c106-4724-caf2-e8e84a4f36e5"
      },
      "outputs": [
        {
          "metadata": {
            "tags": null
          },
          "name": "stderr",
          "output_type": "stream",
          "text": [
            "/usr/local/lib/python3.7/dist-packages/ipykernel_launcher.py:6: UserWarning: `Model.fit_generator` is deprecated and will be removed in a future version. Please use `Model.fit`, which supports generators.\n",
            "  \n"
          ]
        },
        {
          "output_type": "stream",
          "name": "stdout",
          "text": [
            "Epoch 1/20\n",
            "265/265 [==============================] - 143s 535ms/step - loss: 4.8634 - categorical_accuracy: 0.2637 - val_loss: 5.5982 - val_categorical_accuracy: 0.2602\n",
            "Epoch 2/20\n",
            "265/265 [==============================] - 140s 528ms/step - loss: 4.4084 - categorical_accuracy: 0.3318 - val_loss: 4.9563 - val_categorical_accuracy: 0.2847\n",
            "Epoch 3/20\n",
            "265/265 [==============================] - 140s 525ms/step - loss: 4.2526 - categorical_accuracy: 0.3529 - val_loss: 4.8588 - val_categorical_accuracy: 0.2931\n",
            "Epoch 4/20\n",
            "265/265 [==============================] - 138s 518ms/step - loss: 4.1502 - categorical_accuracy: 0.3718 - val_loss: 4.7996 - val_categorical_accuracy: 0.3003\n",
            "Epoch 5/20\n",
            "265/265 [==============================] - 139s 520ms/step - loss: 4.0867 - categorical_accuracy: 0.3802 - val_loss: 4.7266 - val_categorical_accuracy: 0.3057\n",
            "Epoch 6/20\n",
            "265/265 [==============================] - 139s 524ms/step - loss: 4.0038 - categorical_accuracy: 0.3890 - val_loss: 4.7108 - val_categorical_accuracy: 0.3086\n",
            "Epoch 7/20\n",
            "265/265 [==============================] - 137s 519ms/step - loss: 3.9948 - categorical_accuracy: 0.3911 - val_loss: 4.6924 - val_categorical_accuracy: 0.3155\n",
            "Epoch 8/20\n",
            "265/265 [==============================] - 137s 517ms/step - loss: 3.9475 - categorical_accuracy: 0.4024 - val_loss: 4.6859 - val_categorical_accuracy: 0.3170\n",
            "Epoch 9/20\n",
            "265/265 [==============================] - 136s 514ms/step - loss: 3.9397 - categorical_accuracy: 0.4031 - val_loss: 4.6529 - val_categorical_accuracy: 0.3179\n",
            "Epoch 10/20\n",
            "265/265 [==============================] - 137s 516ms/step - loss: 3.8962 - categorical_accuracy: 0.4081 - val_loss: 4.6857 - val_categorical_accuracy: 0.3194\n",
            "Epoch 11/20\n",
            "265/265 [==============================] - 137s 516ms/step - loss: 3.9056 - categorical_accuracy: 0.4086 - val_loss: 4.6729 - val_categorical_accuracy: 0.3154\n",
            "Epoch 12/20\n",
            "265/265 [==============================] - 141s 528ms/step - loss: 3.9156 - categorical_accuracy: 0.4067 - val_loss: 4.6675 - val_categorical_accuracy: 0.3180\n",
            "Epoch 13/20\n",
            "265/265 [==============================] - 137s 518ms/step - loss: 3.8594 - categorical_accuracy: 0.4152 - val_loss: 4.6690 - val_categorical_accuracy: 0.3178\n",
            "Epoch 14/20\n",
            "265/265 [==============================] - 140s 531ms/step - loss: 3.8608 - categorical_accuracy: 0.4190 - val_loss: 4.6562 - val_categorical_accuracy: 0.3202\n",
            "Epoch 15/20\n",
            "265/265 [==============================] - 140s 529ms/step - loss: 3.8522 - categorical_accuracy: 0.4194 - val_loss: 4.6883 - val_categorical_accuracy: 0.3180\n",
            "Epoch 16/20\n",
            "265/265 [==============================] - 138s 523ms/step - loss: 3.8253 - categorical_accuracy: 0.4271 - val_loss: 4.6625 - val_categorical_accuracy: 0.3217\n",
            "Epoch 17/20\n",
            "265/265 [==============================] - 140s 526ms/step - loss: 3.8088 - categorical_accuracy: 0.4270 - val_loss: 4.6324 - val_categorical_accuracy: 0.3214\n",
            "Epoch 18/20\n",
            "265/265 [==============================] - 142s 537ms/step - loss: 3.8148 - categorical_accuracy: 0.4268 - val_loss: 4.6625 - val_categorical_accuracy: 0.3227\n",
            "Epoch 19/20\n",
            "265/265 [==============================] - 142s 536ms/step - loss: 3.7861 - categorical_accuracy: 0.4307 - val_loss: 4.6482 - val_categorical_accuracy: 0.3199\n",
            "Epoch 20/20\n",
            "265/265 [==============================] - 140s 530ms/step - loss: 3.7905 - categorical_accuracy: 0.4311 - val_loss: 4.6644 - val_categorical_accuracy: 0.3225\n"
          ]
        }
      ],
      "source": [
        "history = model.fit_generator(generator=training_generator,\n",
        "                   steps_per_epoch = int(len(train_filenames) // batch_size),\n",
        "                   epochs = 20,\n",
        "                   verbose = 1,\n",
        "                   validation_data = validation_generator,\n",
        "                   validation_steps = int(min(1000, len(val_filenames)) // batch_size)  # Use only 1000 samples for validation\n",
        "                  )"
      ]
    },
    {
      "cell_type": "code",
      "execution_count": 17,
      "metadata": {
        "id": "-J1ZAE5s8tqb",
        "colab": {
          "base_uri": "https://localhost:8080/",
          "height": 312
        },
        "outputId": "2c4d7b6e-feb1-4e70-a2b2-a9556d8b6229"
      },
      "outputs": [
        {
          "output_type": "execute_result",
          "data": {
            "text/plain": [
              "[<matplotlib.lines.Line2D at 0x7f435023ab50>]"
            ]
          },
          "metadata": {},
          "execution_count": 17
        },
        {
          "output_type": "display_data",
          "data": {
            "text/plain": [
              "<Figure size 432x288 with 1 Axes>"
            ],
            "image/png": "[encoded data removed]"
          },
          "metadata": {
            "needs_background": "light"
          }
        }
      ],
      "source": [
        "# Plot the loss a sa function of number of epochs\n",
        "import matplotlib.pyplot as plt\n",
        "plt.title('Training Loss')\n",
        "plt.xlabel('epochs')\n",
        "plt.ylabel('Cross Entropy loss')\n",
        "plt.plot(list(map(lambda x: x+1, range(len(history.history['loss'])))),  history.history['loss'])"
      ]
    },
    {
      "cell_type": "code",
      "execution_count": 18,
      "metadata": {
        "id": "5xGRMhZmisMR",
        "colab": {
          "base_uri": "https://localhost:8080/",
          "height": 312
        },
        "outputId": "dacc9c61-27e2-4e13-db12-63e7f6e6a603"
      },
      "outputs": [
        {
          "output_type": "execute_result",
          "data": {
            "text/plain": [
              "[<matplotlib.lines.Line2D at 0x7f42670ccd50>]"
            ]
          },
          "metadata": {},
          "execution_count": 18
        },
        {
          "output_type": "display_data",
          "data": {
            "text/plain": [
              "<Figure size 432x288 with 1 Axes>"
            ],
            "image/png": "[encoded data removed]"
          },
          "metadata": {
            "needs_background": "light"
          }
        }
      ],
      "source": [
        "plt.title('Training Accuracy')\n",
        "plt.xlabel('epochs')\n",
        "plt.ylabel('Accuracy')\n",
        "plt.plot(list(map(lambda x: x+1, range(len(history.history['categorical_accuracy'])))),  history.history['categorical_accuracy'])"
      ]
    },
    {
      "cell_type": "code",
      "execution_count": 19,
      "metadata": {
        "id": "lZFfRfr4Bq32",
        "colab": {
          "base_uri": "https://localhost:8080/",
          "height": 312
        },
        "outputId": "cd3bff87-3ce2-486c-932e-eddcc9305c77"
      },
      "outputs": [
        {
          "output_type": "execute_result",
          "data": {
            "text/plain": [
              "[<matplotlib.lines.Line2D at 0x7f4267048390>]"
            ]
          },
          "metadata": {},
          "execution_count": 19
        },
        {
          "output_type": "display_data",
          "data": {
            "text/plain": [
              "<Figure size 432x288 with 1 Axes>"
            ],
            "image/png": "[encoded data removed]"
          },
          "metadata": {
            "needs_background": "light"
          }
        }
      ],
      "source": [
        "# Plot the loss a sa function of number of epochs\n",
        "plt.title('Validation Loss')\n",
        "plt.xlabel('epochs')\n",
        "plt.ylabel('Cross Entropy  loss')\n",
        "plt.plot(list(map(lambda x: x+1, range(len(history.history['val_loss'])))),  history.history['val_loss'])"
      ]
    },
    {
      "cell_type": "code",
      "execution_count": 20,
      "metadata": {
        "id": "-4UDQNLIi5w1",
        "colab": {
          "base_uri": "https://localhost:8080/",
          "height": 312
        },
        "outputId": "3b92761e-2854-46d2-bbbc-f09681c3f5a4"
      },
      "outputs": [
        {
          "output_type": "execute_result",
          "data": {
            "text/plain": [
              "[<matplotlib.lines.Line2D at 0x7f4266fa7fd0>]"
            ]
          },
          "metadata": {},
          "execution_count": 20
        },
        {
          "output_type": "display_data",
          "data": {
            "text/plain": [
              "<Figure size 432x288 with 1 Axes>"
            ],
            "image/png": "[encoded data removed]"
          },
          "metadata": {
            "needs_background": "light"
          }
        }
      ],
      "source": [
        "# Plot the loss a sa function of number of epochs\n",
        "plt.title('Validation Accuracy')\n",
        "plt.xlabel('epochs')\n",
        "plt.ylabel('Accuracy')\n",
        "plt.plot(list(map(lambda x: x+1, range(len(history.history['val_categorical_accuracy'])))),  history.history['val_categorical_accuracy'])"
      ]
    },
    {
      "cell_type": "code",
      "execution_count": 21,
      "metadata": {
        "id": "Om3ur4YIBrA1",
        "colab": {
          "base_uri": "https://localhost:8080/"
        },
        "outputId": "f1519847-67e9-4c26-9f05-b958c3cea6e1"
      },
      "outputs": [
        {
          "output_type": "stream",
          "name": "stdout",
          "text": [
            "{'loss': [4.8633809089660645, 4.4083685874938965, 4.252567291259766, 4.150205135345459, 4.086715221405029, 4.003793716430664, 3.9948227405548096, 3.9475035667419434, 3.939664363861084, 3.8962292671203613, 3.905599355697632, 3.915600538253784, 3.859377145767212, 3.8607964515686035, 3.852247714996338, 3.825331449508667, 3.8088176250457764, 3.8147668838500977, 3.7860817909240723, 3.7904751300811768], 'categorical_accuracy': [0.2637496888637543, 0.3317849934101105, 0.35294297337532043, 0.37179526686668396, 0.38024812936782837, 0.38898056745529175, 0.3910585641860962, 0.40235328674316406, 0.4031168818473816, 0.4080921709537506, 0.4086116850376129, 0.4066864252090454, 0.4151819944381714, 0.4189535975456238, 0.41935285925865173, 0.42712217569351196, 0.4269869029521942, 0.4268251657485962, 0.43071940541267395, 0.4310597777366638], 'val_loss': [5.598204612731934, 4.9563069343566895, 4.858778476715088, 4.7996392250061035, 4.726615905761719, 4.710756301879883, 4.692384243011475, 4.68587589263916, 4.652910232543945, 4.68565559387207, 4.672900199890137, 4.667482376098633, 4.6689653396606445, 4.656248092651367, 4.6882500648498535, 4.662457466125488, 4.632359981536865, 4.662458419799805, 4.648244380950928, 4.664365291595459], 'val_categorical_accuracy': [0.2602221965789795, 0.2847101390361786, 0.2930995523929596, 0.3002796471118927, 0.3057214021682739, 0.3085934519767761, 0.31554681062698364, 0.31698283553123474, 0.3178898096084595, 0.31940141320228577, 0.31539565324783325, 0.31796538829803467, 0.3178142309188843, 0.3201572000980377, 0.31796538829803467, 0.321668803691864, 0.32136648893356323, 0.32265135645866394, 0.31985488533973694, 0.32250019907951355]}\n"
          ]
        }
      ],
      "source": [
        "print(history.history)"
      ]
    },
    {
      "cell_type": "code",
      "execution_count": 22,
      "metadata": {
        "id": "QCZ5xPh5G3cv",
        "colab": {
          "base_uri": "https://localhost:8080/",
          "height": 34
        },
        "outputId": "4b994aa4-7076-41b6-dd71-44514d0b6381"
      },
      "outputs": [
        {
          "output_type": "stream",
          "name": "stdout",
          "text": [
            "INFO:tensorflow:Assets written to: saved-model/assets\n"
          ]
        },
        {
          "output_type": "display_data",
          "data": {
            "text/plain": [
              "<IPython.core.display.Javascript object>"
            ],
            "application/javascript": [
              "\n",
              "    async function download(id, filename, size) {\n",
              "      if (!google.colab.kernel.accessAllowed) {\n",
              "        return;\n",
              "      }\n",
              "      const div = document.createElement('div');\n",
              "      const label = document.createElement('label');\n",
              "      label.textContent = `Downloading \"${filename}\": `;\n",
              "      div.appendChild(label);\n",
              "      const progress = document.createElement('progress');\n",
              "      progress.max = size;\n",
              "      div.appendChild(progress);\n",
              "      document.body.appendChild(div);\n",
              "\n",
              "      const buffers = [];\n",
              "      let downloaded = 0;\n",
              "\n",
              "      const channel = await google.colab.kernel.comms.open(id);\n",
              "      // Send a message to notify the kernel that we're ready.\n",
              "      channel.send({})\n",
              "\n",
              "      for await (const message of channel.messages) {\n",
              "        // Send a message to notify the kernel that we're ready.\n",
              "        channel.send({})\n",
              "        if (message.buffers) {\n",
              "          for (const buffer of message.buffers) {\n",
              "            buffers.push(buffer);\n",
              "            downloaded += buffer.byteLength;\n",
              "            progress.value = downloaded;\n",
              "          }\n",
              "        }\n",
              "      }\n",
              "      const blob = new Blob(buffers, {type: 'application/binary'});\n",
              "      const a = document.createElement('a');\n",
              "      a.href = window.URL.createObjectURL(blob);\n",
              "      a.download = filename;\n",
              "      div.appendChild(a);\n",
              "      a.click();\n",
              "      div.remove();\n",
              "    }\n",
              "  "
            ]
          },
          "metadata": {}
        },
        {
          "output_type": "display_data",
          "data": {
            "text/plain": [
              "<IPython.core.display.Javascript object>"
            ],
            "application/javascript": [
              "download(\"download_1a4ff7e4-d424-45d0-9995-5c9bc6a6bc66\", \"saved-model.zip\", 15109469)"
            ]
          },
          "metadata": {}
        }
      ],
      "source": [
        "from google.colab import files\n",
        "\n",
        "folder_name = \"saved-model\"\n",
        "\n",
        "if os.path.exists(folder_name):\n",
        "  shutil.rmtree(folder_name)\n",
        "os.mkdir(folder_name)\n",
        "\n",
        "if os.path.exists(folder_name + \".zip\"):\n",
        "  os.remove(folder_name + \".zip\")\n",
        "model.save(folder_name)\n",
        "\n",
        "shutil.make_archive(folder_name, 'zip', folder_name)\n",
        "files.download(folder_name + \".zip\")"
      ]
    }
  ],
  "metadata": {
    "accelerator": "GPU",
    "colab": {
      "collapsed_sections": [],
      "name": "Opponent Modelling.ipynb",
      "provenance": [],
      "include_colab_link": true
    },
    "kernelspec": {
      "display_name": "Python 3",
      "name": "python3"
    },
    "language_info": {
      "name": "python"
    }
  },
  "nbformat": 4,
  "nbformat_minor": 0
}