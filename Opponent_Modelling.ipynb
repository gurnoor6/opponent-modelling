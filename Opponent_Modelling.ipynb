{
  "cells": [
    {
      "cell_type": "markdown",
      "metadata": {
        "id": "view-in-github",
        "colab_type": "text"
      },
      "source": [
        "<a href=\"https://colab.research.google.com/github/gurnoor6/opponent-modelling/blob/main/Opponent_Modelling.ipynb\" target=\"_parent\"><img src=\"https://colab.research.google.com/assets/colab-badge.svg\" alt=\"Open In Colab\"/></a>"
      ]
    },
    {
      "cell_type": "code",
      "execution_count": 16,
      "metadata": {
        "colab": {
          "base_uri": "https://localhost:8080/"
        },
        "id": "P8qm5R4EZ1y-",
        "outputId": "cc08ead2-32ed-457d-995c-72d807d20ef6"
      },
      "outputs": [
        {
          "output_type": "stream",
          "name": "stdout",
          "text": [
            "28004\n",
            "19122\n",
            "316756.npz 316756.npz\n"
          ]
        }
      ],
      "source": [
        "import shutil, os\n",
        "# shutil.rmtree(\"game_logs\")\n",
        "shutil.unpack_archive('game_logs.zip', './')\n",
        "shutil.unpack_archive('validation.zip', './')\n",
        "print(len(os.listdir('game_logs')))\n",
        "print(len(os.listdir('validation')))\n",
        "train_filenames = os.listdir('game_logs')\n",
        "val_filenames = os.listdir('validation')\n",
        "train_filenames.sort()\n",
        "val_filenames.sort()\n",
        "print(train_filenames[0], val_filenames[0])"
      ]
    },
    {
      "cell_type": "code",
      "execution_count": 17,
      "metadata": {
        "colab": {
          "base_uri": "https://localhost:8080/"
        },
        "id": "hAl5gyGO0eRj",
        "outputId": "bd84deb3-c9d4-4ffb-c3d4-327571aab3f4"
      },
      "outputs": [
        {
          "output_type": "stream",
          "name": "stdout",
          "text": [
            "Num GPUs Available:  1\n",
            "Found GPU at: /device:GPU:0\n"
          ]
        }
      ],
      "source": [
        "import tensorflow as tf\n",
        "import tensorflow_datasets as tfds\n",
        "print(\"Num GPUs Available: \", len(tf.config.list_physical_devices('GPU')))\n",
        "device_name = tf.test.gpu_device_name()\n",
        "if device_name != '/device:GPU:0':\n",
        "  raise SystemError('GPU device not found')\n",
        "print('Found GPU at: {}'.format(device_name))"
      ]
    },
    {
      "cell_type": "code",
      "execution_count": 18,
      "metadata": {
        "id": "ru8caUd_UaAG"
      },
      "outputs": [],
      "source": [
        "# Constants\n",
        "T = 1 # Number of Timesteps for which boards are present in input\n",
        "N = 8 # board size\n",
        "HIDDEN_LAYER = 1 # hidden layer will be N * N * HIDDEN_LAYER neurons long\n",
        "OUTPUT_LAYER = 73 # output layer will be N * N * OUTPUT_LAYER neurons long\n",
        "BLOCKS = 10\n",
        "FILTERS = 128"
      ]
    },
    {
      "cell_type": "code",
      "source": [
        "import numpy as np\n",
        "\n",
        "class My_Custom_Generator(tf.keras.utils.Sequence) :\n",
        "  \n",
        "  def __init__(self, filenames, batch_size, randomize) :\n",
        "    self.filenames = filenames\n",
        "    self.batch_size = batch_size\n",
        "    self.randomize = randomize\n",
        "    self.boards_per_game = 4\n",
        "    \n",
        "    \n",
        "  def __len__(self) :\n",
        "    return (np.ceil(len(self.filenames) / float(self.batch_size))).astype(int)\n",
        "  \n",
        "  \n",
        "  def __getitem__(self, idx) :\n",
        "    filenames = self.filenames[idx * self.batch_size : (idx+1) * self.batch_size]\n",
        "\n",
        "    inputs = []\n",
        "    outputs = []\n",
        "    for f in filenames:\n",
        "      if not f.endswith('.npz'): continue\n",
        "      loaded = np.load(os.path.join('game_logs',f))\n",
        "      length = len(loaded['inputs'])\n",
        "      index = np.random.choice(length, length,replace=False)\n",
        "      if self.randomize:\n",
        "        index = np.random.choice(length, min(self.boards_per_game, length), replace = False)\n",
        "      inputs.extend(loaded['inputs'][index])\n",
        "      outputs.extend(loaded['outputs'][index])\n",
        "    \n",
        "    Y_new = []\n",
        "    for item in outputs: Y_new.append(item.flatten())\n",
        "    \n",
        "    # print(np.array(inputs).shape, np.array(Y_new).shape)\n",
        "    return np.array(inputs), np.array(Y_new)"
      ],
      "metadata": {
        "id": "LhS4zvoGFHDv"
      },
      "execution_count": 19,
      "outputs": []
    },
    {
      "cell_type": "code",
      "source": [
        "batch_size = 32\n",
        "\n",
        "training_generator = My_Custom_Generator(train_filenames, batch_size, True)\n",
        "validation_generator = My_Custom_Generator(val_filenames, batch_size, False)"
      ],
      "metadata": {
        "id": "fGGgUwdHGyP4"
      },
      "execution_count": 20,
      "outputs": []
    },
    {
      "cell_type": "code",
      "source": [
        "inputs = tf.keras.Input(shape=(8, 8, 14))\n",
        "x1 = tf.keras.layers.LeakyReLU()(inputs)\n",
        "\n",
        "x = tf.keras.layers.Conv2D(128, (3, 3), activation=\"relu\", padding=\"same\")(x1)\n",
        "x = tf.keras.layers.BatchNormalization()(x)\n",
        "x = tf.keras.layers.LeakyReLU()(x)\n",
        "\n",
        "x = tf.keras.layers.Conv2D(14, (3, 3), activation=\"relu\", padding=\"same\")(x)\n",
        "x = tf.keras.layers.BatchNormalization()(x)\n",
        "\n",
        "added = tf.keras.layers.add([x1, x])\n",
        "x = tf.keras.layers.LeakyReLU()(added)\n",
        "\n",
        "x = tf.keras.layers.Conv2D(73, (3,3),activation=\"relu\", padding=\"same\")(x)\n",
        "x = tf.keras.layers.BatchNormalization()(x)\n",
        "x = tf.keras.layers.LeakyReLU()(x)\n",
        "\n",
        "x = tf.keras.layers.Flatten()(x)\n",
        "\n",
        "x = tf.keras.layers.Softmax()(x)\n",
        "model = tf.keras.Model(inputs, x)\n",
        "model.summary()\n",
        "# tf.keras.utils.plot_model(model, \"multi_input_and_output_model.png\", show_shapes=True)"
      ],
      "metadata": {
        "id": "Pmp43EBuE09A",
        "colab": {
          "base_uri": "https://localhost:8080/"
        },
        "outputId": "57f60e80-6cc6-4dd6-de37-59cef942fc09"
      },
      "execution_count": 21,
      "outputs": [
        {
          "output_type": "stream",
          "name": "stdout",
          "text": [
            "Model: \"model_1\"\n",
            "__________________________________________________________________________________________________\n",
            " Layer (type)                   Output Shape         Param #     Connected to                     \n",
            "==================================================================================================\n",
            " input_2 (InputLayer)           [(None, 8, 8, 14)]   0           []                               \n",
            "                                                                                                  \n",
            " leaky_re_lu_4 (LeakyReLU)      (None, 8, 8, 14)     0           ['input_2[0][0]']                \n",
            "                                                                                                  \n",
            " conv2d_3 (Conv2D)              (None, 8, 8, 128)    16256       ['leaky_re_lu_4[0][0]']          \n",
            "                                                                                                  \n",
            " batch_normalization_3 (BatchNo  (None, 8, 8, 128)   512         ['conv2d_3[0][0]']               \n",
            " rmalization)                                                                                     \n",
            "                                                                                                  \n",
            " leaky_re_lu_5 (LeakyReLU)      (None, 8, 8, 128)    0           ['batch_normalization_3[0][0]']  \n",
            "                                                                                                  \n",
            " conv2d_4 (Conv2D)              (None, 8, 8, 14)     16142       ['leaky_re_lu_5[0][0]']          \n",
            "                                                                                                  \n",
            " batch_normalization_4 (BatchNo  (None, 8, 8, 14)    56          ['conv2d_4[0][0]']               \n",
            " rmalization)                                                                                     \n",
            "                                                                                                  \n",
            " add_1 (Add)                    (None, 8, 8, 14)     0           ['leaky_re_lu_4[0][0]',          \n",
            "                                                                  'batch_normalization_4[0][0]']  \n",
            "                                                                                                  \n",
            " leaky_re_lu_6 (LeakyReLU)      (None, 8, 8, 14)     0           ['add_1[0][0]']                  \n",
            "                                                                                                  \n",
            " conv2d_5 (Conv2D)              (None, 8, 8, 73)     9271        ['leaky_re_lu_6[0][0]']          \n",
            "                                                                                                  \n",
            " batch_normalization_5 (BatchNo  (None, 8, 8, 73)    292         ['conv2d_5[0][0]']               \n",
            " rmalization)                                                                                     \n",
            "                                                                                                  \n",
            " leaky_re_lu_7 (LeakyReLU)      (None, 8, 8, 73)     0           ['batch_normalization_5[0][0]']  \n",
            "                                                                                                  \n",
            " flatten_1 (Flatten)            (None, 4672)         0           ['leaky_re_lu_7[0][0]']          \n",
            "                                                                                                  \n",
            " softmax_1 (Softmax)            (None, 4672)         0           ['flatten_1[0][0]']              \n",
            "                                                                                                  \n",
            "==================================================================================================\n",
            "Total params: 42,529\n",
            "Trainable params: 42,099\n",
            "Non-trainable params: 430\n",
            "__________________________________________________________________________________________________\n"
          ]
        }
      ]
    },
    {
      "cell_type": "code",
      "execution_count": 22,
      "metadata": {
        "id": "ESOyGRnH0xgR"
      },
      "outputs": [],
      "source": [
        "model.compile(\n",
        "    optimizer=tf.keras.optimizers.Adam(0.001),\n",
        "    loss=tf.keras.losses.MeanSquaredError(),\n",
        "    metrics=[tf.keras.metrics.CategoricalAccuracy()],\n",
        ")"
      ]
    },
    {
      "cell_type": "code",
      "source": [
        "history = model.fit_generator(generator=training_generator,\n",
        "                   steps_per_epoch = int(len(train_filenames) // batch_size),\n",
        "                   epochs = 10,\n",
        "                   verbose = 1,\n",
        "                   validation_data = validation_generator,\n",
        "                   validation_steps = int(1000 // batch_size)) # Use only 1000 samples for validation"
      ],
      "metadata": {
        "colab": {
          "base_uri": "https://localhost:8080/"
        },
        "id": "Ur9OAs8lHI51",
        "outputId": "125d031d-5e9e-4aba-ebd9-4e1ddd9bf805"
      },
      "execution_count": 23,
      "outputs": [
        {
          "output_type": "stream",
          "name": "stdout",
          "text": [
            "Epoch 1/10\n"
          ]
        },
        {
          "output_type": "stream",
          "name": "stderr",
          "text": [
            "/usr/local/lib/python3.7/dist-packages/ipykernel_launcher.py:6: UserWarning: `Model.fit_generator` is deprecated and will be removed in a future version. Please use `Model.fit`, which supports generators.\n",
            "  \n"
          ]
        },
        {
          "output_type": "stream",
          "name": "stdout",
          "text": [
            "875/875 [==============================] - 140s 160ms/step - loss: 2.0729e-04 - categorical_accuracy: 0.0849 - val_loss: 2.1575e-04 - val_categorical_accuracy: 0.0472\n",
            "Epoch 2/10\n",
            "875/875 [==============================] - 139s 158ms/step - loss: 1.9459e-04 - categorical_accuracy: 0.1677 - val_loss: 2.0825e-04 - val_categorical_accuracy: 0.0796\n",
            "Epoch 3/10\n",
            "875/875 [==============================] - 139s 159ms/step - loss: 1.8899e-04 - categorical_accuracy: 0.2025 - val_loss: 2.0790e-04 - val_categorical_accuracy: 0.0865\n",
            "Epoch 4/10\n",
            "875/875 [==============================] - 139s 158ms/step - loss: 1.8309e-04 - categorical_accuracy: 0.2360 - val_loss: 2.0506e-04 - val_categorical_accuracy: 0.1129\n",
            "Epoch 5/10\n",
            "875/875 [==============================] - 139s 159ms/step - loss: 1.7916e-04 - categorical_accuracy: 0.2609 - val_loss: 2.0560e-04 - val_categorical_accuracy: 0.1226\n",
            "Epoch 6/10\n",
            "875/875 [==============================] - 139s 158ms/step - loss: 1.7731e-04 - categorical_accuracy: 0.2715 - val_loss: 2.0232e-04 - val_categorical_accuracy: 0.1367\n",
            "Epoch 7/10\n",
            "875/875 [==============================] - 138s 158ms/step - loss: 1.7553e-04 - categorical_accuracy: 0.2823 - val_loss: 2.0047e-04 - val_categorical_accuracy: 0.1546\n",
            "Epoch 8/10\n",
            "875/875 [==============================] - 138s 158ms/step - loss: 1.7478e-04 - categorical_accuracy: 0.2864 - val_loss: 2.0046e-04 - val_categorical_accuracy: 0.1464\n",
            "Epoch 9/10\n",
            "875/875 [==============================] - 138s 158ms/step - loss: 1.7390e-04 - categorical_accuracy: 0.2906 - val_loss: 1.9894e-04 - val_categorical_accuracy: 0.1630\n",
            "Epoch 10/10\n",
            "875/875 [==============================] - 139s 158ms/step - loss: 1.7317e-04 - categorical_accuracy: 0.2948 - val_loss: 1.9932e-04 - val_categorical_accuracy: 0.1586\n"
          ]
        }
      ]
    },
    {
      "cell_type": "code",
      "execution_count": 24,
      "metadata": {
        "colab": {
          "base_uri": "https://localhost:8080/",
          "height": 312
        },
        "id": "-J1ZAE5s8tqb",
        "outputId": "89e9aa57-07fc-4cab-f6b6-bdd9cdb85cfd"
      },
      "outputs": [
        {
          "output_type": "execute_result",
          "data": {
            "text/plain": [
              "[<matplotlib.lines.Line2D at 0x7f7d95eb3590>]"
            ]
          },
          "metadata": {},
          "execution_count": 24
        },
        {
          "output_type": "display_data",
          "data": {
            "text/plain": [
              "<Figure size 432x288 with 1 Axes>"
            ],
            "image/png": "[encoded data removed]"
          },
          "metadata": {
            "needs_background": "light"
          }
        }
      ],
      "source": [
        "# Plot the loss a sa function of number of epochs\n",
        "import matplotlib.pyplot as plt\n",
        "plt.title('Training Loss')\n",
        "plt.xlabel('epochs')\n",
        "plt.ylabel('MSE loss')\n",
        "plt.plot(list(map(lambda x: x+1, range(len(history.history['loss'])))),  history.history['loss'])"
      ]
    },
    {
      "cell_type": "code",
      "source": [
        "plt.title('Training Accuracy')\n",
        "plt.xlabel('epochs')\n",
        "plt.ylabel('Accuracy')\n",
        "plt.plot(list(map(lambda x: x+1, range(len(history.history['categorical_accuracy'])))),  history.history['categorical_accuracy'])"
      ],
      "metadata": {
        "colab": {
          "base_uri": "https://localhost:8080/",
          "height": 312
        },
        "id": "5xGRMhZmisMR",
        "outputId": "6148a438-a285-419c-a91d-94cadf7eb8a9"
      },
      "execution_count": 25,
      "outputs": [
        {
          "output_type": "execute_result",
          "data": {
            "text/plain": [
              "[<matplotlib.lines.Line2D at 0x7f7e0fe6a4d0>]"
            ]
          },
          "metadata": {},
          "execution_count": 25
        },
        {
          "output_type": "display_data",
          "data": {
            "text/plain": [
              "<Figure size 432x288 with 1 Axes>"
            ],
            "image/png": "[encoded data removed]"
          },
          "metadata": {
            "needs_background": "light"
          }
        }
      ]
    },
    {
      "cell_type": "code",
      "source": [
        "# Plot the loss a sa function of number of epochs\n",
        "plt.title('Validation Loss')\n",
        "plt.xlabel('epochs')\n",
        "plt.ylabel('MSE  loss')\n",
        "plt.plot(list(map(lambda x: x+1, range(len(history.history['val_loss'])))),  history.history['val_loss'])"
      ],
      "metadata": {
        "colab": {
          "base_uri": "https://localhost:8080/",
          "height": 312
        },
        "id": "lZFfRfr4Bq32",
        "outputId": "16d2cebc-108f-4289-9213-9f5e4c6e17bb"
      },
      "execution_count": 26,
      "outputs": [
        {
          "output_type": "execute_result",
          "data": {
            "text/plain": [
              "[<matplotlib.lines.Line2D at 0x7f7e0fe4c8d0>]"
            ]
          },
          "metadata": {},
          "execution_count": 26
        },
        {
          "output_type": "display_data",
          "data": {
            "text/plain": [
              "<Figure size 432x288 with 1 Axes>"
            ],
            "image/png": "[encoded data removed]"
          },
          "metadata": {
            "needs_background": "light"
          }
        }
      ]
    },
    {
      "cell_type": "code",
      "source": [
        "# Plot the loss a sa function of number of epochs\n",
        "plt.title('Validation Accuracy')\n",
        "plt.xlabel('epochs')\n",
        "plt.ylabel('Accuracy')\n",
        "plt.plot(list(map(lambda x: x+1, range(len(history.history['val_categorical_accuracy'])))),  history.history['val_categorical_accuracy'])"
      ],
      "metadata": {
        "colab": {
          "base_uri": "https://localhost:8080/",
          "height": 312
        },
        "id": "-4UDQNLIi5w1",
        "outputId": "00139189-f1d6-43e4-f18c-8c2aa92577a7"
      },
      "execution_count": 27,
      "outputs": [
        {
          "output_type": "execute_result",
          "data": {
            "text/plain": [
              "[<matplotlib.lines.Line2D at 0x7f7e0fdb18d0>]"
            ]
          },
          "metadata": {},
          "execution_count": 27
        },
        {
          "output_type": "display_data",
          "data": {
            "text/plain": [
              "<Figure size 432x288 with 1 Axes>"
            ],
            "image/png": "[encoded data removed]"
          },
          "metadata": {
            "needs_background": "light"
          }
        }
      ]
    },
    {
      "cell_type": "code",
      "source": [
        "print(history.history)"
      ],
      "metadata": {
        "colab": {
          "base_uri": "https://localhost:8080/"
        },
        "id": "Om3ur4YIBrA1",
        "outputId": "5c03e2b7-8f74-46be-df48-899f1c5b6092"
      },
      "execution_count": 28,
      "outputs": [
        {
          "output_type": "stream",
          "name": "stdout",
          "text": [
            "{'loss': [0.00020728545496240258, 0.0001945939293364063, 0.00018899115093518049, 0.0001830909022828564, 0.00017915603530127555, 0.0001773134572431445, 0.00017552768986206502, 0.00017477701476309448, 0.0001738984719850123, 0.00017316901357844472], 'categorical_accuracy': [0.08488208055496216, 0.16765421628952026, 0.20253555476665497, 0.23603878915309906, 0.26092368364334106, 0.2715384066104889, 0.2822738289833069, 0.2863750755786896, 0.29061663150787354, 0.2947607636451721], 'val_loss': [0.0002157548733521253, 0.00020824943203479052, 0.00020789603877346963, 0.00020506448345258832, 0.0002056009543593973, 0.00020232021051924676, 0.0002004654670599848, 0.00020046123245265335, 0.00019894172146450728, 0.00019931519636884332], 'val_categorical_accuracy': [0.04724596440792084, 0.07962962985038757, 0.08646723628044128, 0.11291547864675522, 0.12260209023952484, 0.13670465350151062, 0.15455840528011322, 0.14639125764369965, 0.16301044821739197, 0.15859448909759521]}\n"
          ]
        }
      ]
    }
  ],
  "metadata": {
    "accelerator": "GPU",
    "colab": {
      "collapsed_sections": [],
      "name": "Opponent Modelling.ipynb",
      "provenance": [],
      "include_colab_link": true
    },
    "kernelspec": {
      "display_name": "Python 3",
      "name": "python3"
    },
    "language_info": {
      "name": "python"
    }
  },
  "nbformat": 4,
  "nbformat_minor": 0
}