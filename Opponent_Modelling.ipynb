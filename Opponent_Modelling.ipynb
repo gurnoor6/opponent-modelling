{
  "cells": [
    {
      "cell_type": "markdown",
      "metadata": {
        "id": "view-in-github",
        "colab_type": "text"
      },
      "source": [
        "<a href=\"https://colab.research.google.com/github/gurnoor6/opponent-modelling/blob/main/Opponent_Modelling.ipynb\" target=\"_parent\"><img src=\"https://colab.research.google.com/assets/colab-badge.svg\" alt=\"Open In Colab\"/></a>"
      ]
    },
    {
      "cell_type": "code",
      "execution_count": 1,
      "metadata": {
        "colab": {
          "base_uri": "https://localhost:8080/"
        },
        "id": "P8qm5R4EZ1y-",
        "outputId": "13b830b4-3187-4eaa-82bf-1136f6394351"
      },
      "outputs": [
        {
          "output_type": "stream",
          "name": "stdout",
          "text": [
            "28004\n",
            "19122\n",
            "316756.npz 316756.npz\n"
          ]
        }
      ],
      "source": [
        "import shutil, os\n",
        "# shutil.rmtree(\"game_logs\")\n",
        "shutil.unpack_archive('game_logs.zip', './')\n",
        "shutil.unpack_archive('validation.zip', './')\n",
        "print(len(os.listdir('game_logs')))\n",
        "print(len(os.listdir('validation')))\n",
        "train_filenames = os.listdir('game_logs')\n",
        "val_filenames = os.listdir('validation')\n",
        "train_filenames.sort()\n",
        "val_filenames.sort()\n",
        "print(train_filenames[0], val_filenames[0])"
      ]
    },
    {
      "cell_type": "code",
      "execution_count": 2,
      "metadata": {
        "colab": {
          "base_uri": "https://localhost:8080/"
        },
        "id": "hAl5gyGO0eRj",
        "outputId": "d86ba68a-7fd8-4d11-939e-4472a26e820b"
      },
      "outputs": [
        {
          "output_type": "stream",
          "name": "stdout",
          "text": [
            "Num GPUs Available:  1\n",
            "Found GPU at: /device:GPU:0\n"
          ]
        }
      ],
      "source": [
        "import tensorflow as tf\n",
        "import tensorflow_datasets as tfds\n",
        "print(\"Num GPUs Available: \", len(tf.config.list_physical_devices('GPU')))\n",
        "device_name = tf.test.gpu_device_name()\n",
        "if device_name != '/device:GPU:0':\n",
        "  raise SystemError('GPU device not found')\n",
        "print('Found GPU at: {}'.format(device_name))"
      ]
    },
    {
      "cell_type": "code",
      "execution_count": 3,
      "metadata": {
        "id": "ru8caUd_UaAG"
      },
      "outputs": [],
      "source": [
        "# Constants\n",
        "T = 1 # Number of Timesteps for which boards are present in input\n",
        "N = 8 # board size\n",
        "HIDDEN_LAYER = 1 # hidden layer will be N * N * HIDDEN_LAYER neurons long\n",
        "OUTPUT_LAYER = 73 # output layer will be N * N * OUTPUT_LAYER neurons long\n",
        "BLOCKS = 10\n",
        "FILTERS = 128"
      ]
    },
    {
      "cell_type": "code",
      "source": [
        "import numpy as np\n",
        "\n",
        "class My_Custom_Generator(tf.keras.utils.Sequence) :\n",
        "  \n",
        "  def __init__(self, filenames, batch_size, randomize) :\n",
        "    self.filenames = filenames\n",
        "    self.batch_size = batch_size\n",
        "    self.randomize = randomize\n",
        "    self.boards_per_game = 4\n",
        "    \n",
        "    \n",
        "  def __len__(self) :\n",
        "    return (np.ceil(len(self.filenames) / float(self.batch_size))).astype(int)\n",
        "  \n",
        "  \n",
        "  def __getitem__(self, idx) :\n",
        "    filenames = self.filenames[idx * self.batch_size : (idx+1) * self.batch_size]\n",
        "\n",
        "    inputs = []\n",
        "    outputs = []\n",
        "    for f in filenames:\n",
        "      if not f.endswith('.npz'): continue\n",
        "      loaded = np.load(os.path.join('game_logs',f))\n",
        "      length = len(loaded['inputs'])\n",
        "      index = np.random.choice(length, length,replace=False)\n",
        "      if self.randomize:\n",
        "        index = np.random.choice(length, min(self.boards_per_game, length), replace = False)\n",
        "      inputs.extend(loaded['inputs'][index])\n",
        "      outputs.extend(loaded['outputs'][index])\n",
        "    \n",
        "    Y_new = []\n",
        "    for item in outputs: Y_new.append(item.flatten())\n",
        "    \n",
        "    # print(np.array(inputs).shape, np.array(Y_new).shape)\n",
        "    return np.array(inputs), np.array(Y_new)"
      ],
      "metadata": {
        "id": "LhS4zvoGFHDv"
      },
      "execution_count": 4,
      "outputs": []
    },
    {
      "cell_type": "code",
      "source": [
        "batch_size = 32\n",
        "\n",
        "training_generator = My_Custom_Generator(train_filenames, batch_size, True)\n",
        "validation_generator = My_Custom_Generator(val_filenames, batch_size, False)"
      ],
      "metadata": {
        "id": "fGGgUwdHGyP4"
      },
      "execution_count": 5,
      "outputs": []
    },
    {
      "cell_type": "code",
      "source": [
        "inputs = tf.keras.Input(shape=(8, 8, 14))\n",
        "x1 = tf.keras.layers.LeakyReLU()(inputs)\n",
        "\n",
        "x = tf.keras.layers.Conv2D(128, (3, 3), activation=\"relu\", padding=\"same\")(x1)\n",
        "x = tf.keras.layers.BatchNormalization()(x)\n",
        "x = tf.keras.layers.LeakyReLU()(x)\n",
        "\n",
        "x = tf.keras.layers.Conv2D(14, (3, 3), activation=\"relu\", padding=\"same\")(x)\n",
        "x = tf.keras.layers.BatchNormalization()(x)\n",
        "\n",
        "added = tf.keras.layers.add([x1, x])\n",
        "x = tf.keras.layers.LeakyReLU()(added)\n",
        "\n",
        "x = tf.keras.layers.Conv2D(73, (3,3),activation=\"relu\", padding=\"same\")(x)\n",
        "x = tf.keras.layers.BatchNormalization()(x)\n",
        "x = tf.keras.layers.LeakyReLU()(x)\n",
        "\n",
        "x = tf.keras.layers.Flatten()(x)\n",
        "\n",
        "x = tf.keras.layers.Softmax()(x)\n",
        "model = tf.keras.Model(inputs, x)\n",
        "model.summary()\n",
        "# tf.keras.utils.plot_model(model, \"multi_input_and_output_model.png\", show_shapes=True)"
      ],
      "metadata": {
        "id": "Pmp43EBuE09A",
        "colab": {
          "base_uri": "https://localhost:8080/"
        },
        "outputId": "d8c1baea-1e75-42ed-acf0-fc4b15cc0588"
      },
      "execution_count": 6,
      "outputs": [
        {
          "output_type": "stream",
          "name": "stdout",
          "text": [
            "Model: \"model\"\n",
            "__________________________________________________________________________________________________\n",
            " Layer (type)                   Output Shape         Param #     Connected to                     \n",
            "==================================================================================================\n",
            " input_1 (InputLayer)           [(None, 8, 8, 14)]   0           []                               \n",
            "                                                                                                  \n",
            " leaky_re_lu (LeakyReLU)        (None, 8, 8, 14)     0           ['input_1[0][0]']                \n",
            "                                                                                                  \n",
            " conv2d (Conv2D)                (None, 8, 8, 128)    16256       ['leaky_re_lu[0][0]']            \n",
            "                                                                                                  \n",
            " batch_normalization (BatchNorm  (None, 8, 8, 128)   512         ['conv2d[0][0]']                 \n",
            " alization)                                                                                       \n",
            "                                                                                                  \n",
            " leaky_re_lu_1 (LeakyReLU)      (None, 8, 8, 128)    0           ['batch_normalization[0][0]']    \n",
            "                                                                                                  \n",
            " conv2d_1 (Conv2D)              (None, 8, 8, 14)     16142       ['leaky_re_lu_1[0][0]']          \n",
            "                                                                                                  \n",
            " batch_normalization_1 (BatchNo  (None, 8, 8, 14)    56          ['conv2d_1[0][0]']               \n",
            " rmalization)                                                                                     \n",
            "                                                                                                  \n",
            " add (Add)                      (None, 8, 8, 14)     0           ['leaky_re_lu[0][0]',            \n",
            "                                                                  'batch_normalization_1[0][0]']  \n",
            "                                                                                                  \n",
            " leaky_re_lu_2 (LeakyReLU)      (None, 8, 8, 14)     0           ['add[0][0]']                    \n",
            "                                                                                                  \n",
            " conv2d_2 (Conv2D)              (None, 8, 8, 73)     9271        ['leaky_re_lu_2[0][0]']          \n",
            "                                                                                                  \n",
            " batch_normalization_2 (BatchNo  (None, 8, 8, 73)    292         ['conv2d_2[0][0]']               \n",
            " rmalization)                                                                                     \n",
            "                                                                                                  \n",
            " leaky_re_lu_3 (LeakyReLU)      (None, 8, 8, 73)     0           ['batch_normalization_2[0][0]']  \n",
            "                                                                                                  \n",
            " flatten (Flatten)              (None, 4672)         0           ['leaky_re_lu_3[0][0]']          \n",
            "                                                                                                  \n",
            " softmax (Softmax)              (None, 4672)         0           ['flatten[0][0]']                \n",
            "                                                                                                  \n",
            "==================================================================================================\n",
            "Total params: 42,529\n",
            "Trainable params: 42,099\n",
            "Non-trainable params: 430\n",
            "__________________________________________________________________________________________________\n"
          ]
        }
      ]
    },
    {
      "cell_type": "code",
      "execution_count": 7,
      "metadata": {
        "id": "ESOyGRnH0xgR"
      },
      "outputs": [],
      "source": [
        "model.compile(\n",
        "    optimizer=tf.keras.optimizers.Adam(0.001),\n",
        "    loss=tf.keras.losses.CategoricalCrossentropy(),\n",
        "    metrics=[tf.keras.metrics.CategoricalAccuracy()],\n",
        ")"
      ]
    },
    {
      "cell_type": "code",
      "source": [
        "history = model.fit_generator(generator=training_generator,\n",
        "                   steps_per_epoch = int(len(train_filenames) // batch_size),\n",
        "                   epochs = 20,\n",
        "                   verbose = 1,\n",
        "                   validation_data = validation_generator,\n",
        "                   validation_steps = int(1000 // batch_size)) # Use only 1000 samples for validation"
      ],
      "metadata": {
        "colab": {
          "base_uri": "https://localhost:8080/"
        },
        "id": "Ur9OAs8lHI51",
        "outputId": "e490f2bb-6e88-489c-e923-e57cbb8a8b1c"
      },
      "execution_count": 8,
      "outputs": [
        {
          "output_type": "stream",
          "name": "stderr",
          "text": [
            "/usr/local/lib/python3.7/dist-packages/ipykernel_launcher.py:6: UserWarning: `Model.fit_generator` is deprecated and will be removed in a future version. Please use `Model.fit`, which supports generators.\n",
            "  \n"
          ]
        },
        {
          "output_type": "stream",
          "name": "stdout",
          "text": [
            "Epoch 1/20\n",
            "875/875 [==============================] - 152s 161ms/step - loss: 4.0378 - categorical_accuracy: 0.2324 - val_loss: 4.1963 - val_categorical_accuracy: 0.1497\n",
            "Epoch 2/20\n",
            "875/875 [==============================] - 140s 160ms/step - loss: 3.2371 - categorical_accuracy: 0.2746 - val_loss: 3.8087 - val_categorical_accuracy: 0.1597\n",
            "Epoch 3/20\n",
            "875/875 [==============================] - 140s 160ms/step - loss: 3.0409 - categorical_accuracy: 0.2900 - val_loss: 3.6238 - val_categorical_accuracy: 0.1804\n",
            "Epoch 4/20\n",
            "875/875 [==============================] - 149s 170ms/step - loss: 2.9470 - categorical_accuracy: 0.3007 - val_loss: 3.5341 - val_categorical_accuracy: 0.1808\n",
            "Epoch 5/20\n",
            "875/875 [==============================] - 144s 164ms/step - loss: 2.9047 - categorical_accuracy: 0.3036 - val_loss: 3.5433 - val_categorical_accuracy: 0.1835\n",
            "Epoch 6/20\n",
            "875/875 [==============================] - 143s 163ms/step - loss: 2.8668 - categorical_accuracy: 0.3071 - val_loss: 3.4610 - val_categorical_accuracy: 0.2038\n",
            "Epoch 7/20\n",
            "875/875 [==============================] - 141s 161ms/step - loss: 2.8367 - categorical_accuracy: 0.3107 - val_loss: 3.4011 - val_categorical_accuracy: 0.2096\n",
            "Epoch 8/20\n",
            "875/875 [==============================] - 145s 166ms/step - loss: 2.8124 - categorical_accuracy: 0.3144 - val_loss: 3.3908 - val_categorical_accuracy: 0.2036\n",
            "Epoch 9/20\n",
            "875/875 [==============================] - 140s 160ms/step - loss: 2.7979 - categorical_accuracy: 0.3151 - val_loss: 3.3608 - val_categorical_accuracy: 0.2046\n",
            "Epoch 10/20\n",
            "875/875 [==============================] - 140s 159ms/step - loss: 2.7797 - categorical_accuracy: 0.3188 - val_loss: 3.3548 - val_categorical_accuracy: 0.2038\n",
            "Epoch 11/20\n",
            "875/875 [==============================] - 139s 159ms/step - loss: 2.7640 - categorical_accuracy: 0.3206 - val_loss: 3.3460 - val_categorical_accuracy: 0.2015\n",
            "Epoch 12/20\n",
            "875/875 [==============================] - 139s 159ms/step - loss: 2.7500 - categorical_accuracy: 0.3225 - val_loss: 3.3156 - val_categorical_accuracy: 0.2195\n",
            "Epoch 13/20\n",
            "875/875 [==============================] - 141s 161ms/step - loss: 2.7386 - categorical_accuracy: 0.3234 - val_loss: 3.3049 - val_categorical_accuracy: 0.2098\n",
            "Epoch 14/20\n",
            "875/875 [==============================] - 139s 159ms/step - loss: 2.7317 - categorical_accuracy: 0.3247 - val_loss: 3.2979 - val_categorical_accuracy: 0.2130\n",
            "Epoch 15/20\n",
            "875/875 [==============================] - 138s 158ms/step - loss: 2.7171 - categorical_accuracy: 0.3283 - val_loss: 3.2717 - val_categorical_accuracy: 0.2215\n",
            "Epoch 16/20\n",
            "875/875 [==============================] - 138s 158ms/step - loss: 2.7092 - categorical_accuracy: 0.3286 - val_loss: 3.2699 - val_categorical_accuracy: 0.2196\n",
            "Epoch 17/20\n",
            "875/875 [==============================] - 138s 158ms/step - loss: 2.7038 - categorical_accuracy: 0.3283 - val_loss: 3.2697 - val_categorical_accuracy: 0.2185\n",
            "Epoch 18/20\n",
            "875/875 [==============================] - 139s 158ms/step - loss: 2.6981 - categorical_accuracy: 0.3287 - val_loss: 3.2487 - val_categorical_accuracy: 0.2167\n",
            "Epoch 19/20\n",
            "875/875 [==============================] - 139s 159ms/step - loss: 2.6902 - categorical_accuracy: 0.3313 - val_loss: 3.2495 - val_categorical_accuracy: 0.2228\n",
            "Epoch 20/20\n",
            "875/875 [==============================] - 139s 159ms/step - loss: 2.6837 - categorical_accuracy: 0.3315 - val_loss: 3.2116 - val_categorical_accuracy: 0.2312\n"
          ]
        }
      ]
    },
    {
      "cell_type": "code",
      "execution_count": 9,
      "metadata": {
        "colab": {
          "base_uri": "https://localhost:8080/",
          "height": 312
        },
        "id": "-J1ZAE5s8tqb",
        "outputId": "1df1fbc3-f1b4-4a92-e400-1da440c68b43"
      },
      "outputs": [
        {
          "output_type": "execute_result",
          "data": {
            "text/plain": [
              "[<matplotlib.lines.Line2D at 0x7f7e9020e6d0>]"
            ]
          },
          "metadata": {},
          "execution_count": 9
        },
        {
          "output_type": "display_data",
          "data": {
            "text/plain": [
              "<Figure size 432x288 with 1 Axes>"
            ],
            "image/png": "[encoded data removed]"
          },
          "metadata": {
            "needs_background": "light"
          }
        }
      ],
      "source": [
        "# Plot the loss a sa function of number of epochs\n",
        "import matplotlib.pyplot as plt\n",
        "plt.title('Training Loss')\n",
        "plt.xlabel('epochs')\n",
        "plt.ylabel('Cross Entropy loss')\n",
        "plt.plot(list(map(lambda x: x+1, range(len(history.history['loss'])))),  history.history['loss'])"
      ]
    },
    {
      "cell_type": "code",
      "source": [
        "plt.title('Training Accuracy')\n",
        "plt.xlabel('epochs')\n",
        "plt.ylabel('Accuracy')\n",
        "plt.plot(list(map(lambda x: x+1, range(len(history.history['categorical_accuracy'])))),  history.history['categorical_accuracy'])"
      ],
      "metadata": {
        "colab": {
          "base_uri": "https://localhost:8080/",
          "height": 312
        },
        "id": "5xGRMhZmisMR",
        "outputId": "b2b70fbb-1929-4656-9ff5-e416a4b4b732"
      },
      "execution_count": 12,
      "outputs": [
        {
          "output_type": "execute_result",
          "data": {
            "text/plain": [
              "[<matplotlib.lines.Line2D at 0x7f7e9009e650>]"
            ]
          },
          "metadata": {},
          "execution_count": 12
        },
        {
          "output_type": "display_data",
          "data": {
            "text/plain": [
              "<Figure size 432x288 with 1 Axes>"
            ],
            "image/png": "[encoded data removed]"
          },
          "metadata": {
            "needs_background": "light"
          }
        }
      ]
    },
    {
      "cell_type": "code",
      "source": [
        "# Plot the loss a sa function of number of epochs\n",
        "plt.title('Validation Loss')\n",
        "plt.xlabel('epochs')\n",
        "plt.ylabel('Cross Entropy loss')\n",
        "plt.plot(list(map(lambda x: x+1, range(len(history.history['val_loss'])))),  history.history['val_loss'])"
      ],
      "metadata": {
        "colab": {
          "base_uri": "https://localhost:8080/",
          "height": 312
        },
        "id": "lZFfRfr4Bq32",
        "outputId": "65382b5d-391a-4c23-e13c-765a0eacf5c2"
      },
      "execution_count": 10,
      "outputs": [
        {
          "output_type": "execute_result",
          "data": {
            "text/plain": [
              "[<matplotlib.lines.Line2D at 0x7f7e90229d50>]"
            ]
          },
          "metadata": {},
          "execution_count": 10
        },
        {
          "output_type": "display_data",
          "data": {
            "text/plain": [
              "<Figure size 432x288 with 1 Axes>"
            ],
            "image/png": "[encoded data removed]"
          },
          "metadata": {
            "needs_background": "light"
          }
        }
      ]
    },
    {
      "cell_type": "code",
      "source": [
        "# Plot the loss a sa function of number of epochs\n",
        "plt.title('Validation Accuracy')\n",
        "plt.xlabel('epochs')\n",
        "plt.ylabel('Accuracy')\n",
        "plt.plot(list(map(lambda x: x+1, range(len(history.history['val_categorical_accuracy'])))),  history.history['val_categorical_accuracy'])"
      ],
      "metadata": {
        "colab": {
          "base_uri": "https://localhost:8080/",
          "height": 312
        },
        "id": "-4UDQNLIi5w1",
        "outputId": "d449a3f9-db20-4d8f-a342-6700b590b321"
      },
      "execution_count": 13,
      "outputs": [
        {
          "output_type": "execute_result",
          "data": {
            "text/plain": [
              "[<matplotlib.lines.Line2D at 0x7f7e262a7fd0>]"
            ]
          },
          "metadata": {},
          "execution_count": 13
        },
        {
          "output_type": "display_data",
          "data": {
            "text/plain": [
              "<Figure size 432x288 with 1 Axes>"
            ],
            "image/png": "[encoded data removed]"
          },
          "metadata": {
            "needs_background": "light"
          }
        }
      ]
    },
    {
      "cell_type": "code",
      "source": [
        "print(history.history)"
      ],
      "metadata": {
        "colab": {
          "base_uri": "https://localhost:8080/"
        },
        "id": "Om3ur4YIBrA1",
        "outputId": "48a40082-a5b0-425f-b3f7-954ba2a2ccdf"
      },
      "execution_count": 11,
      "outputs": [
        {
          "output_type": "stream",
          "name": "stdout",
          "text": [
            "{'loss': [4.037755966186523, 3.2370738983154297, 3.0408730506896973, 2.9469857215881348, 2.9046947956085205, 2.866838216781616, 2.8367183208465576, 2.812448024749756, 2.7978572845458984, 2.7796881198883057, 2.764037609100342, 2.749990463256836, 2.7385730743408203, 2.7316861152648926, 2.7170965671539307, 2.7091827392578125, 2.703817367553711, 2.698148012161255, 2.6901791095733643, 2.683699607849121], 'categorical_accuracy': [0.23240089416503906, 0.27462172508239746, 0.28995439410209656, 0.300668865442276, 0.303579717874527, 0.3071022927761078, 0.31073465943336487, 0.31438177824020386, 0.31508156657218933, 0.31879568099975586, 0.3205980062484741, 0.32245224714279175, 0.3234000504016876, 0.3247057795524597, 0.3282530903816223, 0.3285893499851227, 0.3283076286315918, 0.328659325838089, 0.3312794864177704, 0.3314763605594635], 'val_loss': [4.196321964263916, 3.808664560317993, 3.6238322257995605, 3.5341339111328125, 3.5432732105255127, 3.4610488414764404, 3.401136636734009, 3.3908064365386963, 3.3608031272888184, 3.354813575744629, 3.3459742069244385, 3.315600633621216, 3.304867744445801, 3.297877073287964, 3.2716517448425293, 3.269937515258789, 3.269695281982422, 3.248703956604004, 3.2494983673095703, 3.21162486076355], 'val_categorical_accuracy': [0.1497150957584381, 0.1597341001033783, 0.1804368495941162, 0.18076923489570618, 0.1835232675075531, 0.20384615659713745, 0.20959164202213287, 0.20356124639511108, 0.20455840229988098, 0.20379866659641266, 0.2014719843864441, 0.21951566636562347, 0.20982906222343445, 0.21301044523715973, 0.22150997817516327, 0.21961063146591187, 0.21847103536128998, 0.21666666865348816, 0.22279202938079834, 0.2311965823173523]}\n"
          ]
        }
      ]
    }
  ],
  "metadata": {
    "accelerator": "GPU",
    "colab": {
      "collapsed_sections": [],
      "name": "Opponent Modelling.ipynb",
      "provenance": [],
      "include_colab_link": true
    },
    "kernelspec": {
      "display_name": "Python 3",
      "name": "python3"
    },
    "language_info": {
      "name": "python"
    }
  },
  "nbformat": 4,
  "nbformat_minor": 0
}