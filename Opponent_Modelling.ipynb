{
  "cells": [
    {
      "cell_type": "markdown",
      "metadata": {
        "id": "view-in-github",
        "colab_type": "text"
      },
      "source": [
        "<a href=\"https://colab.research.google.com/github/gurnoor6/opponent-modelling/blob/main/Opponent_Modelling.ipynb\" target=\"_parent\"><img src=\"https://colab.research.google.com/assets/colab-badge.svg\" alt=\"Open In Colab\"/></a>"
      ]
    },
    {
      "cell_type": "code",
      "execution_count": 15,
      "metadata": {
        "colab": {
          "base_uri": "https://localhost:8080/"
        },
        "id": "P8qm5R4EZ1y-",
        "outputId": "e5f013c0-aafb-47a4-997c-4575d395d32e"
      },
      "outputs": [
        {
          "output_type": "stream",
          "name": "stdout",
          "text": [
            "28005\n",
            "19123\n",
            "400927.npz 400927.npz\n"
          ]
        }
      ],
      "source": [
        "import shutil, os\n",
        "# shutil.rmtree(\"game_logs\")\n",
        "shutil.unpack_archive('game_logs.zip', './')\n",
        "shutil.unpack_archive('validation.zip', './')\n",
        "print(len(os.listdir('game_logs')))\n",
        "print(len(os.listdir('validation')))\n",
        "train_filenames = os.listdir('game_logs')\n",
        "val_filenames = os.listdir('validation')\n",
        "print(train_filenames[0], val_filenames[0])"
      ]
    },
    {
      "cell_type": "code",
      "execution_count": 16,
      "metadata": {
        "colab": {
          "base_uri": "https://localhost:8080/"
        },
        "id": "hAl5gyGO0eRj",
        "outputId": "0cfc1f54-9f67-411a-ab5f-e6471db347ea"
      },
      "outputs": [
        {
          "output_type": "stream",
          "name": "stdout",
          "text": [
            "Num GPUs Available:  1\n",
            "Found GPU at: /device:GPU:0\n"
          ]
        }
      ],
      "source": [
        "import tensorflow as tf\n",
        "import tensorflow_datasets as tfds\n",
        "print(\"Num GPUs Available: \", len(tf.config.list_physical_devices('GPU')))\n",
        "device_name = tf.test.gpu_device_name()\n",
        "if device_name != '/device:GPU:0':\n",
        "  raise SystemError('GPU device not found')\n",
        "print('Found GPU at: {}'.format(device_name))"
      ]
    },
    {
      "cell_type": "code",
      "execution_count": null,
      "metadata": {
        "id": "ru8caUd_UaAG"
      },
      "outputs": [],
      "source": [
        "# Constants\n",
        "T = 1 # Number of Timesteps for which boards are present in input\n",
        "N = 8 # board size\n",
        "HIDDEN_LAYER = 1 # hidden layer will be N * N * HIDDEN_LAYER neurons long\n",
        "OUTPUT_LAYER = 73 # output layer will be N * N * OUTPUT_LAYER neurons long\n",
        "BLOCKS = 10\n",
        "FILTERS = 128"
      ]
    },
    {
      "cell_type": "code",
      "source": [
        "import numpy as np\n",
        "\n",
        "class My_Custom_Generator(tf.keras.utils.Sequence) :\n",
        "  \n",
        "  def __init__(self, filenames, batch_size) :\n",
        "    self.filenames = filenames\n",
        "    self.batch_size = batch_size\n",
        "    self.randomize = True\n",
        "    \n",
        "    \n",
        "  def __len__(self) :\n",
        "    return (np.ceil(len(self.filenames) / float(self.batch_size))).astype(int)\n",
        "  \n",
        "  \n",
        "  def __getitem__(self, idx) :\n",
        "    filenames = self.filenames[idx * self.batch_size : (idx+1) * self.batch_size]\n",
        "\n",
        "    inputs = []\n",
        "    outputs = []\n",
        "    for f in filenames:\n",
        "      if not f.endswith('.npz'): continue\n",
        "      loaded = np.load(os.path.join('game_logs',f))\n",
        "      length = len(loaded['inputs'])\n",
        "      index = np.random.choice(length, length,replace=False)\n",
        "      if randomize:\n",
        "        index = np.random.choice(length, min(3, length), replace = False)\n",
        "      inputs.extend(loaded['inputs'][index])\n",
        "      outputs.extend(loaded['outputs'][index])\n",
        "    \n",
        "    Y_new = []\n",
        "    for item in outputs: Y_new.append(item.flatten())\n",
        "    \n",
        "    # print(np.array(inputs).shape, np.array(Y_new).shape)\n",
        "    return np.array(inputs), np.array(Y_new)"
      ],
      "metadata": {
        "id": "LhS4zvoGFHDv"
      },
      "execution_count": 43,
      "outputs": []
    },
    {
      "cell_type": "code",
      "execution_count": null,
      "metadata": {
        "id": "r1_0pkOCGt1r",
        "colab": {
          "base_uri": "https://localhost:8080/"
        },
        "outputId": "3dd92144-5bb0-46e1-f570-f442c0aee066"
      },
      "outputs": [
        {
          "output_type": "stream",
          "name": "stderr",
          "text": [
            " 14%|█▍        | 4000/28004 [00:25<02:35, 153.96it/s]\n"
          ]
        }
      ],
      "source": [
        "import os\n",
        "import numpy as np\n",
        "import random\n",
        "import tqdm\n",
        "inputs = []\n",
        "outputs = []\n",
        "files = [f for f in os.listdir(\"game_logs\") if os.path.splitext(f)[-1][1:] == 'npz']\n",
        "\n",
        "# N_RANDOMIZE = 3\n",
        "def get_N_RANDOMIZE():\n",
        "  \"50% of times returns 3 and 4\"\n",
        "  if np.random.uniform() <= 1: return 3\n",
        "  return 4\n",
        "\n",
        "idx = 0\n",
        "randomize = False\n",
        "\n",
        "for f in tqdm.tqdm(files):\n",
        "  loaded = np.load(os.path.join('game_logs',f))\n",
        "  length = len(loaded['inputs'])\n",
        "  index = np.random.choice(length, length,replace=False)\n",
        "  if randomize:\n",
        "    index = np.random.choice(length, min(get_N_RANDOMIZE(), length), replace = False)\n",
        "  inputs.extend(loaded['inputs'][index])\n",
        "  outputs.extend(loaded['outputs'][index])\n",
        "  idx += 1\n",
        "  if idx > 4000 and not randomize:\n",
        "    break\n",
        "\n",
        "# clear RAM\n",
        "files = []"
      ]
    },
    {
      "cell_type": "code",
      "execution_count": null,
      "metadata": {
        "colab": {
          "base_uri": "https://localhost:8080/"
        },
        "id": "OaoYk3fCbxkf",
        "outputId": "edd39e56-a601-4bed-f3c1-3077bc81e58f"
      },
      "outputs": [
        {
          "output_type": "stream",
          "name": "stdout",
          "text": [
            "Shape not matching done\n",
            "88501\n",
            "(8, 8, 14)\n",
            "(88501, 8, 8, 14)\n",
            "(8, 8, 73)\n",
            "(88501, 8, 8, 73)\n"
          ]
        }
      ],
      "source": [
        "for i in range(len(inputs)):\n",
        "  x = inputs[i]\n",
        "  if x.shape != (8, 8, 14 * T):\n",
        "    print(i)\n",
        "\n",
        "print(\"Shape not matching done\")\n",
        "print(len(inputs))\n",
        "print(inputs[0].shape)\n",
        "print(np.array(inputs).shape)\n",
        "print(outputs[0].shape)\n",
        "print(np.array(outputs).shape)"
      ]
    },
    {
      "cell_type": "code",
      "execution_count": null,
      "metadata": {
        "colab": {
          "base_uri": "https://localhost:8080/"
        },
        "id": "5C2I5fGG16GE",
        "outputId": "676ae43c-84ea-4998-b162-83bc560eb65c"
      },
      "outputs": [
        {
          "output_type": "stream",
          "name": "stdout",
          "text": [
            "(88501, 8, 8, 14)\n",
            "(88501, 4672)\n"
          ]
        }
      ],
      "source": [
        "X = np.array(inputs)\n",
        "inputs = []\n",
        "Y = np.array(outputs)\n",
        "outputs = []\n",
        "\n",
        "Y_new = []\n",
        "for i in range(len(Y)):\n",
        "  Y_new.append(Y[i].flatten())\n",
        "Y = np.array(Y_new)\n",
        "Y_new = []\n",
        "\n",
        "print(X.shape)\n",
        "print(Y.shape)\n",
        "p = np.random.permutation(len(X))\n",
        "train_test_ratio = 0.8\n",
        "len_train = int(train_test_ratio * len(X))\n",
        "X_train = X[:len_train, :, :]\n",
        "Y_train = Y[:len_train, :]\n",
        "X_val = X[len_train:, :, :]\n",
        "Y_val = Y[len_train:, :]\n",
        "X = []\n",
        "Y = []"
      ]
    },
    {
      "cell_type": "code",
      "source": [
        "batch_size = 64\n",
        "\n",
        "training_generator = My_Custom_Generator(train_filenames, batch_size)\n",
        "validation_generator = My_Custom_Generator(val_filenames, batch_size)"
      ],
      "metadata": {
        "id": "fGGgUwdHGyP4"
      },
      "execution_count": 45,
      "outputs": []
    },
    {
      "cell_type": "code",
      "execution_count": 23,
      "metadata": {
        "colab": {
          "base_uri": "https://localhost:8080/"
        },
        "id": "o6cW7sMs0uc7",
        "outputId": "65ceef40-9bd6-4969-d24a-60796672a6b5"
      },
      "outputs": [
        {
          "output_type": "stream",
          "name": "stdout",
          "text": [
            "Model: \"sequential_1\"\n",
            "_________________________________________________________________\n",
            " Layer (type)                Output Shape              Param #   \n",
            "=================================================================\n",
            " conv2d_6 (Conv2D)           (None, 8, 8, 256)         32512     \n",
            "                                                                 \n",
            " batch_normalization_6 (Batc  (None, 8, 8, 256)        1024      \n",
            " hNormalization)                                                 \n",
            "                                                                 \n",
            " re_lu_3 (ReLU)              (None, 8, 8, 256)         0         \n",
            "                                                                 \n",
            " conv2d_7 (Conv2D)           (None, 8, 8, 128)         295040    \n",
            "                                                                 \n",
            " batch_normalization_7 (Batc  (None, 8, 8, 128)        512       \n",
            " hNormalization)                                                 \n",
            "                                                                 \n",
            " re_lu_4 (ReLU)              (None, 8, 8, 128)         0         \n",
            "                                                                 \n",
            " conv2d_8 (Conv2D)           (None, 8, 8, 73)          9417      \n",
            "                                                                 \n",
            " batch_normalization_8 (Batc  (None, 8, 8, 73)         292       \n",
            " hNormalization)                                                 \n",
            "                                                                 \n",
            " re_lu_5 (ReLU)              (None, 8, 8, 73)          0         \n",
            "                                                                 \n",
            " flatten_2 (Flatten)         (None, 4672)              0         \n",
            "                                                                 \n",
            " softmax_2 (Softmax)         (None, 4672)              0         \n",
            "                                                                 \n",
            "=================================================================\n",
            "Total params: 338,797\n",
            "Trainable params: 337,883\n",
            "Non-trainable params: 914\n",
            "_________________________________________________________________\n"
          ]
        }
      ],
      "source": [
        "# model = tf.keras.models.Sequential([\n",
        "#   tf.keras.layers.Flatten(),\n",
        "#   tf.keras.layers.Dense(32, activation='softmax'), # small number chosen to avoid a lot of parameters\n",
        "#   tf.keras.layers.Dense(N * N * OUTPUT_LAYER) # output number is fixed\n",
        "# ])\n",
        "model = tf.keras.models.Sequential([\n",
        "    tf.keras.layers.Conv2D(256, (3,3), activation = 'relu', input_shape = (8, 8, 14 * T), strides = 1, padding = 'same'),\n",
        "    tf.keras.layers.BatchNormalization(),\n",
        "    tf.keras.layers.ReLU(),\n",
        "    tf.keras.layers.Conv2D(128, (3,3), activation = 'relu', strides = 1, padding = 'same'),\n",
        "    tf.keras.layers.BatchNormalization(),\n",
        "    tf.keras.layers.ReLU(),\n",
        "    tf.keras.layers.Conv2D(73, (1,1), activation = 'relu', strides = 1, padding = 'same'),\n",
        "    tf.keras.layers.BatchNormalization(),\n",
        "    tf.keras.layers.ReLU(),\n",
        "    tf.keras.layers.Flatten(),\n",
        "    tf.keras.layers.Softmax()\n",
        "    \n",
        "])\n",
        "\n",
        "model.summary()\n"
      ]
    },
    {
      "cell_type": "code",
      "source": [
        "inputs = tf.keras.Input(shape=(8, 8, 14))\n",
        "x1 = tf.keras.layers.LeakyReLU()(inputs)\n",
        "\n",
        "x = tf.keras.layers.Conv2D(128, (3, 3), activation=\"relu\", padding=\"same\")(x1)\n",
        "x = tf.keras.layers.BatchNormalization()(x)\n",
        "x = tf.keras.layers.LeakyReLU()(x)\n",
        "\n",
        "x = tf.keras.layers.Conv2D(14, (3, 3), activation=\"relu\", padding=\"same\")(x)\n",
        "x = tf.keras.layers.BatchNormalization()(x)\n",
        "\n",
        "added = tf.keras.layers.add([x1, x])\n",
        "x = tf.keras.layers.LeakyReLU()(added)\n",
        "\n",
        "x = tf.keras.layers.Conv2D(73, (3,3),activation=\"relu\", padding=\"same\")(x)\n",
        "x = tf.keras.layers.BatchNormalization()(x)\n",
        "x = tf.keras.layers.LeakyReLU()(x)\n",
        "\n",
        "x = tf.keras.layers.Flatten()(x)\n",
        "\n",
        "x = tf.keras.layers.Softmax()(x)\n",
        "model = tf.keras.Model(inputs, x)\n",
        "model.summary()\n",
        "# tf.keras.utils.plot_model(model, \"multi_input_and_output_model.png\", show_shapes=True)"
      ],
      "metadata": {
        "id": "Pmp43EBuE09A",
        "colab": {
          "base_uri": "https://localhost:8080/"
        },
        "outputId": "07cfce69-446d-4193-9973-372ac7c6b5db"
      },
      "execution_count": 40,
      "outputs": [
        {
          "output_type": "stream",
          "name": "stdout",
          "text": [
            "Model: \"model_4\"\n",
            "__________________________________________________________________________________________________\n",
            " Layer (type)                   Output Shape         Param #     Connected to                     \n",
            "==================================================================================================\n",
            " input_5 (InputLayer)           [(None, 8, 8, 14)]   0           []                               \n",
            "                                                                                                  \n",
            " leaky_re_lu_16 (LeakyReLU)     (None, 8, 8, 14)     0           ['input_5[0][0]']                \n",
            "                                                                                                  \n",
            " conv2d_18 (Conv2D)             (None, 8, 8, 128)    16256       ['leaky_re_lu_16[0][0]']         \n",
            "                                                                                                  \n",
            " batch_normalization_18 (BatchN  (None, 8, 8, 128)   512         ['conv2d_18[0][0]']              \n",
            " ormalization)                                                                                    \n",
            "                                                                                                  \n",
            " leaky_re_lu_17 (LeakyReLU)     (None, 8, 8, 128)    0           ['batch_normalization_18[0][0]'] \n",
            "                                                                                                  \n",
            " conv2d_19 (Conv2D)             (None, 8, 8, 14)     16142       ['leaky_re_lu_17[0][0]']         \n",
            "                                                                                                  \n",
            " batch_normalization_19 (BatchN  (None, 8, 8, 14)    56          ['conv2d_19[0][0]']              \n",
            " ormalization)                                                                                    \n",
            "                                                                                                  \n",
            " add_4 (Add)                    (None, 8, 8, 14)     0           ['leaky_re_lu_16[0][0]',         \n",
            "                                                                  'batch_normalization_19[0][0]'] \n",
            "                                                                                                  \n",
            " leaky_re_lu_18 (LeakyReLU)     (None, 8, 8, 14)     0           ['add_4[0][0]']                  \n",
            "                                                                                                  \n",
            " conv2d_20 (Conv2D)             (None, 8, 8, 73)     9271        ['leaky_re_lu_18[0][0]']         \n",
            "                                                                                                  \n",
            " batch_normalization_20 (BatchN  (None, 8, 8, 73)    292         ['conv2d_20[0][0]']              \n",
            " ormalization)                                                                                    \n",
            "                                                                                                  \n",
            " leaky_re_lu_19 (LeakyReLU)     (None, 8, 8, 73)     0           ['batch_normalization_20[0][0]'] \n",
            "                                                                                                  \n",
            " flatten_6 (Flatten)            (None, 4672)         0           ['leaky_re_lu_19[0][0]']         \n",
            "                                                                                                  \n",
            " softmax_6 (Softmax)            (None, 4672)         0           ['flatten_6[0][0]']              \n",
            "                                                                                                  \n",
            "==================================================================================================\n",
            "Total params: 42,529\n",
            "Trainable params: 42,099\n",
            "Non-trainable params: 430\n",
            "__________________________________________________________________________________________________\n"
          ]
        }
      ]
    },
    {
      "cell_type": "code",
      "execution_count": 41,
      "metadata": {
        "id": "ESOyGRnH0xgR"
      },
      "outputs": [],
      "source": [
        "model.compile(\n",
        "    optimizer=tf.keras.optimizers.Adam(0.001),\n",
        "    loss=tf.keras.losses.CategoricalCrossentropy(),\n",
        "    metrics=[tf.keras.metrics.CategoricalAccuracy()],\n",
        ")"
      ]
    },
    {
      "cell_type": "code",
      "source": [
        "history = model.fit_generator(generator=training_generator,\n",
        "                   steps_per_epoch = int(len(train_filenames) // batch_size),\n",
        "                   epochs = 50,\n",
        "                   verbose = 1,\n",
        "                   validation_data = validation_generator,\n",
        "                   validation_steps = int(len(val_filenames) // batch_size))"
      ],
      "metadata": {
        "colab": {
          "base_uri": "https://localhost:8080/"
        },
        "id": "Ur9OAs8lHI51",
        "outputId": "34398a3a-2e0a-436b-d635-e19352b985d5"
      },
      "execution_count": null,
      "outputs": [
        {
          "output_type": "stream",
          "name": "stderr",
          "text": [
            "/usr/local/lib/python3.7/dist-packages/ipykernel_launcher.py:6: UserWarning: `Model.fit_generator` is deprecated and will be removed in a future version. Please use `Model.fit`, which supports generators.\n",
            "  \n"
          ]
        },
        {
          "output_type": "stream",
          "name": "stdout",
          "text": [
            "Epoch 1/50\n",
            "310/437 [====================>.........] - ETA: 1:14 - loss: 3.7301 - categorical_accuracy: 0.1798"
          ]
        }
      ]
    },
    {
      "cell_type": "code",
      "execution_count": 13,
      "metadata": {
        "colab": {
          "base_uri": "https://localhost:8080/",
          "height": 1000
        },
        "id": "eI9vXHnl1wW0",
        "outputId": "22a3952f-9ca9-4343-ee69-f8337d0120d0"
      },
      "outputs": [
        {
          "output_type": "stream",
          "name": "stdout",
          "text": [
            "Epoch 1/50\n",
            "2213/2213 [==============================] - 35s 11ms/step - loss: 4.4444 - categorical_accuracy: 0.1472 - val_loss: 4.0416 - val_categorical_accuracy: 0.1219\n",
            "Epoch 2/50\n",
            "2213/2213 [==============================] - 24s 11ms/step - loss: 3.6397 - categorical_accuracy: 0.1933 - val_loss: 3.7889 - val_categorical_accuracy: 0.1560\n",
            "Epoch 3/50\n",
            "2213/2213 [==============================] - 24s 11ms/step - loss: 3.4629 - categorical_accuracy: 0.2106 - val_loss: 3.6878 - val_categorical_accuracy: 0.1574\n",
            "Epoch 4/50\n",
            "2213/2213 [==============================] - 25s 11ms/step - loss: 3.3544 - categorical_accuracy: 0.2228 - val_loss: 3.6820 - val_categorical_accuracy: 0.1641\n",
            "Epoch 5/50\n",
            "2213/2213 [==============================] - 25s 11ms/step - loss: 3.2818 - categorical_accuracy: 0.2322 - val_loss: 3.6729 - val_categorical_accuracy: 0.1767\n",
            "Epoch 6/50\n",
            "2213/2213 [==============================] - 24s 11ms/step - loss: 3.2250 - categorical_accuracy: 0.2399 - val_loss: 3.6230 - val_categorical_accuracy: 0.1697\n",
            "Epoch 7/50\n",
            "2213/2213 [==============================] - 24s 11ms/step - loss: 3.1823 - categorical_accuracy: 0.2440 - val_loss: 3.6201 - val_categorical_accuracy: 0.1820\n",
            "Epoch 8/50\n",
            "2213/2213 [==============================] - 26s 12ms/step - loss: 3.1422 - categorical_accuracy: 0.2497 - val_loss: 3.6326 - val_categorical_accuracy: 0.1761\n",
            "Epoch 9/50\n",
            "2213/2213 [==============================] - 25s 12ms/step - loss: 3.1128 - categorical_accuracy: 0.2543 - val_loss: 3.6232 - val_categorical_accuracy: 0.1755\n",
            "Epoch 10/50\n",
            "2213/2213 [==============================] - 25s 11ms/step - loss: 3.0825 - categorical_accuracy: 0.2599 - val_loss: 3.6409 - val_categorical_accuracy: 0.1743\n",
            "Epoch 11/50\n",
            "2213/2213 [==============================] - 24s 11ms/step - loss: 3.0594 - categorical_accuracy: 0.2625 - val_loss: 3.6278 - val_categorical_accuracy: 0.1779\n",
            "Epoch 12/50\n",
            "2213/2213 [==============================] - 24s 11ms/step - loss: 3.0366 - categorical_accuracy: 0.2670 - val_loss: 3.6169 - val_categorical_accuracy: 0.1738\n",
            "Epoch 13/50\n",
            "2213/2213 [==============================] - 25s 11ms/step - loss: 3.0140 - categorical_accuracy: 0.2724 - val_loss: 3.6273 - val_categorical_accuracy: 0.1792\n",
            "Epoch 14/50\n",
            "2213/2213 [==============================] - 24s 11ms/step - loss: 2.9969 - categorical_accuracy: 0.2730 - val_loss: 3.6285 - val_categorical_accuracy: 0.1773\n",
            "Epoch 15/50\n",
            "2213/2213 [==============================] - 25s 11ms/step - loss: 2.9819 - categorical_accuracy: 0.2746 - val_loss: 3.6312 - val_categorical_accuracy: 0.1859\n",
            "Epoch 16/50\n",
            "2213/2213 [==============================] - 24s 11ms/step - loss: 2.9671 - categorical_accuracy: 0.2771 - val_loss: 3.6219 - val_categorical_accuracy: 0.1784\n",
            "Epoch 17/50\n",
            "2213/2213 [==============================] - 25s 11ms/step - loss: 2.9538 - categorical_accuracy: 0.2787 - val_loss: 3.6575 - val_categorical_accuracy: 0.1822\n",
            "Epoch 18/50\n",
            "2213/2213 [==============================] - 24s 11ms/step - loss: 2.9403 - categorical_accuracy: 0.2830 - val_loss: 3.6425 - val_categorical_accuracy: 0.1817\n",
            "Epoch 19/50\n",
            "2213/2213 [==============================] - 26s 12ms/step - loss: 2.9294 - categorical_accuracy: 0.2831 - val_loss: 3.6217 - val_categorical_accuracy: 0.1765\n",
            "Epoch 20/50\n",
            "2213/2213 [==============================] - 24s 11ms/step - loss: 2.9175 - categorical_accuracy: 0.2844 - val_loss: 3.6301 - val_categorical_accuracy: 0.1857\n",
            "Epoch 21/50\n",
            "2213/2213 [==============================] - 24s 11ms/step - loss: 2.9044 - categorical_accuracy: 0.2863 - val_loss: 3.6453 - val_categorical_accuracy: 0.1776\n",
            "Epoch 22/50\n",
            "2213/2213 [==============================] - 25s 12ms/step - loss: 2.8971 - categorical_accuracy: 0.2863 - val_loss: 3.6431 - val_categorical_accuracy: 0.1784\n",
            "Epoch 23/50\n",
            "2213/2213 [==============================] - 24s 11ms/step - loss: 2.8878 - categorical_accuracy: 0.2889 - val_loss: 3.6605 - val_categorical_accuracy: 0.1819\n",
            "Epoch 24/50\n",
            "2213/2213 [==============================] - 25s 11ms/step - loss: 2.8796 - categorical_accuracy: 0.2902 - val_loss: 3.6645 - val_categorical_accuracy: 0.1817\n",
            "Epoch 25/50\n",
            "2213/2213 [==============================] - 25s 11ms/step - loss: 2.8709 - categorical_accuracy: 0.2917 - val_loss: 3.6785 - val_categorical_accuracy: 0.1833\n",
            "Epoch 26/50\n",
            "2213/2213 [==============================] - 24s 11ms/step - loss: 2.8606 - categorical_accuracy: 0.2939 - val_loss: 3.6864 - val_categorical_accuracy: 0.1803\n",
            "Epoch 27/50\n",
            "2213/2213 [==============================] - 25s 11ms/step - loss: 2.8553 - categorical_accuracy: 0.2965 - val_loss: 3.6733 - val_categorical_accuracy: 0.1767\n",
            "Epoch 28/50\n",
            "2213/2213 [==============================] - 25s 11ms/step - loss: 2.8470 - categorical_accuracy: 0.2964 - val_loss: 3.6412 - val_categorical_accuracy: 0.1816\n",
            "Epoch 29/50\n",
            "2213/2213 [==============================] - 24s 11ms/step - loss: 2.8419 - categorical_accuracy: 0.2981 - val_loss: 3.6843 - val_categorical_accuracy: 0.1793\n",
            "Epoch 30/50\n",
            "2213/2213 [==============================] - 24s 11ms/step - loss: 2.8340 - categorical_accuracy: 0.2989 - val_loss: 3.6419 - val_categorical_accuracy: 0.1826\n",
            "Epoch 31/50\n",
            "2213/2213 [==============================] - 25s 11ms/step - loss: 2.8315 - categorical_accuracy: 0.2971 - val_loss: 3.6692 - val_categorical_accuracy: 0.1811\n",
            "Epoch 32/50\n",
            "2213/2213 [==============================] - 25s 11ms/step - loss: 2.8215 - categorical_accuracy: 0.3003 - val_loss: 3.6786 - val_categorical_accuracy: 0.1811\n",
            "Epoch 33/50\n",
            "2213/2213 [==============================] - 25s 11ms/step - loss: 2.8163 - categorical_accuracy: 0.3006 - val_loss: 3.6671 - val_categorical_accuracy: 0.1824\n",
            "Epoch 34/50\n",
            "2213/2213 [==============================] - 25s 11ms/step - loss: 2.8132 - categorical_accuracy: 0.3015 - val_loss: 3.6636 - val_categorical_accuracy: 0.1810\n",
            "Epoch 35/50\n",
            "2213/2213 [==============================] - 25s 11ms/step - loss: 2.8043 - categorical_accuracy: 0.3044 - val_loss: 3.6692 - val_categorical_accuracy: 0.1841\n",
            "Epoch 36/50\n",
            "2213/2213 [==============================] - 24s 11ms/step - loss: 2.8025 - categorical_accuracy: 0.3029 - val_loss: 3.6996 - val_categorical_accuracy: 0.1810\n",
            "Epoch 37/50\n",
            "2213/2213 [==============================] - 25s 11ms/step - loss: 2.7934 - categorical_accuracy: 0.3037 - val_loss: 3.6859 - val_categorical_accuracy: 0.1855\n",
            "Epoch 38/50\n",
            "2213/2213 [==============================] - 25s 11ms/step - loss: 2.7924 - categorical_accuracy: 0.3060 - val_loss: 3.7069 - val_categorical_accuracy: 0.1785\n",
            "Epoch 39/50\n",
            "2213/2213 [==============================] - 24s 11ms/step - loss: 2.7874 - categorical_accuracy: 0.3062 - val_loss: 3.6896 - val_categorical_accuracy: 0.1806\n",
            "Epoch 40/50\n",
            "2213/2213 [==============================] - 24s 11ms/step - loss: 2.7822 - categorical_accuracy: 0.3061 - val_loss: 3.7145 - val_categorical_accuracy: 0.1720\n",
            "Epoch 41/50\n",
            "2213/2213 [==============================] - 26s 12ms/step - loss: 2.7789 - categorical_accuracy: 0.3057 - val_loss: 3.6734 - val_categorical_accuracy: 0.1826\n",
            "Epoch 42/50\n",
            "1415/2213 [==================>...........] - ETA: 7s - loss: 2.7612 - categorical_accuracy: 0.3096"
          ]
        },
        {
          "output_type": "error",
          "ename": "KeyboardInterrupt",
          "evalue": "ignored",
          "traceback": [
            "\u001b[0;31m---------------------------------------------------------------------------\u001b[0m",
            "\u001b[0;31mKeyboardInterrupt\u001b[0m                         Traceback (most recent call last)",
            "\u001b[0;32m<ipython-input-13-4f58e6192ed8>\u001b[0m in \u001b[0;36m<module>\u001b[0;34m()\u001b[0m\n\u001b[1;32m      2\u001b[0m     \u001b[0mX_train\u001b[0m\u001b[0;34m,\u001b[0m \u001b[0mY_train\u001b[0m\u001b[0;34m,\u001b[0m\u001b[0;34m\u001b[0m\u001b[0;34m\u001b[0m\u001b[0m\n\u001b[1;32m      3\u001b[0m     \u001b[0mepochs\u001b[0m \u001b[0;34m=\u001b[0m \u001b[0;36m50\u001b[0m\u001b[0;34m,\u001b[0m\u001b[0;34m\u001b[0m\u001b[0;34m\u001b[0m\u001b[0m\n\u001b[0;32m----> 4\u001b[0;31m     \u001b[0mvalidation_data\u001b[0m\u001b[0;34m=\u001b[0m\u001b[0;34m(\u001b[0m\u001b[0mX_val\u001b[0m\u001b[0;34m,\u001b[0m \u001b[0mY_val\u001b[0m\u001b[0;34m)\u001b[0m\u001b[0;34m,\u001b[0m\u001b[0;34m\u001b[0m\u001b[0;34m\u001b[0m\u001b[0m\n\u001b[0m\u001b[1;32m      5\u001b[0m )\n",
            "\u001b[0;32m/usr/local/lib/python3.7/dist-packages/keras/utils/traceback_utils.py\u001b[0m in \u001b[0;36merror_handler\u001b[0;34m(*args, **kwargs)\u001b[0m\n\u001b[1;32m     62\u001b[0m     \u001b[0mfiltered_tb\u001b[0m \u001b[0;34m=\u001b[0m \u001b[0;32mNone\u001b[0m\u001b[0;34m\u001b[0m\u001b[0;34m\u001b[0m\u001b[0m\n\u001b[1;32m     63\u001b[0m     \u001b[0;32mtry\u001b[0m\u001b[0;34m:\u001b[0m\u001b[0;34m\u001b[0m\u001b[0;34m\u001b[0m\u001b[0m\n\u001b[0;32m---> 64\u001b[0;31m       \u001b[0;32mreturn\u001b[0m \u001b[0mfn\u001b[0m\u001b[0;34m(\u001b[0m\u001b[0;34m*\u001b[0m\u001b[0margs\u001b[0m\u001b[0;34m,\u001b[0m \u001b[0;34m**\u001b[0m\u001b[0mkwargs\u001b[0m\u001b[0;34m)\u001b[0m\u001b[0;34m\u001b[0m\u001b[0;34m\u001b[0m\u001b[0m\n\u001b[0m\u001b[1;32m     65\u001b[0m     \u001b[0;32mexcept\u001b[0m \u001b[0mException\u001b[0m \u001b[0;32mas\u001b[0m \u001b[0me\u001b[0m\u001b[0;34m:\u001b[0m  \u001b[0;31m# pylint: disable=broad-except\u001b[0m\u001b[0;34m\u001b[0m\u001b[0;34m\u001b[0m\u001b[0m\n\u001b[1;32m     66\u001b[0m       \u001b[0mfiltered_tb\u001b[0m \u001b[0;34m=\u001b[0m \u001b[0m_process_traceback_frames\u001b[0m\u001b[0;34m(\u001b[0m\u001b[0me\u001b[0m\u001b[0;34m.\u001b[0m\u001b[0m__traceback__\u001b[0m\u001b[0;34m)\u001b[0m\u001b[0;34m\u001b[0m\u001b[0;34m\u001b[0m\u001b[0m\n",
            "\u001b[0;32m/usr/local/lib/python3.7/dist-packages/keras/engine/training.py\u001b[0m in \u001b[0;36mfit\u001b[0;34m(self, x, y, batch_size, epochs, verbose, callbacks, validation_split, validation_data, shuffle, class_weight, sample_weight, initial_epoch, steps_per_epoch, validation_steps, validation_batch_size, validation_freq, max_queue_size, workers, use_multiprocessing)\u001b[0m\n\u001b[1;32m   1382\u001b[0m                 _r=1):\n\u001b[1;32m   1383\u001b[0m               \u001b[0mcallbacks\u001b[0m\u001b[0;34m.\u001b[0m\u001b[0mon_train_batch_begin\u001b[0m\u001b[0;34m(\u001b[0m\u001b[0mstep\u001b[0m\u001b[0;34m)\u001b[0m\u001b[0;34m\u001b[0m\u001b[0;34m\u001b[0m\u001b[0m\n\u001b[0;32m-> 1384\u001b[0;31m               \u001b[0mtmp_logs\u001b[0m \u001b[0;34m=\u001b[0m \u001b[0mself\u001b[0m\u001b[0;34m.\u001b[0m\u001b[0mtrain_function\u001b[0m\u001b[0;34m(\u001b[0m\u001b[0miterator\u001b[0m\u001b[0;34m)\u001b[0m\u001b[0;34m\u001b[0m\u001b[0;34m\u001b[0m\u001b[0m\n\u001b[0m\u001b[1;32m   1385\u001b[0m               \u001b[0;32mif\u001b[0m \u001b[0mdata_handler\u001b[0m\u001b[0;34m.\u001b[0m\u001b[0mshould_sync\u001b[0m\u001b[0;34m:\u001b[0m\u001b[0;34m\u001b[0m\u001b[0;34m\u001b[0m\u001b[0m\n\u001b[1;32m   1386\u001b[0m                 \u001b[0mcontext\u001b[0m\u001b[0;34m.\u001b[0m\u001b[0masync_wait\u001b[0m\u001b[0;34m(\u001b[0m\u001b[0;34m)\u001b[0m\u001b[0;34m\u001b[0m\u001b[0;34m\u001b[0m\u001b[0m\n",
            "\u001b[0;32m/usr/local/lib/python3.7/dist-packages/tensorflow/python/util/traceback_utils.py\u001b[0m in \u001b[0;36merror_handler\u001b[0;34m(*args, **kwargs)\u001b[0m\n\u001b[1;32m    148\u001b[0m     \u001b[0mfiltered_tb\u001b[0m \u001b[0;34m=\u001b[0m \u001b[0;32mNone\u001b[0m\u001b[0;34m\u001b[0m\u001b[0;34m\u001b[0m\u001b[0m\n\u001b[1;32m    149\u001b[0m     \u001b[0;32mtry\u001b[0m\u001b[0;34m:\u001b[0m\u001b[0;34m\u001b[0m\u001b[0;34m\u001b[0m\u001b[0m\n\u001b[0;32m--> 150\u001b[0;31m       \u001b[0;32mreturn\u001b[0m \u001b[0mfn\u001b[0m\u001b[0;34m(\u001b[0m\u001b[0;34m*\u001b[0m\u001b[0margs\u001b[0m\u001b[0;34m,\u001b[0m \u001b[0;34m**\u001b[0m\u001b[0mkwargs\u001b[0m\u001b[0;34m)\u001b[0m\u001b[0;34m\u001b[0m\u001b[0;34m\u001b[0m\u001b[0m\n\u001b[0m\u001b[1;32m    151\u001b[0m     \u001b[0;32mexcept\u001b[0m \u001b[0mException\u001b[0m \u001b[0;32mas\u001b[0m \u001b[0me\u001b[0m\u001b[0;34m:\u001b[0m\u001b[0;34m\u001b[0m\u001b[0;34m\u001b[0m\u001b[0m\n\u001b[1;32m    152\u001b[0m       \u001b[0mfiltered_tb\u001b[0m \u001b[0;34m=\u001b[0m \u001b[0m_process_traceback_frames\u001b[0m\u001b[0;34m(\u001b[0m\u001b[0me\u001b[0m\u001b[0;34m.\u001b[0m\u001b[0m__traceback__\u001b[0m\u001b[0;34m)\u001b[0m\u001b[0;34m\u001b[0m\u001b[0;34m\u001b[0m\u001b[0m\n",
            "\u001b[0;32m/usr/local/lib/python3.7/dist-packages/tensorflow/python/eager/def_function.py\u001b[0m in \u001b[0;36m__call__\u001b[0;34m(self, *args, **kwds)\u001b[0m\n\u001b[1;32m    913\u001b[0m \u001b[0;34m\u001b[0m\u001b[0m\n\u001b[1;32m    914\u001b[0m       \u001b[0;32mwith\u001b[0m \u001b[0mOptionalXlaContext\u001b[0m\u001b[0;34m(\u001b[0m\u001b[0mself\u001b[0m\u001b[0;34m.\u001b[0m\u001b[0m_jit_compile\u001b[0m\u001b[0;34m)\u001b[0m\u001b[0;34m:\u001b[0m\u001b[0;34m\u001b[0m\u001b[0;34m\u001b[0m\u001b[0m\n\u001b[0;32m--> 915\u001b[0;31m         \u001b[0mresult\u001b[0m \u001b[0;34m=\u001b[0m \u001b[0mself\u001b[0m\u001b[0;34m.\u001b[0m\u001b[0m_call\u001b[0m\u001b[0;34m(\u001b[0m\u001b[0;34m*\u001b[0m\u001b[0margs\u001b[0m\u001b[0;34m,\u001b[0m \u001b[0;34m**\u001b[0m\u001b[0mkwds\u001b[0m\u001b[0;34m)\u001b[0m\u001b[0;34m\u001b[0m\u001b[0;34m\u001b[0m\u001b[0m\n\u001b[0m\u001b[1;32m    916\u001b[0m \u001b[0;34m\u001b[0m\u001b[0m\n\u001b[1;32m    917\u001b[0m       \u001b[0mnew_tracing_count\u001b[0m \u001b[0;34m=\u001b[0m \u001b[0mself\u001b[0m\u001b[0;34m.\u001b[0m\u001b[0mexperimental_get_tracing_count\u001b[0m\u001b[0;34m(\u001b[0m\u001b[0;34m)\u001b[0m\u001b[0;34m\u001b[0m\u001b[0;34m\u001b[0m\u001b[0m\n",
            "\u001b[0;32m/usr/local/lib/python3.7/dist-packages/tensorflow/python/eager/def_function.py\u001b[0m in \u001b[0;36m_call\u001b[0;34m(self, *args, **kwds)\u001b[0m\n\u001b[1;32m    945\u001b[0m       \u001b[0;31m# In this case we have created variables on the first call, so we run the\u001b[0m\u001b[0;34m\u001b[0m\u001b[0;34m\u001b[0m\u001b[0;34m\u001b[0m\u001b[0m\n\u001b[1;32m    946\u001b[0m       \u001b[0;31m# defunned version which is guaranteed to never create variables.\u001b[0m\u001b[0;34m\u001b[0m\u001b[0;34m\u001b[0m\u001b[0;34m\u001b[0m\u001b[0m\n\u001b[0;32m--> 947\u001b[0;31m       \u001b[0;32mreturn\u001b[0m \u001b[0mself\u001b[0m\u001b[0;34m.\u001b[0m\u001b[0m_stateless_fn\u001b[0m\u001b[0;34m(\u001b[0m\u001b[0;34m*\u001b[0m\u001b[0margs\u001b[0m\u001b[0;34m,\u001b[0m \u001b[0;34m**\u001b[0m\u001b[0mkwds\u001b[0m\u001b[0;34m)\u001b[0m  \u001b[0;31m# pylint: disable=not-callable\u001b[0m\u001b[0;34m\u001b[0m\u001b[0;34m\u001b[0m\u001b[0m\n\u001b[0m\u001b[1;32m    948\u001b[0m     \u001b[0;32melif\u001b[0m \u001b[0mself\u001b[0m\u001b[0;34m.\u001b[0m\u001b[0m_stateful_fn\u001b[0m \u001b[0;32mis\u001b[0m \u001b[0;32mnot\u001b[0m \u001b[0;32mNone\u001b[0m\u001b[0;34m:\u001b[0m\u001b[0;34m\u001b[0m\u001b[0;34m\u001b[0m\u001b[0m\n\u001b[1;32m    949\u001b[0m       \u001b[0;31m# Release the lock early so that multiple threads can perform the call\u001b[0m\u001b[0;34m\u001b[0m\u001b[0;34m\u001b[0m\u001b[0;34m\u001b[0m\u001b[0m\n",
            "\u001b[0;32m/usr/local/lib/python3.7/dist-packages/tensorflow/python/eager/function.py\u001b[0m in \u001b[0;36m__call__\u001b[0;34m(self, *args, **kwargs)\u001b[0m\n\u001b[1;32m   2955\u001b[0m        filtered_flat_args) = self._maybe_define_function(args, kwargs)\n\u001b[1;32m   2956\u001b[0m     return graph_function._call_flat(\n\u001b[0;32m-> 2957\u001b[0;31m         filtered_flat_args, captured_inputs=graph_function.captured_inputs)  # pylint: disable=protected-access\n\u001b[0m\u001b[1;32m   2958\u001b[0m \u001b[0;34m\u001b[0m\u001b[0m\n\u001b[1;32m   2959\u001b[0m   \u001b[0;34m@\u001b[0m\u001b[0mproperty\u001b[0m\u001b[0;34m\u001b[0m\u001b[0;34m\u001b[0m\u001b[0m\n",
            "\u001b[0;32m/usr/local/lib/python3.7/dist-packages/tensorflow/python/eager/function.py\u001b[0m in \u001b[0;36m_call_flat\u001b[0;34m(self, args, captured_inputs, cancellation_manager)\u001b[0m\n\u001b[1;32m   1852\u001b[0m       \u001b[0;31m# No tape is watching; skip to running the function.\u001b[0m\u001b[0;34m\u001b[0m\u001b[0;34m\u001b[0m\u001b[0;34m\u001b[0m\u001b[0m\n\u001b[1;32m   1853\u001b[0m       return self._build_call_outputs(self._inference_function.call(\n\u001b[0;32m-> 1854\u001b[0;31m           ctx, args, cancellation_manager=cancellation_manager))\n\u001b[0m\u001b[1;32m   1855\u001b[0m     forward_backward = self._select_forward_and_backward_functions(\n\u001b[1;32m   1856\u001b[0m         \u001b[0margs\u001b[0m\u001b[0;34m,\u001b[0m\u001b[0;34m\u001b[0m\u001b[0;34m\u001b[0m\u001b[0m\n",
            "\u001b[0;32m/usr/local/lib/python3.7/dist-packages/tensorflow/python/eager/function.py\u001b[0m in \u001b[0;36mcall\u001b[0;34m(self, ctx, args, cancellation_manager)\u001b[0m\n\u001b[1;32m    502\u001b[0m               \u001b[0minputs\u001b[0m\u001b[0;34m=\u001b[0m\u001b[0margs\u001b[0m\u001b[0;34m,\u001b[0m\u001b[0;34m\u001b[0m\u001b[0;34m\u001b[0m\u001b[0m\n\u001b[1;32m    503\u001b[0m               \u001b[0mattrs\u001b[0m\u001b[0;34m=\u001b[0m\u001b[0mattrs\u001b[0m\u001b[0;34m,\u001b[0m\u001b[0;34m\u001b[0m\u001b[0;34m\u001b[0m\u001b[0m\n\u001b[0;32m--> 504\u001b[0;31m               ctx=ctx)\n\u001b[0m\u001b[1;32m    505\u001b[0m         \u001b[0;32melse\u001b[0m\u001b[0;34m:\u001b[0m\u001b[0;34m\u001b[0m\u001b[0;34m\u001b[0m\u001b[0m\n\u001b[1;32m    506\u001b[0m           outputs = execute.execute_with_cancellation(\n",
            "\u001b[0;32m/usr/local/lib/python3.7/dist-packages/tensorflow/python/eager/execute.py\u001b[0m in \u001b[0;36mquick_execute\u001b[0;34m(op_name, num_outputs, inputs, attrs, ctx, name)\u001b[0m\n\u001b[1;32m     53\u001b[0m     \u001b[0mctx\u001b[0m\u001b[0;34m.\u001b[0m\u001b[0mensure_initialized\u001b[0m\u001b[0;34m(\u001b[0m\u001b[0;34m)\u001b[0m\u001b[0;34m\u001b[0m\u001b[0;34m\u001b[0m\u001b[0m\n\u001b[1;32m     54\u001b[0m     tensors = pywrap_tfe.TFE_Py_Execute(ctx._handle, device_name, op_name,\n\u001b[0;32m---> 55\u001b[0;31m                                         inputs, attrs, num_outputs)\n\u001b[0m\u001b[1;32m     56\u001b[0m   \u001b[0;32mexcept\u001b[0m \u001b[0mcore\u001b[0m\u001b[0;34m.\u001b[0m\u001b[0m_NotOkStatusException\u001b[0m \u001b[0;32mas\u001b[0m \u001b[0me\u001b[0m\u001b[0;34m:\u001b[0m\u001b[0;34m\u001b[0m\u001b[0;34m\u001b[0m\u001b[0m\n\u001b[1;32m     57\u001b[0m     \u001b[0;32mif\u001b[0m \u001b[0mname\u001b[0m \u001b[0;32mis\u001b[0m \u001b[0;32mnot\u001b[0m \u001b[0;32mNone\u001b[0m\u001b[0;34m:\u001b[0m\u001b[0;34m\u001b[0m\u001b[0;34m\u001b[0m\u001b[0m\n",
            "\u001b[0;31mKeyboardInterrupt\u001b[0m: "
          ]
        }
      ],
      "source": [
        "history = model.fit(\n",
        "    X_train, Y_train,\n",
        "    epochs = 50,\n",
        "    validation_data=(X_val, Y_val),\n",
        ")"
      ]
    },
    {
      "cell_type": "code",
      "execution_count": null,
      "metadata": {
        "colab": {
          "base_uri": "https://localhost:8080/",
          "height": 312
        },
        "id": "-J1ZAE5s8tqb",
        "outputId": "0e73bbe6-6428-4b3a-ffcc-0a1c9aa8bfd5"
      },
      "outputs": [
        {
          "output_type": "execute_result",
          "data": {
            "text/plain": [
              "[<matplotlib.lines.Line2D at 0x7f3d2036d5d0>]"
            ]
          },
          "metadata": {},
          "execution_count": 10
        },
        {
          "output_type": "display_data",
          "data": {
            "image/png": "[encoded data removed]",
            "text/plain": [
              "<Figure size 432x288 with 1 Axes>"
            ]
          },
          "metadata": {
            "needs_background": "light"
          }
        }
      ],
      "source": [
        "# Plot the loss a sa function of number of epochs\n",
        "import matplotlib.pyplot as plt\n",
        "plt.title('Training Loss')\n",
        "plt.xlabel('epochs')\n",
        "plt.ylabel('Cross Entropy loss')\n",
        "plt.plot(list(map(lambda x: x+1, range(len(history.history['loss'])))),  history.history['loss'])"
      ]
    },
    {
      "cell_type": "code",
      "source": [
        "# Plot the loss a sa function of number of epochs\n",
        "plt.title('Validation Loss')\n",
        "plt.xlabel('epochs')\n",
        "plt.ylabel('Cross Entropy loss')\n",
        "plt.plot(list(map(lambda x: x+1, range(len(history.history['val_loss'])))),  history.history['val_loss'])"
      ],
      "metadata": {
        "colab": {
          "base_uri": "https://localhost:8080/",
          "height": 312
        },
        "id": "lZFfRfr4Bq32",
        "outputId": "054db199-7d7e-472d-a1db-ac804e45530d"
      },
      "execution_count": null,
      "outputs": [
        {
          "output_type": "execute_result",
          "data": {
            "text/plain": [
              "[<matplotlib.lines.Line2D at 0x7f3cb0780910>]"
            ]
          },
          "metadata": {},
          "execution_count": 11
        },
        {
          "output_type": "display_data",
          "data": {
            "image/png": "[encoded data removed]",
            "text/plain": [
              "<Figure size 432x288 with 1 Axes>"
            ]
          },
          "metadata": {
            "needs_background": "light"
          }
        }
      ]
    },
    {
      "cell_type": "code",
      "source": [
        "print(history.history)"
      ],
      "metadata": {
        "colab": {
          "base_uri": "https://localhost:8080/"
        },
        "id": "Om3ur4YIBrA1",
        "outputId": "4cfcbcb8-ec83-443f-a7f2-2b1e48f1a6e4"
      },
      "execution_count": null,
      "outputs": [
        {
          "output_type": "stream",
          "name": "stdout",
          "text": [
            "{'loss': [4.779267311096191, 3.784074068069458, 3.507483959197998, 3.3029396533966064, 3.1197621822357178, 2.957887887954712, 2.8069281578063965, 2.6582698822021484, 2.522676706314087, 2.3968281745910645, 2.2866437435150146, 2.189023971557617, 2.0999765396118164, 2.016209602355957, 1.9496568441390991, 1.8870676755905151, 1.8260600566864014, 1.7823654413223267, 1.7368017435073853, 1.6903678178787231, 1.6583510637283325, 1.6243596076965332, 1.5978574752807617, 1.5713759660720825, 1.545009732246399, 1.5166569948196411, 1.4909110069274902, 1.4754343032836914, 1.4513845443725586, 1.4342386722564697, 1.417296290397644, 1.402553677558899, 1.387212872505188, 1.374686598777771, 1.3584736585617065, 1.3480411767959595, 1.3329054117202759, 1.324205756187439, 1.3058209419250488, 1.3022949695587158], 'categorical_accuracy': [0.11208400875329971, 0.1655864417552948, 0.19465909898281097, 0.22136357426643372, 0.24710208177566528, 0.2711890935897827, 0.30185091495513916, 0.3288046717643738, 0.35610121488571167, 0.3780069947242737, 0.4029664695262909, 0.42390626668930054, 0.4468403458595276, 0.46500685811042786, 0.48077401518821716, 0.49582451581954956, 0.5103452801704407, 0.5194752812385559, 0.5302567481994629, 0.5428455471992493, 0.5500747561454773, 0.557833731174469, 0.5603577494621277, 0.573538601398468, 0.5790228247642517, 0.5822946429252625, 0.5914246439933777, 0.591767430305481, 0.5998067855834961, 0.6046366691589355, 0.6065062880516052, 0.614047110080719, 0.614421010017395, 0.618627667427063, 0.621494472026825, 0.6225850582122803, 0.6281004548072815, 0.6301882266998291, 0.634332537651062, 0.6347687840461731], 'val_loss': [4.007567882537842, 3.8642749786376953, 3.8007731437683105, 3.783991813659668, 3.8750360012054443, 3.9331352710723877, 4.0040764808654785, 4.105684757232666, 4.267723560333252, 4.414669513702393, 4.470793724060059, 4.6734113693237305, 4.739806175231934, 4.870550155639648, 4.9755754470825195, 5.142115116119385, 5.241987705230713, 5.327897071838379, 5.377074718475342, 5.4310302734375, 5.580564975738525, 5.629324436187744, 5.609131813049316, 5.6834001541137695, 5.80246114730835, 5.856318950653076, 5.915500164031982, 5.890708923339844, 6.008546352386475, 6.025807857513428, 5.9989705085754395, 6.0566534996032715, 6.081639289855957, 6.126519203186035, 6.195363521575928, 6.265337944030762, 6.2703399658203125, 6.208869934082031, 6.288712501525879, 6.353873252868652], 'val_categorical_accuracy': [0.14358718693256378, 0.15119032561779022, 0.17499688267707825, 0.1673937439918518, 0.1550542265176773, 0.16839087009429932, 0.16066309809684753, 0.16452698409557343, 0.15966595709323883, 0.1627819985151291, 0.16452698409557343, 0.15754705667495728, 0.15966595709323883, 0.15517885982990265, 0.15717312693595886, 0.1582949012517929, 0.15492957830429077, 0.15592670440673828, 0.16028916835784912, 0.15443101525306702, 0.14807428419589996, 0.14707715809345245, 0.15430636703968048, 0.1475757211446762, 0.15106569230556488, 0.1488221436738968, 0.1417175680398941, 0.14670322835445404, 0.15293531119823456, 0.14969462156295776, 0.14707715809345245, 0.14520752429962158, 0.14346253871917725, 0.1508163958787918, 0.14857284724712372, 0.14794965088367462, 0.1488221436738968, 0.15804561972618103, 0.1524367481470108, 0.1514396071434021]}\n"
          ]
        }
      ]
    }
  ],
  "metadata": {
    "accelerator": "GPU",
    "colab": {
      "collapsed_sections": [],
      "name": "Opponent Modelling.ipynb",
      "provenance": [],
      "include_colab_link": true
    },
    "kernelspec": {
      "display_name": "Python 3",
      "name": "python3"
    },
    "language_info": {
      "name": "python"
    }
  },
  "nbformat": 4,
  "nbformat_minor": 0
}