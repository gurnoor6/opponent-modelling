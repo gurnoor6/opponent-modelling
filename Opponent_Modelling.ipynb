{
  "cells": [
    {
      "cell_type": "markdown",
      "metadata": {
        "id": "view-in-github",
        "colab_type": "text"
      },
      "source": [
        "<a href=\"https://colab.research.google.com/github/gurnoor6/opponent-modelling/blob/main/Opponent_Modelling.ipynb\" target=\"_parent\"><img src=\"https://colab.research.google.com/assets/colab-badge.svg\" alt=\"Open In Colab\"/></a>"
      ]
    },
    {
      "cell_type": "code",
      "execution_count": 1,
      "metadata": {
        "colab": {
          "base_uri": "https://localhost:8080/"
        },
        "id": "P8qm5R4EZ1y-",
        "outputId": "caccf0d1-0dd8-4f28-813d-de0c76abf6e6"
      },
      "outputs": [
        {
          "output_type": "stream",
          "name": "stdout",
          "text": [
            "9456\n",
            "304315.npz 430881.npz\n"
          ]
        }
      ],
      "source": [
        "import shutil, os\n",
        "filename_train = 'trout_logs'\n",
        "filename_validation = 'trout_logs'\n",
        "if os.path.exists(filename_train):\n",
        "  shutil.rmtree(filename_train)\n",
        "if os.path.exists(filename_validation):\n",
        "  shutil.rmtree(filename_validation)\n",
        "shutil.unpack_archive(f'{filename_train}.zip', './')\n",
        "filenames = os.listdir(filename_train)\n",
        "print(len(filenames))\n",
        "filenames.sort()\n",
        "train_filenames = filenames[:8500]\n",
        "val_filenames = filenames[8500:]\n",
        "print(train_filenames[0], val_filenames[0])"
      ]
    },
    {
      "cell_type": "code",
      "execution_count": 2,
      "metadata": {
        "colab": {
          "base_uri": "https://localhost:8080/"
        },
        "id": "hAl5gyGO0eRj",
        "outputId": "d8144b00-7e92-446c-beab-a07db492a90f"
      },
      "outputs": [
        {
          "output_type": "stream",
          "name": "stdout",
          "text": [
            "Num GPUs Available:  1\n",
            "Found GPU at: /device:GPU:0\n"
          ]
        }
      ],
      "source": [
        "import tensorflow as tf\n",
        "import tensorflow_datasets as tfds\n",
        "print(\"Num GPUs Available: \", len(tf.config.list_physical_devices('GPU')))\n",
        "device_name = tf.test.gpu_device_name()\n",
        "if device_name != '/device:GPU:0':\n",
        "  raise SystemError('GPU device not found')\n",
        "print('Found GPU at: {}'.format(device_name))"
      ]
    },
    {
      "cell_type": "code",
      "execution_count": 3,
      "metadata": {
        "id": "ru8caUd_UaAG"
      },
      "outputs": [],
      "source": [
        "# Constants\n",
        "T = 8 # Number of Timesteps for which boards are present in input\n",
        "N = 8 # board size\n",
        "HIDDEN_LAYER = 1 # hidden layer will be N * N * HIDDEN_LAYER neurons long\n",
        "OUTPUT_LAYER = 73 # output layer will be N * N * OUTPUT_LAYER neurons long\n",
        "BLOCKS = 10\n",
        "FILTERS = 128"
      ]
    },
    {
      "cell_type": "code",
      "execution_count": 4,
      "metadata": {
        "id": "LhS4zvoGFHDv"
      },
      "outputs": [],
      "source": [
        "import numpy as np\n",
        "\n",
        "class My_Custom_Generator(tf.keras.utils.Sequence) :\n",
        "  \n",
        "  def __init__(self, filenames, batch_size, randomize, folder_name) :\n",
        "    self.filenames = filenames\n",
        "    self.batch_size = batch_size\n",
        "    self.randomize = randomize\n",
        "    self.folder_name = folder_name\n",
        "    self.boards_per_game = 4\n",
        "    \n",
        "    \n",
        "  def __len__(self) :\n",
        "    return (np.ceil(len(self.filenames) / float(self.batch_size))).astype(int)\n",
        "  \n",
        "  \n",
        "  def __getitem__(self, idx) :\n",
        "    filenames = self.filenames[idx * self.batch_size : (idx+1) * self.batch_size]\n",
        "\n",
        "    inputs = []\n",
        "    outputs = []\n",
        "    legal_moves = []\n",
        "    for f in filenames:\n",
        "      if not f.endswith('.npz'): continue\n",
        "      loaded = np.load(os.path.join(self.folder_name, f))\n",
        "      length = len(loaded['inputs'])\n",
        "      index = np.random.choice(length, length,replace=False)\n",
        "      if self.randomize:\n",
        "        index = np.random.choice(length, min(self.boards_per_game, length), replace = False)\n",
        "      inputs.extend(loaded['inputs'][index])\n",
        "      outputs.extend(loaded['outputs'][index])\n",
        "      legal_moves.extend(loaded['legal_moves'][index])\n",
        "    \n",
        "    # Y_new = []\n",
        "    # for item in outputs: Y_new.append(item.flatten())\n",
        "    \n",
        "    # print(np.array(inputs).shape, np.array(Y_new).shape)\n",
        "    return (np.array(inputs), np.array(legal_moves)), np.array(outputs)"
      ]
    },
    {
      "cell_type": "code",
      "execution_count": 5,
      "metadata": {
        "id": "fGGgUwdHGyP4"
      },
      "outputs": [],
      "source": [
        "batch_size = 32\n",
        "\n",
        "training_generator = My_Custom_Generator(train_filenames, batch_size, True, filename_train)\n",
        "validation_generator = My_Custom_Generator(val_filenames, batch_size, False, filename_validation)"
      ]
    },
    {
      "cell_type": "code",
      "execution_count": 6,
      "metadata": {
        "colab": {
          "base_uri": "https://localhost:8080/"
        },
        "id": "Pmp43EBuE09A",
        "outputId": "143cfce6-7086-4ad2-b976-737316ef7e8f"
      },
      "outputs": [
        {
          "output_type": "stream",
          "name": "stdout",
          "text": [
            "Model: \"model\"\n",
            "__________________________________________________________________________________________________\n",
            " Layer (type)                   Output Shape         Param #     Connected to                     \n",
            "==================================================================================================\n",
            " input_1 (InputLayer)           [(None, 112, 8, 8)]  0           []                               \n",
            "                                                                                                  \n",
            " leaky_re_lu (LeakyReLU)        (None, 112, 8, 8)    0           ['input_1[0][0]']                \n",
            "                                                                                                  \n",
            " conv2d (Conv2D)                (None, 128, 8, 8)    129152      ['leaky_re_lu[0][0]']            \n",
            "                                                                                                  \n",
            " batch_normalization (BatchNorm  (None, 128, 8, 8)   32          ['conv2d[0][0]']                 \n",
            " alization)                                                                                       \n",
            "                                                                                                  \n",
            " leaky_re_lu_1 (LeakyReLU)      (None, 128, 8, 8)    0           ['batch_normalization[0][0]']    \n",
            "                                                                                                  \n",
            " conv2d_1 (Conv2D)              (None, 112, 8, 8)    129136      ['leaky_re_lu_1[0][0]']          \n",
            "                                                                                                  \n",
            " batch_normalization_1 (BatchNo  (None, 112, 8, 8)   32          ['conv2d_1[0][0]']               \n",
            " rmalization)                                                                                     \n",
            "                                                                                                  \n",
            " add (Add)                      (None, 112, 8, 8)    0           ['leaky_re_lu[0][0]',            \n",
            "                                                                  'batch_normalization_1[0][0]']  \n",
            "                                                                                                  \n",
            " leaky_re_lu_2 (LeakyReLU)      (None, 112, 8, 8)    0           ['add[0][0]']                    \n",
            "                                                                                                  \n",
            " conv2d_2 (Conv2D)              (None, 10, 8, 8)     10090       ['leaky_re_lu_2[0][0]']          \n",
            "                                                                                                  \n",
            " batch_normalization_2 (BatchNo  (None, 10, 8, 8)    32          ['conv2d_2[0][0]']               \n",
            " rmalization)                                                                                     \n",
            "                                                                                                  \n",
            " leaky_re_lu_3 (LeakyReLU)      (None, 10, 8, 8)     0           ['batch_normalization_2[0][0]']  \n",
            "                                                                                                  \n",
            " flatten (Flatten)              (None, 640)          0           ['leaky_re_lu_3[0][0]']          \n",
            "                                                                                                  \n",
            " dense (Dense)                  (None, 1858)         1190978     ['flatten[0][0]']                \n",
            "                                                                                                  \n",
            " input_2 (InputLayer)           [(None, 1858)]       0           []                               \n",
            "                                                                                                  \n",
            " softmax (Softmax)              (None, 1858)         0           ['dense[0][0]']                  \n",
            "                                                                                                  \n",
            "==================================================================================================\n",
            "Total params: 1,459,452\n",
            "Trainable params: 1,459,404\n",
            "Non-trainable params: 48\n",
            "__________________________________________________________________________________________________\n"
          ]
        }
      ],
      "source": [
        "inputs = tf.keras.Input(shape=(112, 8, 8))\n",
        "legal_moves_input = tf.keras.Input(shape = (1858))\n",
        "x1 = tf.keras.layers.LeakyReLU()(inputs)\n",
        "\n",
        "\n",
        "x = tf.keras.layers.Conv2D(128, (3, 3), activation=\"relu\", padding=\"same\", data_format = 'channels_first')(x1)\n",
        "x = tf.keras.layers.BatchNormalization()(x)\n",
        "x = tf.keras.layers.LeakyReLU()(x)\n",
        "\n",
        "x = tf.keras.layers.Conv2D(112, (3, 3), activation=\"relu\", padding=\"same\", data_format = 'channels_first')(x)\n",
        "x = tf.keras.layers.BatchNormalization()(x)\n",
        "\n",
        "added = tf.keras.layers.add([x1, x])\n",
        "x = tf.keras.layers.LeakyReLU()(added)\n",
        "\n",
        "x = tf.keras.layers.Conv2D(10, (3,3),activation=\"relu\", padding=\"same\", data_format = 'channels_first')(x)\n",
        "x = tf.keras.layers.BatchNormalization()(x)\n",
        "x = tf.keras.layers.LeakyReLU()(x)\n",
        "x = tf.keras.layers.Flatten()(x)\n",
        "x = tf.keras.layers.Dense(1858, activation = 'relu')(x)\n",
        "\n",
        "\n",
        "# x = tf.keras.layers.add([x, legal_moves_input])\n",
        "\n",
        "x = tf.keras.layers.Softmax()(x)\n",
        "model = tf.keras.Model(inputs = [inputs, legal_moves_input], outputs = x)\n",
        "model.summary()\n",
        "# tf.keras.utils.plot_model(model, \"multi_input_and_output_model.png\", show_shapes=True)"
      ]
    },
    {
      "cell_type": "code",
      "execution_count": 7,
      "metadata": {
        "id": "ESOyGRnH0xgR"
      },
      "outputs": [],
      "source": [
        "model.compile(\n",
        "    optimizer=tf.keras.optimizers.Adam(0.001),\n",
        "    # loss=tf.keras.losses.MeanSquaredError(),\n",
        "    loss=tf.keras.losses.CategoricalCrossentropy(),\n",
        "    metrics=[tf.keras.metrics.CategoricalAccuracy()],\n",
        ")"
      ]
    },
    {
      "cell_type": "code",
      "execution_count": 8,
      "metadata": {
        "colab": {
          "base_uri": "https://localhost:8080/"
        },
        "id": "Ur9OAs8lHI51",
        "outputId": "5410cd6e-17aa-4375-a6ec-476da1930428"
      },
      "outputs": [
        {
          "output_type": "stream",
          "name": "stderr",
          "text": [
            "/usr/local/lib/python3.7/dist-packages/ipykernel_launcher.py:6: UserWarning: `Model.fit_generator` is deprecated and will be removed in a future version. Please use `Model.fit`, which supports generators.\n",
            "  \n"
          ]
        },
        {
          "output_type": "stream",
          "name": "stdout",
          "text": [
            "Epoch 1/10\n",
            "265/265 [==============================] - 144s 522ms/step - loss: 4.4478 - categorical_accuracy: 0.3003 - val_loss: 5.4633 - val_categorical_accuracy: 0.2734\n",
            "Epoch 2/10\n",
            "265/265 [==============================] - 136s 512ms/step - loss: 3.8970 - categorical_accuracy: 0.3720 - val_loss: 4.6565 - val_categorical_accuracy: 0.3007\n",
            "Epoch 3/10\n",
            "265/265 [==============================] - 135s 510ms/step - loss: 3.7477 - categorical_accuracy: 0.3979 - val_loss: 4.5640 - val_categorical_accuracy: 0.3142\n",
            "Epoch 4/10\n",
            "265/265 [==============================] - 136s 513ms/step - loss: 3.6813 - categorical_accuracy: 0.4086 - val_loss: 4.5435 - val_categorical_accuracy: 0.3235\n",
            "Epoch 5/10\n",
            "265/265 [==============================] - 137s 517ms/step - loss: 3.5857 - categorical_accuracy: 0.4206 - val_loss: 4.5009 - val_categorical_accuracy: 0.3236\n",
            "Epoch 6/10\n",
            "265/265 [==============================] - 135s 512ms/step - loss: 3.5728 - categorical_accuracy: 0.4234 - val_loss: 4.4613 - val_categorical_accuracy: 0.3282\n",
            "Epoch 7/10\n",
            "265/265 [==============================] - 136s 513ms/step - loss: 3.5296 - categorical_accuracy: 0.4304 - val_loss: 4.4279 - val_categorical_accuracy: 0.3293\n",
            "Epoch 8/10\n",
            "265/265 [==============================] - 135s 508ms/step - loss: 3.4618 - categorical_accuracy: 0.4368 - val_loss: 4.3896 - val_categorical_accuracy: 0.3346\n",
            "Epoch 9/10\n",
            "265/265 [==============================] - 135s 509ms/step - loss: 3.4646 - categorical_accuracy: 0.4375 - val_loss: 4.4010 - val_categorical_accuracy: 0.3273\n",
            "Epoch 10/10\n",
            "265/265 [==============================] - 135s 509ms/step - loss: 3.4358 - categorical_accuracy: 0.4407 - val_loss: 4.3999 - val_categorical_accuracy: 0.3346\n"
          ]
        }
      ],
      "source": [
        "history = model.fit_generator(generator=training_generator,\n",
        "                   steps_per_epoch = int(len(train_filenames) // batch_size),\n",
        "                   epochs = 10,\n",
        "                   verbose = 1,\n",
        "                   validation_data = validation_generator,\n",
        "                   validation_steps = int(min(1000, len(val_filenames)) // batch_size)  # Use only 1000 samples for validation\n",
        "                  )"
      ]
    },
    {
      "cell_type": "code",
      "execution_count": 9,
      "metadata": {
        "colab": {
          "base_uri": "https://localhost:8080/",
          "height": 312
        },
        "id": "-J1ZAE5s8tqb",
        "outputId": "fb4ca66b-62fc-46db-f52e-3ffce2d90c35"
      },
      "outputs": [
        {
          "output_type": "execute_result",
          "data": {
            "text/plain": [
              "[<matplotlib.lines.Line2D at 0x7fe890256a10>]"
            ]
          },
          "metadata": {},
          "execution_count": 9
        },
        {
          "output_type": "display_data",
          "data": {
            "text/plain": [
              "<Figure size 432x288 with 1 Axes>"
            ],
            "image/png": "[encoded data removed]"
          },
          "metadata": {
            "needs_background": "light"
          }
        }
      ],
      "source": [
        "# Plot the loss a sa function of number of epochs\n",
        "import matplotlib.pyplot as plt\n",
        "plt.title('Training Loss')\n",
        "plt.xlabel('epochs')\n",
        "plt.ylabel('Cross Entropy loss')\n",
        "plt.plot(list(map(lambda x: x+1, range(len(history.history['loss'])))),  history.history['loss'])"
      ]
    },
    {
      "cell_type": "code",
      "execution_count": 10,
      "metadata": {
        "colab": {
          "base_uri": "https://localhost:8080/",
          "height": 312
        },
        "id": "5xGRMhZmisMR",
        "outputId": "4cbad286-aa0f-40cf-f319-d742d8f8937b"
      },
      "outputs": [
        {
          "output_type": "execute_result",
          "data": {
            "text/plain": [
              "[<matplotlib.lines.Line2D at 0x7fe890146c10>]"
            ]
          },
          "metadata": {},
          "execution_count": 10
        },
        {
          "output_type": "display_data",
          "data": {
            "text/plain": [
              "<Figure size 432x288 with 1 Axes>"
            ],
            "image/png": "[encoded data removed]"
          },
          "metadata": {
            "needs_background": "light"
          }
        }
      ],
      "source": [
        "plt.title('Training Accuracy')\n",
        "plt.xlabel('epochs')\n",
        "plt.ylabel('Accuracy')\n",
        "plt.plot(list(map(lambda x: x+1, range(len(history.history['categorical_accuracy'])))),  history.history['categorical_accuracy'])"
      ]
    },
    {
      "cell_type": "code",
      "execution_count": 11,
      "metadata": {
        "colab": {
          "base_uri": "https://localhost:8080/",
          "height": 312
        },
        "id": "lZFfRfr4Bq32",
        "outputId": "290322eb-2ca4-4eff-bbb1-934f21ea8fca"
      },
      "outputs": [
        {
          "output_type": "execute_result",
          "data": {
            "text/plain": [
              "[<matplotlib.lines.Line2D at 0x7fe8900bc6d0>]"
            ]
          },
          "metadata": {},
          "execution_count": 11
        },
        {
          "output_type": "display_data",
          "data": {
            "text/plain": [
              "<Figure size 432x288 with 1 Axes>"
            ],
            "image/png": "[encoded data removed]"
          },
          "metadata": {
            "needs_background": "light"
          }
        }
      ],
      "source": [
        "# Plot the loss a sa function of number of epochs\n",
        "plt.title('Validation Loss')\n",
        "plt.xlabel('epochs')\n",
        "plt.ylabel('Cross Entropy  loss')\n",
        "plt.plot(list(map(lambda x: x+1, range(len(history.history['val_loss'])))),  history.history['val_loss'])"
      ]
    },
    {
      "cell_type": "code",
      "execution_count": 12,
      "metadata": {
        "colab": {
          "base_uri": "https://localhost:8080/",
          "height": 312
        },
        "id": "-4UDQNLIi5w1",
        "outputId": "bcb66fd4-2e57-4491-fe1d-baeca94429d7"
      },
      "outputs": [
        {
          "output_type": "execute_result",
          "data": {
            "text/plain": [
              "[<matplotlib.lines.Line2D at 0x7fe89009f0d0>]"
            ]
          },
          "metadata": {},
          "execution_count": 12
        },
        {
          "output_type": "display_data",
          "data": {
            "text/plain": [
              "<Figure size 432x288 with 1 Axes>"
            ],
            "image/png": "[encoded data removed]"
          },
          "metadata": {
            "needs_background": "light"
          }
        }
      ],
      "source": [
        "# Plot the loss a sa function of number of epochs\n",
        "plt.title('Validation Accuracy')\n",
        "plt.xlabel('epochs')\n",
        "plt.ylabel('Accuracy')\n",
        "plt.plot(list(map(lambda x: x+1, range(len(history.history['val_categorical_accuracy'])))),  history.history['val_categorical_accuracy'])"
      ]
    },
    {
      "cell_type": "code",
      "execution_count": 13,
      "metadata": {
        "colab": {
          "base_uri": "https://localhost:8080/"
        },
        "id": "Om3ur4YIBrA1",
        "outputId": "bc074a10-2d49-40f2-b161-b4847e2baf3b"
      },
      "outputs": [
        {
          "output_type": "stream",
          "name": "stdout",
          "text": [
            "{'loss': [4.447775363922119, 3.896965503692627, 3.747673511505127, 3.6812503337860107, 3.5857009887695312, 3.572762966156006, 3.5295612812042236, 3.4617538452148438, 3.464568853378296, 3.435835361480713], 'categorical_accuracy': [0.3003300428390503, 0.37199780344963074, 0.3979036808013916, 0.40857553482055664, 0.42056846618652344, 0.4233895540237427, 0.43040913343429565, 0.4368181526660919, 0.4375038146972656, 0.440651535987854], 'val_loss': [5.4632887840271, 4.65654993057251, 4.564028263092041, 4.543471336364746, 4.500876426696777, 4.461265563964844, 4.4278740882873535, 4.389632225036621, 4.400974273681641, 4.399864673614502], 'val_categorical_accuracy': [0.2734487056732178, 0.3006575405597687, 0.3141863942146301, 0.3234827220439911, 0.3235583007335663, 0.32816869020462036, 0.3293024003505707, 0.3345929980278015, 0.3273373246192932, 0.3345929980278015]}\n"
          ]
        }
      ],
      "source": [
        "print(history.history)"
      ]
    },
    {
      "cell_type": "code",
      "execution_count": 14,
      "metadata": {
        "id": "QCZ5xPh5G3cv",
        "colab": {
          "base_uri": "https://localhost:8080/",
          "height": 34
        },
        "outputId": "f632698d-6211-4512-e896-554e46df372b"
      },
      "outputs": [
        {
          "output_type": "stream",
          "name": "stdout",
          "text": [
            "INFO:tensorflow:Assets written to: saved-model/assets\n"
          ]
        },
        {
          "output_type": "display_data",
          "data": {
            "text/plain": [
              "<IPython.core.display.Javascript object>"
            ],
            "application/javascript": [
              "\n",
              "    async function download(id, filename, size) {\n",
              "      if (!google.colab.kernel.accessAllowed) {\n",
              "        return;\n",
              "      }\n",
              "      const div = document.createElement('div');\n",
              "      const label = document.createElement('label');\n",
              "      label.textContent = `Downloading \"${filename}\": `;\n",
              "      div.appendChild(label);\n",
              "      const progress = document.createElement('progress');\n",
              "      progress.max = size;\n",
              "      div.appendChild(progress);\n",
              "      document.body.appendChild(div);\n",
              "\n",
              "      const buffers = [];\n",
              "      let downloaded = 0;\n",
              "\n",
              "      const channel = await google.colab.kernel.comms.open(id);\n",
              "      // Send a message to notify the kernel that we're ready.\n",
              "      channel.send({})\n",
              "\n",
              "      for await (const message of channel.messages) {\n",
              "        // Send a message to notify the kernel that we're ready.\n",
              "        channel.send({})\n",
              "        if (message.buffers) {\n",
              "          for (const buffer of message.buffers) {\n",
              "            buffers.push(buffer);\n",
              "            downloaded += buffer.byteLength;\n",
              "            progress.value = downloaded;\n",
              "          }\n",
              "        }\n",
              "      }\n",
              "      const blob = new Blob(buffers, {type: 'application/binary'});\n",
              "      const a = document.createElement('a');\n",
              "      a.href = window.URL.createObjectURL(blob);\n",
              "      a.download = filename;\n",
              "      div.appendChild(a);\n",
              "      a.click();\n",
              "      div.remove();\n",
              "    }\n",
              "  "
            ]
          },
          "metadata": {}
        },
        {
          "output_type": "display_data",
          "data": {
            "text/plain": [
              "<IPython.core.display.Javascript object>"
            ],
            "application/javascript": [
              "download(\"download_9dcc0578-7cd7-481f-9d22-6f713684cd36\", \"saved-model.zip\", 15389446)"
            ]
          },
          "metadata": {}
        }
      ],
      "source": [
        "from google.colab import files\n",
        "\n",
        "folder_name = \"saved-model\"\n",
        "\n",
        "if os.path.exists(folder_name):\n",
        "  shutil.rmtree(folder_name)\n",
        "os.mkdir(folder_name)\n",
        "\n",
        "if os.path.exists(folder_name + \".zip\"):\n",
        "  os.remove(folder_name + \".zip\")\n",
        "model.save(folder_name)\n",
        "\n",
        "shutil.make_archive(folder_name, 'zip', folder_name)\n",
        "files.download(folder_name + \".zip\")"
      ]
    }
  ],
  "metadata": {
    "accelerator": "GPU",
    "colab": {
      "collapsed_sections": [],
      "name": "Opponent Modelling.ipynb",
      "provenance": [],
      "include_colab_link": true
    },
    "kernelspec": {
      "display_name": "Python 3",
      "name": "python3"
    },
    "language_info": {
      "name": "python"
    }
  },
  "nbformat": 4,
  "nbformat_minor": 0
}