{
  "cells": [
    {
      "cell_type": "markdown",
      "metadata": {
        "id": "view-in-github",
        "colab_type": "text"
      },
      "source": [
        "<a href=\"https://colab.research.google.com/github/gurnoor6/opponent-modelling/blob/main/Copy_of_LC0_Opponent_Modelling.ipynb\" target=\"_parent\"><img src=\"https://colab.research.google.com/assets/colab-badge.svg\" alt=\"Open In Colab\"/></a>"
      ]
    },
    {
      "cell_type": "code",
      "source": [
        "from google.colab import drive\n",
        "drive.mount('/content/drive')"
      ],
      "metadata": {
        "colab": {
          "base_uri": "https://localhost:8080/"
        },
        "id": "daaAx0kVBHwI",
        "outputId": "b7bd849f-7ec6-476b-9fc0-21de7582b4f9"
      },
      "execution_count": 1,
      "outputs": [
        {
          "output_type": "stream",
          "name": "stdout",
          "text": [
            "Drive already mounted at /content/drive; to attempt to forcibly remount, call drive.mount(\"/content/drive\", force_remount=True).\n"
          ]
        }
      ]
    },
    {
      "cell_type": "code",
      "source": [
        "import os\n",
        "os.listdir('/content/drive/MyDrive/rbc')"
      ],
      "metadata": {
        "colab": {
          "base_uri": "https://localhost:8080/"
        },
        "id": "DD9WgvPxBV7S",
        "outputId": "997b95d8-725b-4f5b-9bcf-717bb0fa05d4"
      },
      "execution_count": 2,
      "outputs": [
        {
          "output_type": "execute_result",
          "data": {
            "text/plain": [
              "['trout_logs.tar.gz',\n",
              " 'validation.zip',\n",
              " 'train.zip',\n",
              " 'train',\n",
              " '__MACOSX',\n",
              " 'validation',\n",
              " 'trained_model.pb.gz',\n",
              " 'lczero-training',\n",
              " 'strangefish_train.zip',\n",
              " 'strangefish_train']"
            ]
          },
          "metadata": {},
          "execution_count": 2
        }
      ]
    },
    {
      "cell_type": "code",
      "execution_count": 3,
      "metadata": {
        "id": "gGVSSfr4dmdF",
        "colab": {
          "base_uri": "https://localhost:8080/"
        },
        "outputId": "3aa18fad-1a58-490e-b9a4-d4738a55d064"
      },
      "outputs": [
        {
          "output_type": "stream",
          "name": "stdout",
          "text": [
            "6500\n",
            "['344335.npz', '346072.npz', '334740.npz', '348082.npz', '326446.npz', '322114.npz', '338269.npz', '348153.npz', '318241.npz', '328921.npz', '343065.npz', '345404.npz', '342871.npz', '343038.npz', '341131.npz', '342567.npz', '329291.npz', '344217.npz', '320999.npz', '330693.npz', '334298.npz', '351380.npz', '326980.npz', '326010.npz', '338146.npz', '345427.npz', '321815.npz', '345254.npz', '344193.npz', '322066.npz', '346980.npz', '317993.npz', '346572.npz', '329247.npz', '333139.npz', '347651.npz', '340088.npz', '324952.npz', '325768.npz', '324358.npz', '321445.npz', '331666.npz', '339899.npz', '333765.npz', '327398.npz', '324070.npz', '320176.npz', '320788.npz', '349100.npz', '348332.npz', '329841.npz', '341485.npz', '322708.npz', '339048.npz', '338598.npz', '340656.npz', '321187.npz', '349357.npz', '333180.npz', '335898.npz', '329012.npz', '321850.npz', '317510.npz', '346743.npz', '343473.npz', '332521.npz', '341879.npz', '322846.npz', '325319.npz', '322824.npz', '318222.npz', '322915.npz', '337386.npz', '349498.npz', '320646.npz', '339686.npz', '317045.npz', '337066.npz', '349265.npz', '342193.npz', '323277.npz', '333206.npz', '332251.npz', '340882.npz', '329696.npz', '329712.npz', '347859.npz', '320453.npz', '338007.npz', '331289.npz', '321889.npz', '345857.npz', '351068.npz', '325561.npz', '349947.npz', '347028.npz', '318751.npz', '351003.npz', '318922.npz', '322651.npz', '318188.npz', '349313.npz', '335801.npz', '322822.npz', '323454.npz', '336480.npz', '321682.npz', '343604.npz', '350727.npz', '329771.npz', '321987.npz', '348674.npz', '349409.npz', '323788.npz', '323658.npz', '332012.npz', '340792.npz', '347393.npz', '328585.npz', '329429.npz', '347905.npz', '331403.npz', '325708.npz', '343354.npz', '344672.npz', '350593.npz', '327215.npz', '317896.npz', '344574.npz', '347564.npz', '324962.npz', '341653.npz', '324582.npz', '318526.npz', '336280.npz', '327052.npz', '322781.npz', '319164.npz', '332615.npz', '330531.npz', '329200.npz', '319861.npz', '325354.npz', '343638.npz', '321078.npz', '339604.npz', '340091.npz', '324709.npz', '336715.npz', '344409.npz', '349071.npz', '350644.npz', '325651.npz', '347917.npz', '342592.npz', '350714.npz', '334738.npz', '318079.npz', '336476.npz', '335880.npz', '338741.npz', '336297.npz', '321481.npz', '330984.npz', '340693.npz', '331293.npz', '340805.npz', '325837.npz', '318205.npz', '333563.npz', '330103.npz', '331515.npz', '347940.npz', '346994.npz', '319419.npz', '334982.npz', '319370.npz', '321312.npz', '317628.npz', '336156.npz', '346731.npz', '317228.npz', '317225.npz', '334616.npz', '319070.npz', '321718.npz', '342816.npz', '340054.npz', '339560.npz', '336864.npz', '340725.npz', '317409.npz', '340396.npz', '320292.npz', '333840.npz', '341424.npz', '338364.npz', '325929.npz', '335018.npz', '350002.npz', '317740.npz', '333416.npz', '342684.npz', '324017.npz', '344818.npz', '335899.npz', '341407.npz', '318180.npz', '325976.npz', '344810.npz', '337798.npz', '322145.npz', '339851.npz', '327537.npz', '347753.npz', '338557.npz', '341284.npz', '342653.npz', '336446.npz', '343286.npz', '341359.npz', '328227.npz', '334785.npz', '317671.npz', '338997.npz', '349641.npz', '331773.npz', '345300.npz', '335137.npz', '347416.npz', '329649.npz', '341905.npz', '326906.npz', '323299.npz', '326694.npz', '317857.npz', '324096.npz', '338474.npz', '332801.npz', '345004.npz', '347250.npz', '341602.npz', '318453.npz', '350493.npz', '319461.npz', '328111.npz', '324798.npz', '326589.npz', '334327.npz', '320627.npz', '345246.npz', '319744.npz', '321747.npz', '325436.npz', '325852.npz', '328752.npz', '318021.npz', '325805.npz', '326486.npz', '346330.npz', '325740.npz', '321781.npz', '338885.npz', '344028.npz', '321175.npz', '318427.npz', '342656.npz', '332445.npz', '327683.npz', '325860.npz', '326688.npz', '345929.npz', '320762.npz', '323094.npz', '336259.npz', '317700.npz', '317778.npz', '345780.npz', '341147.npz', '319668.npz', '321371.npz', '341714.npz', '341211.npz', '349707.npz', '347190.npz', '329882.npz', '347868.npz', '338305.npz', '343812.npz', '350411.npz', '319835.npz', '349136.npz', '347462.npz', '328675.npz', '319295.npz', '328909.npz', '334122.npz', '318832.npz', '337224.npz', '317975.npz', '348229.npz', '330880.npz', '319545.npz', '340506.npz', '326130.npz', '319408.npz', '339983.npz', '348951.npz', '339005.npz', '350854.npz', '345850.npz', '318273.npz', '337424.npz', '317450.npz', '335208.npz', '349141.npz', '347226.npz', '339631.npz', '326765.npz', '318046.npz', '319674.npz', '316799.npz', '348896.npz', '323972.npz', '321647.npz', '343308.npz', '330888.npz', '339663.npz', '318870.npz', '346443.npz', '319587.npz', '333700.npz', '351062.npz', '344005.npz', '348019.npz', '320982.npz', '321527.npz', '338172.npz', '327613.npz', '347047.npz', '318927.npz', '323267.npz', '331249.npz', '346565.npz', '350741.npz', '351011.npz', '336095.npz', '350468.npz', '328547.npz', '320514.npz', '348505.npz', '316822.npz', '319908.npz', '346785.npz', '348812.npz', '342365.npz', '338228.npz', '347522.npz', '344945.npz', '350445.npz', '336076.npz', '332485.npz', '327127.npz', '338278.npz', '347638.npz', '348349.npz', '328688.npz', '319000.npz', '345906.npz', '338593.npz', '321474.npz', '331067.npz', '336561.npz', '339915.npz', '330958.npz', '349727.npz', '328794.npz', '328110.npz', '325104.npz', '347780.npz', '326264.npz', '337211.npz', '318384.npz', '325618.npz', '347657.npz', '326382.npz', '339832.npz', '334992.npz', '326565.npz', '319916.npz', '318053.npz', '334699.npz', '347693.npz', '331176.npz', '324021.npz', '322852.npz', '346269.npz', '338829.npz', '318892.npz', '333766.npz', '338861.npz', '321882.npz', '346960.npz', '346255.npz', '334827.npz', '324627.npz', '334321.npz', '336355.npz', '346114.npz', '319945.npz', '325840.npz', '333641.npz', '345205.npz', '338509.npz', '326868.npz', '342507.npz', '322533.npz', '341299.npz', '349078.npz', '341795.npz', '320527.npz', '325127.npz', '326680.npz', '328444.npz', '334200.npz', '340502.npz', '346985.npz', '349612.npz', '316928.npz', '351448.npz', '332053.npz', '331616.npz', '351009.npz', '322102.npz', '350846.npz', '343124.npz', '339164.npz', '341812.npz', '332253.npz', '319131.npz', '324039.npz', '324857.npz', '323812.npz', '334124.npz', '348795.npz', '340407.npz', '347175.npz', '333695.npz', '331364.npz', '346621.npz', '349739.npz', '342476.npz', '330764.npz', '332393.npz', '349844.npz', '331086.npz', '344468.npz', '332782.npz', '347271.npz', '333582.npz', '327739.npz', '343010.npz', '342910.npz', '341684.npz', '327275.npz', '350942.npz', '317060.npz', '336150.npz', '325405.npz', '323638.npz', '338993.npz', '348145.npz', '349979.npz', '323593.npz', '338942.npz', '335710.npz', '323876.npz', '339044.npz', '327316.npz', '325272.npz', '349779.npz', '341639.npz', '345567.npz', '349216.npz', '345727.npz', '319487.npz', '339237.npz', '341887.npz', '346507.npz', '325452.npz', '351013.npz', '320804.npz', '335207.npz', '318838.npz', '339394.npz', '327119.npz', '348107.npz', '349337.npz', '329532.npz', '343464.npz', '317078.npz', '331206.npz', '323648.npz', '323563.npz', '335621.npz', '333202.npz', '324002.npz', '333788.npz', '339672.npz', '325785.npz', '329892.npz', '321614.npz', '317492.npz', '321554.npz', '333525.npz', '347472.npz', '337065.npz', '341183.npz', '327405.npz', '320698.npz', '334195.npz', '316940.npz', '349379.npz', '341036.npz', '344330.npz', '339624.npz', '327907.npz', '346950.npz', '319887.npz', '339172.npz', '345587.npz', '334983.npz', '344612.npz', '321751.npz', '340787.npz', '341439.npz', '320965.npz', '322774.npz', '333902.npz', '340940.npz', '329099.npz', '317313.npz', '321711.npz', '349681.npz', '345735.npz', '344341.npz', '341751.npz', '323659.npz', '330532.npz', '329249.npz', '337035.npz', '329189.npz', '317263.npz', '351014.npz', '333946.npz', '347979.npz', '337100.npz', '331453.npz', '335089.npz', '319169.npz', '347951.npz', '340618.npz', '319228.npz', '335627.npz', '343332.npz', '340039.npz', '340748.npz', '338066.npz', '319659.npz', '317396.npz', '334815.npz', '338654.npz', '342398.npz', '338564.npz', '349451.npz', '319961.npz', '330698.npz', '342400.npz', '337855.npz', '328343.npz', '343729.npz', '336456.npz', '334905.npz', '342535.npz', '342190.npz']\n",
            "585\n"
          ]
        }
      ],
      "source": [
        "import shutil\n",
        "import os\n",
        "import numpy as np\n",
        "import random\n",
        "\n",
        "# keep the logs unzipped in a folder in drive itself\n",
        "# enter path to that folder in log_files_path\n",
        "# no need to unzip everytime\n",
        "log_files_path = '/content/drive/MyDrive/rbc'\n",
        "os.chdir(log_files_path)\n",
        "train_set = 'strangefish_train'\n",
        "all_files = os.listdir(train_set)\n",
        "random.shuffle(all_files)\n",
        "train_filenames = all_files[:6500]\n",
        "print(len(train_filenames))\n",
        "\n",
        "validation_set = 'strangefish_train'\n",
        "validation_filenames = all_files[6500:]\n",
        "print(validation_filenames)\n",
        "print(len(validation_filenames))"
      ]
    },
    {
      "cell_type": "code",
      "execution_count": 4,
      "metadata": {
        "colab": {
          "base_uri": "https://localhost:8080/"
        },
        "id": "WqLZEFOoShKP",
        "outputId": "12c4ebfa-48ec-478c-8e7c-3596d83fc4d9"
      },
      "outputs": [
        {
          "output_type": "stream",
          "name": "stdout",
          "text": [
            "['weights_run2_790389.pb.gz', 'net.proto', 'update_steps.py', 'model_to_net.py', 'start.sh', 'make_model.py', 'net_to_model.py', 'chunkparsefunc.py', 'lc0_az_policy_map.py', 'decode_training.py', 'chunkparser.py', 'attention_policy_map.py', 'requirements.txt', 'shufflebuffer.py', 'policy_index.py', 'train.py', 'TK-6430 aka 128x10-BPR-64M-6430000.pb.gz', 'model_plot.png', 'loading_lc0.ipynb', 'net.pb.h', 'net.pb.cc', 'net_pb2.py', 'LC0_Opponent_Modelling.ipynb', '.DS_Store', 'details_from_weights_file.py', 'net.py', 'tfprocess.py', 'configs', 'leelalogs', '__pycache__']\n"
          ]
        }
      ],
      "source": [
        "# keep lczero-training unzipped in a folder in drive\n",
        "# use that instead of unzipping everytime\n",
        "import shutil, os\n",
        "os.chdir(\"/content/drive/MyDrive/rbc/lczero-training/tf\")\n",
        "print(os.listdir())"
      ]
    },
    {
      "cell_type": "code",
      "execution_count": 5,
      "metadata": {
        "id": "eq7SRJx1GWVz"
      },
      "outputs": [],
      "source": [
        "\n",
        "weights_file_name = \"TK-6430 aka 128x10-BPR-64M-6430000.pb.gz\""
      ]
    },
    {
      "cell_type": "code",
      "execution_count": 6,
      "metadata": {
        "colab": {
          "base_uri": "https://localhost:8080/"
        },
        "id": "K0YgqYV1T_Qg",
        "outputId": "a4ed7bf2-f2c1-4b74-be17-83002f1c34b7"
      },
      "outputs": [
        {
          "output_type": "stream",
          "name": "stdout",
          "text": [
            "{'filters': 128, 'residual_blocks': 10, 'se_ratio': 4, 'policy': 'convolution', 'pol_embedding_size': 64, 'pol_encoder_layers': 0, 'pol_encoder_heads': 0, 'pol_encoder_d_model': 32, 'pol_encoder_dff': 128, 'policy_d_model': 64, 'value': 'wdl', 'moves_left': 'none'}\n",
            "INFO:tensorflow:Using MirroredStrategy with devices ('/job:localhost/replica:0/task:0/device:GPU:0',)\n",
            "INFO:tensorflow:Reduce to /job:localhost/replica:0/task:0/device:CPU:0 then broadcast to ('/job:localhost/replica:0/task:0/device:CPU:0',).\n",
            "INFO:tensorflow:Reduce to /job:localhost/replica:0/task:0/device:CPU:0 then broadcast to ('/job:localhost/replica:0/task:0/device:CPU:0',).\n",
            "INFO:tensorflow:Reduce to /job:localhost/replica:0/task:0/device:CPU:0 then broadcast to ('/job:localhost/replica:0/task:0/device:CPU:0',).\n",
            "INFO:tensorflow:Reduce to /job:localhost/replica:0/task:0/device:CPU:0 then broadcast to ('/job:localhost/replica:0/task:0/device:CPU:0',).\n",
            "INFO:tensorflow:Reduce to /job:localhost/replica:0/task:0/device:CPU:0 then broadcast to ('/job:localhost/replica:0/task:0/device:CPU:0',).\n",
            "INFO:tensorflow:Reduce to /job:localhost/replica:0/task:0/device:CPU:0 then broadcast to ('/job:localhost/replica:0/task:0/device:CPU:0',).\n",
            "INFO:tensorflow:Reduce to /job:localhost/replica:0/task:0/device:CPU:0 then broadcast to ('/job:localhost/replica:0/task:0/device:CPU:0',).\n",
            "INFO:tensorflow:Reduce to /job:localhost/replica:0/task:0/device:CPU:0 then broadcast to ('/job:localhost/replica:0/task:0/device:CPU:0',).\n",
            "INFO:tensorflow:Reduce to /job:localhost/replica:0/task:0/device:CPU:0 then broadcast to ('/job:localhost/replica:0/task:0/device:CPU:0',).\n",
            "INFO:tensorflow:Reduce to /job:localhost/replica:0/task:0/device:CPU:0 then broadcast to ('/job:localhost/replica:0/task:0/device:CPU:0',).\n",
            "Blocks: 10\n",
            "Filters: 128\n",
            "pblczero.Net.magic: 448\n",
            "pblczero.Net.license: \n",
            "pblczero.EngineVersion.major: 0\n",
            "pblczero.EngineVersion.minor: 21\n",
            "pblczero.EngineVersion.patch: 0\n",
            "pblczero.Format.weights_encoding: LINEAR16\n",
            "pblczero.NetworkFormat.input: INPUT_CLASSICAL_112_PLANE\n",
            "pblczero.NetworkFormat.output: OUTPUT_WDL\n",
            "pblczero.NetworkFormat.network: NETWORK_SE_WITH_HEADFORMAT\n",
            "pblczero.NetworkFormat.policy: POLICY_CONVOLUTION\n",
            "pblczero.NetworkFormat.value: VALUE_WDL\n",
            "pblczero.NetworkFormat.moves_left: MOVES_LEFT_NONE\n",
            "pblczero.NetworkFormat.default_activation: DEFAULT_ACTIVATION_RELU\n",
            "pblczero.TrainingParams.training_steps: 6430000\n",
            "pblczero.TrainingParams.learning_rate: 9.999999747378752e-05\n",
            "pblczero.TrainingParams.mse_loss: 0.09407615661621094\n",
            "pblczero.TrainingParams.policy_loss: 1.8348811864852905\n",
            "pblczero.TrainingParams.accuracy: 59.87109375\n",
            "pblczero.TrainingParams.lc0_params: \n",
            "\n"
          ]
        }
      ],
      "source": [
        "import yaml\n",
        "import tensorflow as tf\n",
        "#tf.compat.v1.disable_eager_execution()\n",
        "\n",
        "from tfprocess import TFProcess\n",
        "if os.path.exists(f\"configs/{weights_file_name}.yaml\"):\n",
        "  print(yaml.safe_load(open(f\"configs/{weights_file_name}.yaml\").read())['model'])\n",
        "  tfprocess = TFProcess(yaml.safe_load(open(f\"configs/{weights_file_name}.yaml\").read()))\n",
        "else:\n",
        "  print(yaml.safe_load(open(f\"configs/example.yaml\").read()))\n",
        "  tfprocess = TFProcess(yaml.safe_load(open(f\"configs/example.yaml\").read())['model'])\n",
        "tfprocess.init_net()\n",
        "tfprocess.replace_weights(f\"{weights_file_name}\", ignore_errors = False)"
      ]
    },
    {
      "cell_type": "code",
      "execution_count": 7,
      "metadata": {
        "colab": {
          "base_uri": "https://localhost:8080/"
        },
        "id": "Zyu0va9liq7R",
        "outputId": "9e2971b2-5ae2-4d19-d623-0d1cc263d643"
      },
      "outputs": [
        {
          "output_type": "stream",
          "name": "stdout",
          "text": [
            "KerasTensor(type_spec=TensorSpec(shape=(None, 112, 8, 8), dtype=tf.float32, name='input_1'), name='input_1', description=\"created by layer 'input_1'\")\n",
            "KerasTensor(type_spec=TensorSpec(shape=(None, 1858), dtype=tf.float32, name=None), name='apply_policy_map/MatMul:0', description=\"created by layer 'apply_policy_map'\")\n"
          ]
        }
      ],
      "source": [
        "print(tfprocess.model.input)\n",
        "print(tfprocess.model.output)"
      ]
    },
    {
      "cell_type": "code",
      "source": [
        "import numpy as np\n",
        "\n",
        "class My_Custom_Generator(tf.keras.utils.Sequence) :\n",
        "  \n",
        "  def __init__(self, filenames, batch_size, randomize, folder_name) :\n",
        "    self.filenames = filenames\n",
        "    self.batch_size = batch_size\n",
        "    self.randomize = randomize\n",
        "    self.folder_name = folder_name\n",
        "    self.boards_per_game = 4\n",
        "    \n",
        "    \n",
        "  def __len__(self) :\n",
        "    return (np.ceil(len(self.filenames) / float(self.batch_size))).astype(int)\n",
        "  \n",
        "  \n",
        "  def __getitem__(self, idx) :\n",
        "    filenames = self.filenames[idx * self.batch_size : (idx+1) * self.batch_size]\n",
        "\n",
        "    inputs = []\n",
        "    outputs = []\n",
        "    legal_moves = []\n",
        "    for f in filenames:\n",
        "      if not f.endswith('.npz'): continue\n",
        "      loaded = np.load(os.path.join(self.folder_name, f))\n",
        "      if 'inputs.npy' in loaded._files and 'outputs.npy' in loaded._files and 'legal_moves.npy' in loaded._files:\n",
        "        length = len(loaded['inputs'])\n",
        "        index = np.random.choice(length, length,replace=False)\n",
        "        if self.randomize:\n",
        "          index = np.random.choice(length, min(self.boards_per_game, length), replace = False)\n",
        "        inputs.extend(loaded['inputs'][index])\n",
        "        outputs.extend(loaded['outputs'][index])\n",
        "        legal_moves.extend(loaded['legal_moves'][index])\n",
        "    \n",
        "    # Y_new = []\n",
        "    # for item in outputs: Y_new.append(item.flatten())\n",
        "    \n",
        "    # print(np.array(inputs).shape, np.array(Y_new).shape)\n",
        "    return (np.array(inputs), np.array(legal_moves)), np.array(outputs)"
      ],
      "metadata": {
        "id": "bQpt_3vpLhJL"
      },
      "execution_count": 8,
      "outputs": []
    },
    {
      "cell_type": "code",
      "source": [
        "batch_size = 64\n",
        "\n",
        "training_generator = My_Custom_Generator(train_filenames, batch_size, True, train_set)\n",
        "validation_generator = My_Custom_Generator(validation_filenames, batch_size, False, validation_set)"
      ],
      "metadata": {
        "id": "Zb6885s6Lkqn"
      },
      "execution_count": 9,
      "outputs": []
    },
    {
      "cell_type": "code",
      "execution_count": 10,
      "metadata": {
        "id": "he0eV3bssay0"
      },
      "outputs": [],
      "source": [
        "from keras.utils.vis_utils import plot_model\n",
        "\n",
        "\n",
        "\n",
        "input_1 = tfprocess.model.input\n",
        "input_2 = tf.keras.Input(shape = (1858))\n",
        "\n",
        "# Remove illegal first then softmax over remaining\n",
        "outputs = tfprocess.model.output\n",
        "output_1 = outputs\n",
        "output_2 = tf.keras.layers.Softmax()(output_1)\n",
        "illegal_filler = tf.zeros_like(output_2) - 1e-10\n",
        "output_3 = tf.where(tf.cast(input_2, bool), output_2, illegal_filler)\n",
        "output_4 = tf.keras.layers.Lambda(lambda x: tf.math.divide(x, tf.math.reduce_sum(x)))(output_3)\n",
        "\n",
        "\n",
        "# illegal_filler = tf.zeros_like(output_2) - 20\n",
        "# output_2 = tf.where(tf.cast(input_2, bool), output_1, illegal_filler)\n",
        "# output_3 = tf.keras.layers.Softmax()(output_2)\n",
        "# output_3 = tf.keras.layers.Multiply()([input_2, output_2])\n",
        "# output_3 = tf.where(tf.cast(input_2, bool), output_2, tf.expand_dims(tf.constant(1e-9 * np.ones(1858, dtype = 'float32')), 0))\n",
        "\n",
        "# output = tf.keras.layers.Lambda(lambda x: tf.math.divide(x, tf.linalg.norm(x, ord=1)))(output_3)\n",
        "# output = tf.keras.layers.Lambda(lambda x: tf.math.divide(x, tf.math.reduce_sum(x)))(output_3)\n",
        "\n",
        "model = tf.keras.Model(inputs = [input_1, input_2], outputs = output_4)\n",
        "# model = tf.keras.Model(inputs = input_1, outputs = output_1)\n",
        "# model.summary()\n",
        "# plot_model(model, to_file='model_plot.png', show_shapes=True, show_layer_names=True)"
      ]
    },
    {
      "cell_type": "code",
      "execution_count": 11,
      "metadata": {
        "colab": {
          "base_uri": "https://localhost:8080/"
        },
        "id": "mdHaMmrLBVg9",
        "outputId": "514c8d7a-7a2e-41e6-8ecb-8d37d55f36b3"
      },
      "outputs": [
        {
          "output_type": "stream",
          "name": "stdout",
          "text": [
            "Num GPUs Available:  1\n",
            "Device Name = /device:GPU:0\n",
            "Found GPU at: /device:GPU:0\n"
          ]
        }
      ],
      "source": [
        "import tensorflow as tf\n",
        "import tensorflow_datasets as tfds\n",
        "print(\"Num GPUs Available: \", len(tf.config.list_physical_devices('GPU')))\n",
        "device_name = tf.test.gpu_device_name()\n",
        "print(\"Device Name =\", device_name)\n",
        "if device_name != '/device:GPU:0':\n",
        "  raise SystemError('GPU device not found')\n",
        "print('Found GPU at: {}'.format(device_name))"
      ]
    },
    {
      "cell_type": "code",
      "execution_count": 12,
      "metadata": {
        "id": "TqMszKbeBs6t",
        "colab": {
          "base_uri": "https://localhost:8080/"
        },
        "outputId": "a266f572-6da5-48bd-ad07-9fd10d46e243"
      },
      "outputs": [
        {
          "output_type": "stream",
          "name": "stdout",
          "text": [
            "1 Physical GPUs, 1 Logical GPU\n"
          ]
        }
      ],
      "source": [
        "gpus = tf.config.list_physical_devices('GPU')\n",
        "if gpus:\n",
        "  # Restrict TensorFlow to only use the first GPU\n",
        "  try:\n",
        "    tf.config.set_visible_devices(gpus[0], 'GPU')\n",
        "    logical_gpus = tf.config.list_logical_devices('GPU')\n",
        "    print(len(gpus), \"Physical GPUs,\", len(logical_gpus), \"Logical GPU\")\n",
        "  except RuntimeError as e:\n",
        "    # Visible devices must be set before GPUs have been initialized\n",
        "    print(e)"
      ]
    },
    {
      "cell_type": "code",
      "execution_count": 13,
      "metadata": {
        "id": "rrCbBWtwehVt"
      },
      "outputs": [],
      "source": [
        "os.chdir(\"/content/drive/MyDrive/rbc\") # nullify effect of previous chdir"
      ]
    },
    {
      "cell_type": "code",
      "execution_count": 14,
      "metadata": {
        "id": "P3tbHJ3DevCK"
      },
      "outputs": [],
      "source": [
        "model.compile(\n",
        "    optimizer=tf.keras.optimizers.Adam(0.0001),\n",
        "    loss=tf.keras.losses.CategoricalCrossentropy(),\n",
        "    metrics=[tf.keras.metrics.CategoricalAccuracy()],\n",
        ")"
      ]
    },
    {
      "cell_type": "code",
      "execution_count": 15,
      "metadata": {
        "id": "KDiyBt-9n10o"
      },
      "outputs": [],
      "source": [
        "is_value_head = False"
      ]
    },
    {
      "cell_type": "code",
      "source": [
        "model.evaluate(validation_generator, steps = int(len(validation_filenames) // batch_size))"
      ],
      "metadata": {
        "colab": {
          "base_uri": "https://localhost:8080/"
        },
        "id": "n8YBwQVGS5ux",
        "outputId": "f1b03376-c568-474d-8a50-2950fecc8409"
      },
      "execution_count": 16,
      "outputs": [
        {
          "output_type": "stream",
          "name": "stdout",
          "text": [
            "9/9 [==============================] - 21s 2s/step - loss: 9.1367 - categorical_accuracy: 0.1950\n"
          ]
        },
        {
          "output_type": "execute_result",
          "data": {
            "text/plain": [
              "[9.136724472045898, 0.1949794441461563]"
            ]
          },
          "metadata": {},
          "execution_count": 16
        }
      ]
    },
    {
      "cell_type": "code",
      "execution_count": 17,
      "metadata": {
        "id": "7rPUjbTGSWMU",
        "colab": {
          "base_uri": "https://localhost:8080/"
        },
        "outputId": "3f2a591b-9570-44db-c873-44ecccb7a571"
      },
      "outputs": [
        {
          "output_type": "stream",
          "name": "stderr",
          "text": [
            "/usr/local/lib/python3.7/dist-packages/ipykernel_launcher.py:26: UserWarning: `Model.fit_generator` is deprecated and will be removed in a future version. Please use `Model.fit`, which supports generators.\n"
          ]
        },
        {
          "output_type": "stream",
          "name": "stdout",
          "text": [
            "Epoch 1/20\n",
            "101/101 [==============================] - 117s 1s/step - loss: 2.5432 - categorical_accuracy: 0.3642 - val_loss: 4.4723 - val_categorical_accuracy: 0.2283\n",
            "Epoch 2/20\n",
            "101/101 [==============================] - 102s 1s/step - loss: 2.1392 - categorical_accuracy: 0.4669 - val_loss: 4.3215 - val_categorical_accuracy: 0.2782\n",
            "Epoch 3/20\n",
            "101/101 [==============================] - 112s 1s/step - loss: 2.0510 - categorical_accuracy: 0.4919 - val_loss: 4.1919 - val_categorical_accuracy: 0.3187\n",
            "Epoch 4/20\n",
            "101/101 [==============================] - 104s 1s/step - loss: 1.9628 - categorical_accuracy: 0.5090 - val_loss: 3.8408 - val_categorical_accuracy: 0.3304\n",
            "Epoch 5/20\n",
            "101/101 [==============================] - 104s 1s/step - loss: 1.9304 - categorical_accuracy: 0.5193 - val_loss: 4.1287 - val_categorical_accuracy: 0.3501\n",
            "Epoch 6/20\n",
            "101/101 [==============================] - 104s 1s/step - loss: 1.8914 - categorical_accuracy: 0.5299 - val_loss: 3.5305 - val_categorical_accuracy: 0.3583\n",
            "Epoch 7/20\n",
            "101/101 [==============================] - 104s 1s/step - loss: 1.8541 - categorical_accuracy: 0.5403 - val_loss: 3.6815 - val_categorical_accuracy: 0.3600\n",
            "Epoch 8/20\n",
            "101/101 [==============================] - 104s 1s/step - loss: 1.8365 - categorical_accuracy: 0.5411 - val_loss: 4.0405 - val_categorical_accuracy: 0.3592\n",
            "Epoch 9/20\n",
            "101/101 [==============================] - 104s 1s/step - loss: 1.8021 - categorical_accuracy: 0.5563 - val_loss: 3.1896 - val_categorical_accuracy: 0.3618\n",
            "Epoch 10/20\n",
            "101/101 [==============================] - 104s 1s/step - loss: 1.7712 - categorical_accuracy: 0.5621 - val_loss: 3.2108 - val_categorical_accuracy: 0.3658\n",
            "Epoch 11/20\n",
            "101/101 [==============================] - 104s 1s/step - loss: 1.7456 - categorical_accuracy: 0.5713 - val_loss: 3.2561 - val_categorical_accuracy: 0.3725\n",
            "Epoch 12/20\n",
            "101/101 [==============================] - 103s 1s/step - loss: 1.7352 - categorical_accuracy: 0.5768 - val_loss: 3.1909 - val_categorical_accuracy: 0.3639\n",
            "Epoch 13/20\n",
            "101/101 [==============================] - 105s 1s/step - loss: 1.6908 - categorical_accuracy: 0.5839 - val_loss: 3.4907 - val_categorical_accuracy: 0.3651\n",
            "Epoch 14/20\n",
            "101/101 [==============================] - 104s 1s/step - loss: 1.6771 - categorical_accuracy: 0.5949 - val_loss: 3.2874 - val_categorical_accuracy: 0.3732\n",
            "Epoch 15/20\n",
            "101/101 [==============================] - 104s 1s/step - loss: 1.6597 - categorical_accuracy: 0.5953 - val_loss: 3.4583 - val_categorical_accuracy: 0.3689\n",
            "Epoch 16/20\n",
            "101/101 [==============================] - 104s 1s/step - loss: 1.6667 - categorical_accuracy: 0.5993 - val_loss: 3.3800 - val_categorical_accuracy: 0.3802\n",
            "Epoch 17/20\n",
            "101/101 [==============================] - 103s 1s/step - loss: 1.6228 - categorical_accuracy: 0.6113 - val_loss: 3.4793 - val_categorical_accuracy: 0.3774\n",
            "Epoch 18/20\n",
            "101/101 [==============================] - 102s 1s/step - loss: 1.6018 - categorical_accuracy: 0.6125 - val_loss: 3.0688 - val_categorical_accuracy: 0.3799\n",
            "Epoch 19/20\n",
            "101/101 [==============================] - 102s 1s/step - loss: 1.5967 - categorical_accuracy: 0.6179 - val_loss: 3.3024 - val_categorical_accuracy: 0.3853\n",
            "Epoch 20/20\n",
            "101/101 [==============================] - 102s 1s/step - loss: 1.5724 - categorical_accuracy: 0.6238 - val_loss: 3.1588 - val_categorical_accuracy: 0.3788\n"
          ]
        }
      ],
      "source": [
        "if is_value_head:\n",
        "  history = model.fit(\n",
        "    inputs,\n",
        "    [\n",
        "      outputs,\n",
        "      value_outputs\n",
        "    ],\n",
        "    epochs = 10,\n",
        "  )\n",
        "else:\n",
        "  # history = model.fit(\n",
        "  #   [\n",
        "  #    inputs,\n",
        "  #    legal_moves\n",
        "  #   ],\n",
        "  #   outputs,\n",
        "  #   validation_data = ((validation_inputs, validation_legal_moves), validation_outputs,),\n",
        "  #   epochs = 20,\n",
        "  # )\n",
        "  history = model.fit_generator(\n",
        "      generator=training_generator,\n",
        "      steps_per_epoch = int(len(train_filenames) // batch_size),\n",
        "      epochs = 20,\n",
        "      verbose = 1,\n",
        "      validation_data = validation_generator,\n",
        "      validation_steps = int(len(validation_filenames) // batch_size)  # Use only 1000 samples for validation\n",
        "    )"
      ]
    },
    {
      "cell_type": "code",
      "execution_count": 18,
      "metadata": {
        "id": "dQDcDaTQUPOp",
        "colab": {
          "base_uri": "https://localhost:8080/",
          "height": 1000
        },
        "outputId": "3619c5cd-7c30-4780-ef95-fb50e668934d"
      },
      "outputs": [
        {
          "output_type": "execute_result",
          "data": {
            "text/plain": [
              "[<matplotlib.lines.Line2D at 0x7f79b7adf6d0>]"
            ]
          },
          "metadata": {},
          "execution_count": 18
        },
        {
          "output_type": "display_data",
          "data": {
            "text/plain": [
              "<Figure size 432x288 with 1 Axes>"
            ],
            "image/png": "[encoded data removed]"
          },
          "metadata": {
            "needs_background": "light"
          }
        },
        {
          "output_type": "display_data",
          "data": {
            "text/plain": [
              "<Figure size 432x288 with 1 Axes>"
            ],
            "image/png": "[encoded data removed]"
          },
          "metadata": {
            "needs_background": "light"
          }
        },
        {
          "output_type": "display_data",
          "data": {
            "text/plain": [
              "<Figure size 432x288 with 1 Axes>"
            ],
            "image/png": "[encoded data removed]"
          },
          "metadata": {
            "needs_background": "light"
          }
        },
        {
          "output_type": "display_data",
          "data": {
            "text/plain": [
              "<Figure size 432x288 with 1 Axes>"
            ],
            "image/png": "[encoded data removed]"
          },
          "metadata": {
            "needs_background": "light"
          }
        }
      ],
      "source": [
        "# Plot the loss a sa function of number of epochs\n",
        "import matplotlib.pyplot as plt\n",
        "\n",
        "# plt.subplot(2, 2, 1)\n",
        "plt.figure()\n",
        "plt.title('Training Loss')\n",
        "plt.xlabel('epochs')\n",
        "plt.ylabel('Cross Entropy loss')\n",
        "plt.plot(list(map(lambda x: x+1, range(len(history.history['loss'])))),  history.history['loss'])\n",
        "\n",
        "# plt.subplot(2, 2, 2)\n",
        "plt.figure()\n",
        "plt.title('Training Accuracy')\n",
        "plt.xlabel('epochs')\n",
        "plt.ylabel('Accuracy')\n",
        "plt.plot(list(map(lambda x: x+1, range(len(history.history['categorical_accuracy'])))),  history.history['categorical_accuracy'])\n",
        "\n",
        "# plt.subplot(2, 2, 3)\n",
        "plt.figure()\n",
        "# Plot the loss a sa function of number of epochs\n",
        "plt.title('Validation Loss')\n",
        "plt.xlabel('epochs')\n",
        "plt.ylabel('Cross Entropy loss')\n",
        "plt.plot(list(map(lambda x: x+1, range(len(history.history['val_loss'])))),  history.history['val_loss'])\n",
        "\n",
        "# plt.subplot(2, 2, 4)\n",
        "plt.figure()\n",
        "plt.title('Validation Accuracy')\n",
        "plt.xlabel('epochs')\n",
        "plt.ylabel('Accuracy')\n",
        "plt.plot(list(map(lambda x: x+1, range(len(history.history['val_categorical_accuracy'])))),  history.history['val_categorical_accuracy'])"
      ]
    },
    {
      "cell_type": "code",
      "source": [
        "# Saving Model in lc0 format\n",
        "from google.colab import files\n",
        "model.layers.pop()\n",
        "model.layers.pop()\n",
        "model.layers.pop()\n",
        "model.layers.pop()\n",
        "model.layers.pop()\n",
        "model.layers.pop()\n",
        "model.summary() # Check that input2, softmax and where layer are removed only. \n",
        "tfprocess.model = model\n",
        "tfprocess.save_leelaz_weights('trained_model.pb.gz')\n",
        "files.download('trained_model.pb.gz')"
      ],
      "metadata": {
        "id": "07PL8XUyxJQH",
        "colab": {
          "base_uri": "https://localhost:8080/",
          "height": 1000
        },
        "outputId": "201c361d-f431-4d09-8101-400c36b86b27"
      },
      "execution_count": 19,
      "outputs": [
        {
          "output_type": "stream",
          "name": "stdout",
          "text": [
            "Model: \"model_1\"\n",
            "__________________________________________________________________________________________________\n",
            " Layer (type)                   Output Shape         Param #     Connected to                     \n",
            "==================================================================================================\n",
            " input_1 (InputLayer)           [(None, 112, 8, 8)]  0           []                               \n",
            "                                                                                                  \n",
            " input/conv2d (Conv2D)          (None, 128, 8, 8)    129024      ['input_1[0][0]']                \n",
            "                                                                                                  \n",
            " input/bn (BatchNormalization)  (None, 128, 8, 8)    512         ['input/conv2d[0][0]']           \n",
            "                                                                                                  \n",
            " activation (Activation)        (None, 128, 8, 8)    0           ['input/bn[0][0]']               \n",
            "                                                                                                  \n",
            " residual_1/1/conv2d (Conv2D)   (None, 128, 8, 8)    147456      ['activation[0][0]']             \n",
            "                                                                                                  \n",
            " residual_1/1/bn (BatchNormaliz  (None, 128, 8, 8)   384         ['residual_1/1/conv2d[0][0]']    \n",
            " ation)                                                                                           \n",
            "                                                                                                  \n",
            " activation_1 (Activation)      (None, 128, 8, 8)    0           ['residual_1/1/bn[0][0]']        \n",
            "                                                                                                  \n",
            " residual_1/2/conv2d (Conv2D)   (None, 128, 8, 8)    147456      ['activation_1[0][0]']           \n",
            "                                                                                                  \n",
            " residual_1/2/bn (BatchNormaliz  (None, 128, 8, 8)   512         ['residual_1/2/conv2d[0][0]']    \n",
            " ation)                                                                                           \n",
            "                                                                                                  \n",
            " global_average_pooling2d (Glob  (None, 128)         0           ['residual_1/2/bn[0][0]']        \n",
            " alAveragePooling2D)                                                                              \n",
            "                                                                                                  \n",
            " residual_1/se/se/dense1 (Dense  (None, 32)          4128        ['global_average_pooling2d[0][0]'\n",
            " )                                                               ]                                \n",
            "                                                                                                  \n",
            " activation_2 (Activation)      (None, 32)           0           ['residual_1/se/se/dense1[0][0]']\n",
            "                                                                                                  \n",
            " residual_1/se/se/dense2 (Dense  (None, 256)         8448        ['activation_2[0][0]']           \n",
            " )                                                                                                \n",
            "                                                                                                  \n",
            " apply_squeeze_excitation (Appl  (None, 128, 8, 8)   0           ['residual_1/2/bn[0][0]',        \n",
            " ySqueezeExcitation)                                              'residual_1/se/se/dense2[0][0]']\n",
            "                                                                                                  \n",
            " add (Add)                      (None, 128, 8, 8)    0           ['activation[0][0]',             \n",
            "                                                                  'apply_squeeze_excitation[0][0]'\n",
            "                                                                 ]                                \n",
            "                                                                                                  \n",
            " activation_3 (Activation)      (None, 128, 8, 8)    0           ['add[0][0]']                    \n",
            "                                                                                                  \n",
            " residual_2/1/conv2d (Conv2D)   (None, 128, 8, 8)    147456      ['activation_3[0][0]']           \n",
            "                                                                                                  \n",
            " residual_2/1/bn (BatchNormaliz  (None, 128, 8, 8)   384         ['residual_2/1/conv2d[0][0]']    \n",
            " ation)                                                                                           \n",
            "                                                                                                  \n",
            " activation_4 (Activation)      (None, 128, 8, 8)    0           ['residual_2/1/bn[0][0]']        \n",
            "                                                                                                  \n",
            " residual_2/2/conv2d (Conv2D)   (None, 128, 8, 8)    147456      ['activation_4[0][0]']           \n",
            "                                                                                                  \n",
            " residual_2/2/bn (BatchNormaliz  (None, 128, 8, 8)   512         ['residual_2/2/conv2d[0][0]']    \n",
            " ation)                                                                                           \n",
            "                                                                                                  \n",
            " global_average_pooling2d_1 (Gl  (None, 128)         0           ['residual_2/2/bn[0][0]']        \n",
            " obalAveragePooling2D)                                                                            \n",
            "                                                                                                  \n",
            " residual_2/se/se/dense1 (Dense  (None, 32)          4128        ['global_average_pooling2d_1[0][0\n",
            " )                                                               ]']                              \n",
            "                                                                                                  \n",
            " activation_5 (Activation)      (None, 32)           0           ['residual_2/se/se/dense1[0][0]']\n",
            "                                                                                                  \n",
            " residual_2/se/se/dense2 (Dense  (None, 256)         8448        ['activation_5[0][0]']           \n",
            " )                                                                                                \n",
            "                                                                                                  \n",
            " apply_squeeze_excitation_1 (Ap  (None, 128, 8, 8)   0           ['residual_2/2/bn[0][0]',        \n",
            " plySqueezeExcitation)                                            'residual_2/se/se/dense2[0][0]']\n",
            "                                                                                                  \n",
            " add_1 (Add)                    (None, 128, 8, 8)    0           ['activation_3[0][0]',           \n",
            "                                                                  'apply_squeeze_excitation_1[0][0\n",
            "                                                                 ]']                              \n",
            "                                                                                                  \n",
            " activation_6 (Activation)      (None, 128, 8, 8)    0           ['add_1[0][0]']                  \n",
            "                                                                                                  \n",
            " residual_3/1/conv2d (Conv2D)   (None, 128, 8, 8)    147456      ['activation_6[0][0]']           \n",
            "                                                                                                  \n",
            " residual_3/1/bn (BatchNormaliz  (None, 128, 8, 8)   384         ['residual_3/1/conv2d[0][0]']    \n",
            " ation)                                                                                           \n",
            "                                                                                                  \n",
            " activation_7 (Activation)      (None, 128, 8, 8)    0           ['residual_3/1/bn[0][0]']        \n",
            "                                                                                                  \n",
            " residual_3/2/conv2d (Conv2D)   (None, 128, 8, 8)    147456      ['activation_7[0][0]']           \n",
            "                                                                                                  \n",
            " residual_3/2/bn (BatchNormaliz  (None, 128, 8, 8)   512         ['residual_3/2/conv2d[0][0]']    \n",
            " ation)                                                                                           \n",
            "                                                                                                  \n",
            " global_average_pooling2d_2 (Gl  (None, 128)         0           ['residual_3/2/bn[0][0]']        \n",
            " obalAveragePooling2D)                                                                            \n",
            "                                                                                                  \n",
            " residual_3/se/se/dense1 (Dense  (None, 32)          4128        ['global_average_pooling2d_2[0][0\n",
            " )                                                               ]']                              \n",
            "                                                                                                  \n",
            " activation_8 (Activation)      (None, 32)           0           ['residual_3/se/se/dense1[0][0]']\n",
            "                                                                                                  \n",
            " residual_3/se/se/dense2 (Dense  (None, 256)         8448        ['activation_8[0][0]']           \n",
            " )                                                                                                \n",
            "                                                                                                  \n",
            " apply_squeeze_excitation_2 (Ap  (None, 128, 8, 8)   0           ['residual_3/2/bn[0][0]',        \n",
            " plySqueezeExcitation)                                            'residual_3/se/se/dense2[0][0]']\n",
            "                                                                                                  \n",
            " add_2 (Add)                    (None, 128, 8, 8)    0           ['activation_6[0][0]',           \n",
            "                                                                  'apply_squeeze_excitation_2[0][0\n",
            "                                                                 ]']                              \n",
            "                                                                                                  \n",
            " activation_9 (Activation)      (None, 128, 8, 8)    0           ['add_2[0][0]']                  \n",
            "                                                                                                  \n",
            " residual_4/1/conv2d (Conv2D)   (None, 128, 8, 8)    147456      ['activation_9[0][0]']           \n",
            "                                                                                                  \n",
            " residual_4/1/bn (BatchNormaliz  (None, 128, 8, 8)   384         ['residual_4/1/conv2d[0][0]']    \n",
            " ation)                                                                                           \n",
            "                                                                                                  \n",
            " activation_10 (Activation)     (None, 128, 8, 8)    0           ['residual_4/1/bn[0][0]']        \n",
            "                                                                                                  \n",
            " residual_4/2/conv2d (Conv2D)   (None, 128, 8, 8)    147456      ['activation_10[0][0]']          \n",
            "                                                                                                  \n",
            " residual_4/2/bn (BatchNormaliz  (None, 128, 8, 8)   512         ['residual_4/2/conv2d[0][0]']    \n",
            " ation)                                                                                           \n",
            "                                                                                                  \n",
            " global_average_pooling2d_3 (Gl  (None, 128)         0           ['residual_4/2/bn[0][0]']        \n",
            " obalAveragePooling2D)                                                                            \n",
            "                                                                                                  \n",
            " residual_4/se/se/dense1 (Dense  (None, 32)          4128        ['global_average_pooling2d_3[0][0\n",
            " )                                                               ]']                              \n",
            "                                                                                                  \n",
            " activation_11 (Activation)     (None, 32)           0           ['residual_4/se/se/dense1[0][0]']\n",
            "                                                                                                  \n",
            " residual_4/se/se/dense2 (Dense  (None, 256)         8448        ['activation_11[0][0]']          \n",
            " )                                                                                                \n",
            "                                                                                                  \n",
            " apply_squeeze_excitation_3 (Ap  (None, 128, 8, 8)   0           ['residual_4/2/bn[0][0]',        \n",
            " plySqueezeExcitation)                                            'residual_4/se/se/dense2[0][0]']\n",
            "                                                                                                  \n",
            " add_3 (Add)                    (None, 128, 8, 8)    0           ['activation_9[0][0]',           \n",
            "                                                                  'apply_squeeze_excitation_3[0][0\n",
            "                                                                 ]']                              \n",
            "                                                                                                  \n",
            " activation_12 (Activation)     (None, 128, 8, 8)    0           ['add_3[0][0]']                  \n",
            "                                                                                                  \n",
            " residual_5/1/conv2d (Conv2D)   (None, 128, 8, 8)    147456      ['activation_12[0][0]']          \n",
            "                                                                                                  \n",
            " residual_5/1/bn (BatchNormaliz  (None, 128, 8, 8)   384         ['residual_5/1/conv2d[0][0]']    \n",
            " ation)                                                                                           \n",
            "                                                                                                  \n",
            " activation_13 (Activation)     (None, 128, 8, 8)    0           ['residual_5/1/bn[0][0]']        \n",
            "                                                                                                  \n",
            " residual_5/2/conv2d (Conv2D)   (None, 128, 8, 8)    147456      ['activation_13[0][0]']          \n",
            "                                                                                                  \n",
            " residual_5/2/bn (BatchNormaliz  (None, 128, 8, 8)   512         ['residual_5/2/conv2d[0][0]']    \n",
            " ation)                                                                                           \n",
            "                                                                                                  \n",
            " global_average_pooling2d_4 (Gl  (None, 128)         0           ['residual_5/2/bn[0][0]']        \n",
            " obalAveragePooling2D)                                                                            \n",
            "                                                                                                  \n",
            " residual_5/se/se/dense1 (Dense  (None, 32)          4128        ['global_average_pooling2d_4[0][0\n",
            " )                                                               ]']                              \n",
            "                                                                                                  \n",
            " activation_14 (Activation)     (None, 32)           0           ['residual_5/se/se/dense1[0][0]']\n",
            "                                                                                                  \n",
            " residual_5/se/se/dense2 (Dense  (None, 256)         8448        ['activation_14[0][0]']          \n",
            " )                                                                                                \n",
            "                                                                                                  \n",
            " apply_squeeze_excitation_4 (Ap  (None, 128, 8, 8)   0           ['residual_5/2/bn[0][0]',        \n",
            " plySqueezeExcitation)                                            'residual_5/se/se/dense2[0][0]']\n",
            "                                                                                                  \n",
            " add_4 (Add)                    (None, 128, 8, 8)    0           ['activation_12[0][0]',          \n",
            "                                                                  'apply_squeeze_excitation_4[0][0\n",
            "                                                                 ]']                              \n",
            "                                                                                                  \n",
            " activation_15 (Activation)     (None, 128, 8, 8)    0           ['add_4[0][0]']                  \n",
            "                                                                                                  \n",
            " residual_6/1/conv2d (Conv2D)   (None, 128, 8, 8)    147456      ['activation_15[0][0]']          \n",
            "                                                                                                  \n",
            " residual_6/1/bn (BatchNormaliz  (None, 128, 8, 8)   384         ['residual_6/1/conv2d[0][0]']    \n",
            " ation)                                                                                           \n",
            "                                                                                                  \n",
            " activation_16 (Activation)     (None, 128, 8, 8)    0           ['residual_6/1/bn[0][0]']        \n",
            "                                                                                                  \n",
            " residual_6/2/conv2d (Conv2D)   (None, 128, 8, 8)    147456      ['activation_16[0][0]']          \n",
            "                                                                                                  \n",
            " residual_6/2/bn (BatchNormaliz  (None, 128, 8, 8)   512         ['residual_6/2/conv2d[0][0]']    \n",
            " ation)                                                                                           \n",
            "                                                                                                  \n",
            " global_average_pooling2d_5 (Gl  (None, 128)         0           ['residual_6/2/bn[0][0]']        \n",
            " obalAveragePooling2D)                                                                            \n",
            "                                                                                                  \n",
            " residual_6/se/se/dense1 (Dense  (None, 32)          4128        ['global_average_pooling2d_5[0][0\n",
            " )                                                               ]']                              \n",
            "                                                                                                  \n",
            " activation_17 (Activation)     (None, 32)           0           ['residual_6/se/se/dense1[0][0]']\n",
            "                                                                                                  \n",
            " residual_6/se/se/dense2 (Dense  (None, 256)         8448        ['activation_17[0][0]']          \n",
            " )                                                                                                \n",
            "                                                                                                  \n",
            " apply_squeeze_excitation_5 (Ap  (None, 128, 8, 8)   0           ['residual_6/2/bn[0][0]',        \n",
            " plySqueezeExcitation)                                            'residual_6/se/se/dense2[0][0]']\n",
            "                                                                                                  \n",
            " add_5 (Add)                    (None, 128, 8, 8)    0           ['activation_15[0][0]',          \n",
            "                                                                  'apply_squeeze_excitation_5[0][0\n",
            "                                                                 ]']                              \n",
            "                                                                                                  \n",
            " activation_18 (Activation)     (None, 128, 8, 8)    0           ['add_5[0][0]']                  \n",
            "                                                                                                  \n",
            " residual_7/1/conv2d (Conv2D)   (None, 128, 8, 8)    147456      ['activation_18[0][0]']          \n",
            "                                                                                                  \n",
            " residual_7/1/bn (BatchNormaliz  (None, 128, 8, 8)   384         ['residual_7/1/conv2d[0][0]']    \n",
            " ation)                                                                                           \n",
            "                                                                                                  \n",
            " activation_19 (Activation)     (None, 128, 8, 8)    0           ['residual_7/1/bn[0][0]']        \n",
            "                                                                                                  \n",
            " residual_7/2/conv2d (Conv2D)   (None, 128, 8, 8)    147456      ['activation_19[0][0]']          \n",
            "                                                                                                  \n",
            " residual_7/2/bn (BatchNormaliz  (None, 128, 8, 8)   512         ['residual_7/2/conv2d[0][0]']    \n",
            " ation)                                                                                           \n",
            "                                                                                                  \n",
            " global_average_pooling2d_6 (Gl  (None, 128)         0           ['residual_7/2/bn[0][0]']        \n",
            " obalAveragePooling2D)                                                                            \n",
            "                                                                                                  \n",
            " residual_7/se/se/dense1 (Dense  (None, 32)          4128        ['global_average_pooling2d_6[0][0\n",
            " )                                                               ]']                              \n",
            "                                                                                                  \n",
            " activation_20 (Activation)     (None, 32)           0           ['residual_7/se/se/dense1[0][0]']\n",
            "                                                                                                  \n",
            " residual_7/se/se/dense2 (Dense  (None, 256)         8448        ['activation_20[0][0]']          \n",
            " )                                                                                                \n",
            "                                                                                                  \n",
            " apply_squeeze_excitation_6 (Ap  (None, 128, 8, 8)   0           ['residual_7/2/bn[0][0]',        \n",
            " plySqueezeExcitation)                                            'residual_7/se/se/dense2[0][0]']\n",
            "                                                                                                  \n",
            " add_6 (Add)                    (None, 128, 8, 8)    0           ['activation_18[0][0]',          \n",
            "                                                                  'apply_squeeze_excitation_6[0][0\n",
            "                                                                 ]']                              \n",
            "                                                                                                  \n",
            " activation_21 (Activation)     (None, 128, 8, 8)    0           ['add_6[0][0]']                  \n",
            "                                                                                                  \n",
            " residual_8/1/conv2d (Conv2D)   (None, 128, 8, 8)    147456      ['activation_21[0][0]']          \n",
            "                                                                                                  \n",
            " residual_8/1/bn (BatchNormaliz  (None, 128, 8, 8)   384         ['residual_8/1/conv2d[0][0]']    \n",
            " ation)                                                                                           \n",
            "                                                                                                  \n",
            " activation_22 (Activation)     (None, 128, 8, 8)    0           ['residual_8/1/bn[0][0]']        \n",
            "                                                                                                  \n",
            " residual_8/2/conv2d (Conv2D)   (None, 128, 8, 8)    147456      ['activation_22[0][0]']          \n",
            "                                                                                                  \n",
            " residual_8/2/bn (BatchNormaliz  (None, 128, 8, 8)   512         ['residual_8/2/conv2d[0][0]']    \n",
            " ation)                                                                                           \n",
            "                                                                                                  \n",
            " global_average_pooling2d_7 (Gl  (None, 128)         0           ['residual_8/2/bn[0][0]']        \n",
            " obalAveragePooling2D)                                                                            \n",
            "                                                                                                  \n",
            " residual_8/se/se/dense1 (Dense  (None, 32)          4128        ['global_average_pooling2d_7[0][0\n",
            " )                                                               ]']                              \n",
            "                                                                                                  \n",
            " activation_23 (Activation)     (None, 32)           0           ['residual_8/se/se/dense1[0][0]']\n",
            "                                                                                                  \n",
            " residual_8/se/se/dense2 (Dense  (None, 256)         8448        ['activation_23[0][0]']          \n",
            " )                                                                                                \n",
            "                                                                                                  \n",
            " apply_squeeze_excitation_7 (Ap  (None, 128, 8, 8)   0           ['residual_8/2/bn[0][0]',        \n",
            " plySqueezeExcitation)                                            'residual_8/se/se/dense2[0][0]']\n",
            "                                                                                                  \n",
            " add_7 (Add)                    (None, 128, 8, 8)    0           ['activation_21[0][0]',          \n",
            "                                                                  'apply_squeeze_excitation_7[0][0\n",
            "                                                                 ]']                              \n",
            "                                                                                                  \n",
            " activation_24 (Activation)     (None, 128, 8, 8)    0           ['add_7[0][0]']                  \n",
            "                                                                                                  \n",
            " residual_9/1/conv2d (Conv2D)   (None, 128, 8, 8)    147456      ['activation_24[0][0]']          \n",
            "                                                                                                  \n",
            " residual_9/1/bn (BatchNormaliz  (None, 128, 8, 8)   384         ['residual_9/1/conv2d[0][0]']    \n",
            " ation)                                                                                           \n",
            "                                                                                                  \n",
            " activation_25 (Activation)     (None, 128, 8, 8)    0           ['residual_9/1/bn[0][0]']        \n",
            "                                                                                                  \n",
            " residual_9/2/conv2d (Conv2D)   (None, 128, 8, 8)    147456      ['activation_25[0][0]']          \n",
            "                                                                                                  \n",
            " residual_9/2/bn (BatchNormaliz  (None, 128, 8, 8)   512         ['residual_9/2/conv2d[0][0]']    \n",
            " ation)                                                                                           \n",
            "                                                                                                  \n",
            " global_average_pooling2d_8 (Gl  (None, 128)         0           ['residual_9/2/bn[0][0]']        \n",
            " obalAveragePooling2D)                                                                            \n",
            "                                                                                                  \n",
            " residual_9/se/se/dense1 (Dense  (None, 32)          4128        ['global_average_pooling2d_8[0][0\n",
            " )                                                               ]']                              \n",
            "                                                                                                  \n",
            " activation_26 (Activation)     (None, 32)           0           ['residual_9/se/se/dense1[0][0]']\n",
            "                                                                                                  \n",
            " residual_9/se/se/dense2 (Dense  (None, 256)         8448        ['activation_26[0][0]']          \n",
            " )                                                                                                \n",
            "                                                                                                  \n",
            " apply_squeeze_excitation_8 (Ap  (None, 128, 8, 8)   0           ['residual_9/2/bn[0][0]',        \n",
            " plySqueezeExcitation)                                            'residual_9/se/se/dense2[0][0]']\n",
            "                                                                                                  \n",
            " add_8 (Add)                    (None, 128, 8, 8)    0           ['activation_24[0][0]',          \n",
            "                                                                  'apply_squeeze_excitation_8[0][0\n",
            "                                                                 ]']                              \n",
            "                                                                                                  \n",
            " activation_27 (Activation)     (None, 128, 8, 8)    0           ['add_8[0][0]']                  \n",
            "                                                                                                  \n",
            " residual_10/1/conv2d (Conv2D)  (None, 128, 8, 8)    147456      ['activation_27[0][0]']          \n",
            "                                                                                                  \n",
            " residual_10/1/bn (BatchNormali  (None, 128, 8, 8)   384         ['residual_10/1/conv2d[0][0]']   \n",
            " zation)                                                                                          \n",
            "                                                                                                  \n",
            " activation_28 (Activation)     (None, 128, 8, 8)    0           ['residual_10/1/bn[0][0]']       \n",
            "                                                                                                  \n",
            " residual_10/2/conv2d (Conv2D)  (None, 128, 8, 8)    147456      ['activation_28[0][0]']          \n",
            "                                                                                                  \n",
            " residual_10/2/bn (BatchNormali  (None, 128, 8, 8)   512         ['residual_10/2/conv2d[0][0]']   \n",
            " zation)                                                                                          \n",
            "                                                                                                  \n",
            " global_average_pooling2d_9 (Gl  (None, 128)         0           ['residual_10/2/bn[0][0]']       \n",
            " obalAveragePooling2D)                                                                            \n",
            "                                                                                                  \n",
            " residual_10/se/se/dense1 (Dens  (None, 32)          4128        ['global_average_pooling2d_9[0][0\n",
            " e)                                                              ]']                              \n",
            "                                                                                                  \n",
            " activation_29 (Activation)     (None, 32)           0           ['residual_10/se/se/dense1[0][0]'\n",
            "                                                                 ]                                \n",
            "                                                                                                  \n",
            " residual_10/se/se/dense2 (Dens  (None, 256)         8448        ['activation_29[0][0]']          \n",
            " e)                                                                                               \n",
            "                                                                                                  \n",
            " apply_squeeze_excitation_9 (Ap  (None, 128, 8, 8)   0           ['residual_10/2/bn[0][0]',       \n",
            " plySqueezeExcitation)                                            'residual_10/se/se/dense2[0][0]'\n",
            "                                                                 ]                                \n",
            "                                                                                                  \n",
            " add_9 (Add)                    (None, 128, 8, 8)    0           ['activation_27[0][0]',          \n",
            "                                                                  'apply_squeeze_excitation_9[0][0\n",
            "                                                                 ]']                              \n",
            "                                                                                                  \n",
            " activation_30 (Activation)     (None, 128, 8, 8)    0           ['add_9[0][0]']                  \n",
            "                                                                                                  \n",
            " policy1/conv2d (Conv2D)        (None, 128, 8, 8)    147456      ['activation_30[0][0]']          \n",
            "                                                                                                  \n",
            " policy1/bn (BatchNormalization  (None, 128, 8, 8)   384         ['policy1/conv2d[0][0]']         \n",
            " )                                                                                                \n",
            "                                                                                                  \n",
            " activation_31 (Activation)     (None, 128, 8, 8)    0           ['policy1/bn[0][0]']             \n",
            "                                                                                                  \n",
            " policy (Conv2D)                (None, 80, 8, 8)     92240       ['activation_31[0][0]']          \n",
            "                                                                                                  \n",
            " apply_policy_map (ApplyPolicyM  (None, 1858)        0           ['policy[0][0]']                 \n",
            " ap)                                                                                              \n",
            "                                                                                                  \n",
            " softmax (Softmax)              (None, 1858)         0           ['apply_policy_map[0][0]']       \n",
            "                                                                                                  \n",
            " input_2 (InputLayer)           [(None, 1858)]       0           []                               \n",
            "                                                                                                  \n",
            " tf.zeros_like (TFOpLambda)     (None, 1858)         0           ['softmax[0][0]']                \n",
            "                                                                                                  \n",
            " tf.cast (TFOpLambda)           (None, 1858)         0           ['input_2[0][0]']                \n",
            "                                                                                                  \n",
            " tf.math.subtract (TFOpLambda)  (None, 1858)         0           ['tf.zeros_like[0][0]']          \n",
            "                                                                                                  \n",
            " tf.where (TFOpLambda)          (None, 1858)         0           ['tf.cast[0][0]',                \n",
            "                                                                  'softmax[0][0]',                \n",
            "                                                                  'tf.math.subtract[0][0]']       \n",
            "                                                                                                  \n",
            " lambda (Lambda)                (None, 1858)         0           ['tf.where[0][0]']               \n",
            "                                                                                                  \n",
            "==================================================================================================\n",
            "Total params: 3,453,456\n",
            "Trainable params: 3,447,824\n",
            "Non-trainable params: 5,632\n",
            "__________________________________________________________________________________________________\n",
            "Weights saved as 'trained_model.pb.gz' 6.11M\n"
          ]
        },
        {
          "output_type": "display_data",
          "data": {
            "text/plain": [
              "<IPython.core.display.Javascript object>"
            ],
            "application/javascript": [
              "\n",
              "    async function download(id, filename, size) {\n",
              "      if (!google.colab.kernel.accessAllowed) {\n",
              "        return;\n",
              "      }\n",
              "      const div = document.createElement('div');\n",
              "      const label = document.createElement('label');\n",
              "      label.textContent = `Downloading \"${filename}\": `;\n",
              "      div.appendChild(label);\n",
              "      const progress = document.createElement('progress');\n",
              "      progress.max = size;\n",
              "      div.appendChild(progress);\n",
              "      document.body.appendChild(div);\n",
              "\n",
              "      const buffers = [];\n",
              "      let downloaded = 0;\n",
              "\n",
              "      const channel = await google.colab.kernel.comms.open(id);\n",
              "      // Send a message to notify the kernel that we're ready.\n",
              "      channel.send({})\n",
              "\n",
              "      for await (const message of channel.messages) {\n",
              "        // Send a message to notify the kernel that we're ready.\n",
              "        channel.send({})\n",
              "        if (message.buffers) {\n",
              "          for (const buffer of message.buffers) {\n",
              "            buffers.push(buffer);\n",
              "            downloaded += buffer.byteLength;\n",
              "            progress.value = downloaded;\n",
              "          }\n",
              "        }\n",
              "      }\n",
              "      const blob = new Blob(buffers, {type: 'application/binary'});\n",
              "      const a = document.createElement('a');\n",
              "      a.href = window.URL.createObjectURL(blob);\n",
              "      a.download = filename;\n",
              "      div.appendChild(a);\n",
              "      a.click();\n",
              "      div.remove();\n",
              "    }\n",
              "  "
            ]
          },
          "metadata": {}
        },
        {
          "output_type": "display_data",
          "data": {
            "text/plain": [
              "<IPython.core.display.Javascript object>"
            ],
            "application/javascript": [
              "download(\"download_0435771c-fd11-4c6e-845e-1a47efce161a\", \"trained_model.pb.gz\", 6405175)"
            ]
          },
          "metadata": {}
        }
      ]
    },
    {
      "cell_type": "code",
      "execution_count": 20,
      "metadata": {
        "id": "butFmkx3ZFC9"
      },
      "outputs": [],
      "source": [
        "# from google.colab import files\n",
        "\n",
        "# folder_name = \"saved-model\"\n",
        "\n",
        "# if os.path.exists(folder_name):\n",
        "#   shutil.rmtree(folder_name)\n",
        "# os.mkdir(folder_name)\n",
        "\n",
        "# if os.path.exists(folder_name + \".zip\"):\n",
        "#   os.remove(folder_name + \".zip\")\n",
        "# model.save(folder_name)\n",
        "\n",
        "# shutil.make_archive(folder_name, 'zip', folder_name)\n",
        "# files.download(folder_name + \".zip\") \n",
        "\n",
        "# if os.path.exists(folder_name):\n",
        "#   shutil.rmtree(folder_name)\n",
        "# os.mkdir(folder_name)\n",
        "\n",
        "\n",
        "# if os.path.exists(folder_name + \".pb.gz\"):\n",
        "#   os.remove(folder_name + \".pb.gz\")\n",
        "# tfprocess.model = model\n",
        "# tfprocess.save_leelaz_weights(folder_name)\n",
        "# files.download(folder_name + \".pb.gz\")"
      ]
    }
  ],
  "metadata": {
    "accelerator": "GPU",
    "colab": {
      "collapsed_sections": [],
      "name": "Copy of LC0 Opponent Modelling.ipynb",
      "provenance": [],
      "include_colab_link": true
    },
    "kernelspec": {
      "display_name": "Python 3",
      "name": "python3"
    },
    "language_info": {
      "name": "python"
    }
  },
  "nbformat": 4,
  "nbformat_minor": 0
}